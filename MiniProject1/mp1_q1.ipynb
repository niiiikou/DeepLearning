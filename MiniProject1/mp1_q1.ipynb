{
  "nbformat": 4,
  "nbformat_minor": 0,
  "metadata": {
    "colab": {
      "name": "mp1_q1(1).ipynb",
      "provenance": [],
      "collapsed_sections": []
    },
    "kernelspec": {
      "name": "python3",
      "display_name": "Python 3"
    },
    "language_info": {
      "name": "python"
    },
    "widgets": {
      "application/vnd.jupyter.widget-state+json": {
        "f677516f86b847ab912ca7cbe57666c5": {
          "model_module": "@jupyter-widgets/controls",
          "model_name": "HBoxModel",
          "model_module_version": "1.5.0",
          "state": {
            "_dom_classes": [],
            "_model_module": "@jupyter-widgets/controls",
            "_model_module_version": "1.5.0",
            "_model_name": "HBoxModel",
            "_view_count": null,
            "_view_module": "@jupyter-widgets/controls",
            "_view_module_version": "1.5.0",
            "_view_name": "HBoxView",
            "box_style": "",
            "children": [
              "IPY_MODEL_60bc0920039d4ca29cfc9c63b5487c78",
              "IPY_MODEL_22773c32fb3348d098129ae20c41109b",
              "IPY_MODEL_8c18cb7d42504a278e343e3fc6e71945"
            ],
            "layout": "IPY_MODEL_cc793c4b309a46f1b7c7364f797890e3"
          }
        },
        "60bc0920039d4ca29cfc9c63b5487c78": {
          "model_module": "@jupyter-widgets/controls",
          "model_name": "HTMLModel",
          "model_module_version": "1.5.0",
          "state": {
            "_dom_classes": [],
            "_model_module": "@jupyter-widgets/controls",
            "_model_module_version": "1.5.0",
            "_model_name": "HTMLModel",
            "_view_count": null,
            "_view_module": "@jupyter-widgets/controls",
            "_view_module_version": "1.5.0",
            "_view_name": "HTMLView",
            "description": "",
            "description_tooltip": null,
            "layout": "IPY_MODEL_43cac52790824ecfac192e357aa04902",
            "placeholder": "​",
            "style": "IPY_MODEL_529b663052884581b6b30ba2b4dd4521",
            "value": ""
          }
        },
        "22773c32fb3348d098129ae20c41109b": {
          "model_module": "@jupyter-widgets/controls",
          "model_name": "FloatProgressModel",
          "model_module_version": "1.5.0",
          "state": {
            "_dom_classes": [],
            "_model_module": "@jupyter-widgets/controls",
            "_model_module_version": "1.5.0",
            "_model_name": "FloatProgressModel",
            "_view_count": null,
            "_view_module": "@jupyter-widgets/controls",
            "_view_module_version": "1.5.0",
            "_view_name": "ProgressView",
            "bar_style": "success",
            "description": "",
            "description_tooltip": null,
            "layout": "IPY_MODEL_63bb8282ad294545ad0ed3f50a7350d5",
            "max": 170498071,
            "min": 0,
            "orientation": "horizontal",
            "style": "IPY_MODEL_58d5fdb23ce347c8b55226411e3d4934",
            "value": 170498071
          }
        },
        "8c18cb7d42504a278e343e3fc6e71945": {
          "model_module": "@jupyter-widgets/controls",
          "model_name": "HTMLModel",
          "model_module_version": "1.5.0",
          "state": {
            "_dom_classes": [],
            "_model_module": "@jupyter-widgets/controls",
            "_model_module_version": "1.5.0",
            "_model_name": "HTMLModel",
            "_view_count": null,
            "_view_module": "@jupyter-widgets/controls",
            "_view_module_version": "1.5.0",
            "_view_name": "HTMLView",
            "description": "",
            "description_tooltip": null,
            "layout": "IPY_MODEL_ab5f4452f0074057a7a537e40c33f663",
            "placeholder": "​",
            "style": "IPY_MODEL_ddeca9ef48b24e6d9818f492a2cbb00f",
            "value": " 170499072/? [00:06&lt;00:00, 35591140.70it/s]"
          }
        },
        "cc793c4b309a46f1b7c7364f797890e3": {
          "model_module": "@jupyter-widgets/base",
          "model_name": "LayoutModel",
          "model_module_version": "1.2.0",
          "state": {
            "_model_module": "@jupyter-widgets/base",
            "_model_module_version": "1.2.0",
            "_model_name": "LayoutModel",
            "_view_count": null,
            "_view_module": "@jupyter-widgets/base",
            "_view_module_version": "1.2.0",
            "_view_name": "LayoutView",
            "align_content": null,
            "align_items": null,
            "align_self": null,
            "border": null,
            "bottom": null,
            "display": null,
            "flex": null,
            "flex_flow": null,
            "grid_area": null,
            "grid_auto_columns": null,
            "grid_auto_flow": null,
            "grid_auto_rows": null,
            "grid_column": null,
            "grid_gap": null,
            "grid_row": null,
            "grid_template_areas": null,
            "grid_template_columns": null,
            "grid_template_rows": null,
            "height": null,
            "justify_content": null,
            "justify_items": null,
            "left": null,
            "margin": null,
            "max_height": null,
            "max_width": null,
            "min_height": null,
            "min_width": null,
            "object_fit": null,
            "object_position": null,
            "order": null,
            "overflow": null,
            "overflow_x": null,
            "overflow_y": null,
            "padding": null,
            "right": null,
            "top": null,
            "visibility": null,
            "width": null
          }
        },
        "43cac52790824ecfac192e357aa04902": {
          "model_module": "@jupyter-widgets/base",
          "model_name": "LayoutModel",
          "model_module_version": "1.2.0",
          "state": {
            "_model_module": "@jupyter-widgets/base",
            "_model_module_version": "1.2.0",
            "_model_name": "LayoutModel",
            "_view_count": null,
            "_view_module": "@jupyter-widgets/base",
            "_view_module_version": "1.2.0",
            "_view_name": "LayoutView",
            "align_content": null,
            "align_items": null,
            "align_self": null,
            "border": null,
            "bottom": null,
            "display": null,
            "flex": null,
            "flex_flow": null,
            "grid_area": null,
            "grid_auto_columns": null,
            "grid_auto_flow": null,
            "grid_auto_rows": null,
            "grid_column": null,
            "grid_gap": null,
            "grid_row": null,
            "grid_template_areas": null,
            "grid_template_columns": null,
            "grid_template_rows": null,
            "height": null,
            "justify_content": null,
            "justify_items": null,
            "left": null,
            "margin": null,
            "max_height": null,
            "max_width": null,
            "min_height": null,
            "min_width": null,
            "object_fit": null,
            "object_position": null,
            "order": null,
            "overflow": null,
            "overflow_x": null,
            "overflow_y": null,
            "padding": null,
            "right": null,
            "top": null,
            "visibility": null,
            "width": null
          }
        },
        "529b663052884581b6b30ba2b4dd4521": {
          "model_module": "@jupyter-widgets/controls",
          "model_name": "DescriptionStyleModel",
          "model_module_version": "1.5.0",
          "state": {
            "_model_module": "@jupyter-widgets/controls",
            "_model_module_version": "1.5.0",
            "_model_name": "DescriptionStyleModel",
            "_view_count": null,
            "_view_module": "@jupyter-widgets/base",
            "_view_module_version": "1.2.0",
            "_view_name": "StyleView",
            "description_width": ""
          }
        },
        "63bb8282ad294545ad0ed3f50a7350d5": {
          "model_module": "@jupyter-widgets/base",
          "model_name": "LayoutModel",
          "model_module_version": "1.2.0",
          "state": {
            "_model_module": "@jupyter-widgets/base",
            "_model_module_version": "1.2.0",
            "_model_name": "LayoutModel",
            "_view_count": null,
            "_view_module": "@jupyter-widgets/base",
            "_view_module_version": "1.2.0",
            "_view_name": "LayoutView",
            "align_content": null,
            "align_items": null,
            "align_self": null,
            "border": null,
            "bottom": null,
            "display": null,
            "flex": null,
            "flex_flow": null,
            "grid_area": null,
            "grid_auto_columns": null,
            "grid_auto_flow": null,
            "grid_auto_rows": null,
            "grid_column": null,
            "grid_gap": null,
            "grid_row": null,
            "grid_template_areas": null,
            "grid_template_columns": null,
            "grid_template_rows": null,
            "height": null,
            "justify_content": null,
            "justify_items": null,
            "left": null,
            "margin": null,
            "max_height": null,
            "max_width": null,
            "min_height": null,
            "min_width": null,
            "object_fit": null,
            "object_position": null,
            "order": null,
            "overflow": null,
            "overflow_x": null,
            "overflow_y": null,
            "padding": null,
            "right": null,
            "top": null,
            "visibility": null,
            "width": null
          }
        },
        "58d5fdb23ce347c8b55226411e3d4934": {
          "model_module": "@jupyter-widgets/controls",
          "model_name": "ProgressStyleModel",
          "model_module_version": "1.5.0",
          "state": {
            "_model_module": "@jupyter-widgets/controls",
            "_model_module_version": "1.5.0",
            "_model_name": "ProgressStyleModel",
            "_view_count": null,
            "_view_module": "@jupyter-widgets/base",
            "_view_module_version": "1.2.0",
            "_view_name": "StyleView",
            "bar_color": null,
            "description_width": ""
          }
        },
        "ab5f4452f0074057a7a537e40c33f663": {
          "model_module": "@jupyter-widgets/base",
          "model_name": "LayoutModel",
          "model_module_version": "1.2.0",
          "state": {
            "_model_module": "@jupyter-widgets/base",
            "_model_module_version": "1.2.0",
            "_model_name": "LayoutModel",
            "_view_count": null,
            "_view_module": "@jupyter-widgets/base",
            "_view_module_version": "1.2.0",
            "_view_name": "LayoutView",
            "align_content": null,
            "align_items": null,
            "align_self": null,
            "border": null,
            "bottom": null,
            "display": null,
            "flex": null,
            "flex_flow": null,
            "grid_area": null,
            "grid_auto_columns": null,
            "grid_auto_flow": null,
            "grid_auto_rows": null,
            "grid_column": null,
            "grid_gap": null,
            "grid_row": null,
            "grid_template_areas": null,
            "grid_template_columns": null,
            "grid_template_rows": null,
            "height": null,
            "justify_content": null,
            "justify_items": null,
            "left": null,
            "margin": null,
            "max_height": null,
            "max_width": null,
            "min_height": null,
            "min_width": null,
            "object_fit": null,
            "object_position": null,
            "order": null,
            "overflow": null,
            "overflow_x": null,
            "overflow_y": null,
            "padding": null,
            "right": null,
            "top": null,
            "visibility": null,
            "width": null
          }
        },
        "ddeca9ef48b24e6d9818f492a2cbb00f": {
          "model_module": "@jupyter-widgets/controls",
          "model_name": "DescriptionStyleModel",
          "model_module_version": "1.5.0",
          "state": {
            "_model_module": "@jupyter-widgets/controls",
            "_model_module_version": "1.5.0",
            "_model_name": "DescriptionStyleModel",
            "_view_count": null,
            "_view_module": "@jupyter-widgets/base",
            "_view_module_version": "1.2.0",
            "_view_name": "StyleView",
            "description_width": ""
          }
        }
      }
    },
    "accelerator": "GPU"
  },
  "cells": [
    {
      "cell_type": "code",
      "execution_count": 1,
      "metadata": {
        "id": "ynZf8PKrdtUI"
      },
      "outputs": [],
      "source": [
        "import torch\n",
        "import torchvision\n",
        "import torchvision.transforms as transforms\n",
        "import torch.nn as nn\n",
        "import torch.nn.functional as F\n",
        "import torch.optim as optim\n",
        "import matplotlib.pyplot as plt\n",
        "import numpy as np"
      ]
    },
    {
      "cell_type": "code",
      "source": [
        "device = torch.device('cuda' if torch.cuda.is_available() else 'cpu')\n",
        "device"
      ],
      "metadata": {
        "colab": {
          "base_uri": "https://localhost:8080/"
        },
        "id": "ehKB80xceGnE",
        "outputId": "32db2742-956d-4716-a921-8c76e6ee103b"
      },
      "execution_count": 2,
      "outputs": [
        {
          "output_type": "execute_result",
          "data": {
            "text/plain": [
              "device(type='cuda')"
            ]
          },
          "metadata": {},
          "execution_count": 2
        }
      ]
    },
    {
      "cell_type": "code",
      "source": [
        "transform = transforms.Compose([transforms.ToTensor(),\n",
        "                                transforms.Normalize((0.5, 0.5, 0.5), (0.5, 0.5, 0.5)),\n",
        "                                ])\n",
        "\n",
        "trainset = torchvision.datasets.CIFAR10(root='./data', train=True,download=True, transform=transform)\n",
        "train_subset, val_subset = torch.utils.data.random_split(trainset, [40000, 10000], generator=torch.Generator().manual_seed(1))\n",
        "testset = torchvision.datasets.CIFAR10(root='./data', train=False,download=True, transform=transform)\n",
        "\n",
        "\n",
        "classes = ('plane', 'car', 'bird', 'cat','deer', 'dog', 'frog', 'horse', 'ship', 'truck')"
      ],
      "metadata": {
        "colab": {
          "base_uri": "https://localhost:8080/",
          "height": 102,
          "referenced_widgets": [
            "f677516f86b847ab912ca7cbe57666c5",
            "60bc0920039d4ca29cfc9c63b5487c78",
            "22773c32fb3348d098129ae20c41109b",
            "8c18cb7d42504a278e343e3fc6e71945",
            "cc793c4b309a46f1b7c7364f797890e3",
            "43cac52790824ecfac192e357aa04902",
            "529b663052884581b6b30ba2b4dd4521",
            "63bb8282ad294545ad0ed3f50a7350d5",
            "58d5fdb23ce347c8b55226411e3d4934",
            "ab5f4452f0074057a7a537e40c33f663",
            "ddeca9ef48b24e6d9818f492a2cbb00f"
          ]
        },
        "id": "OoWoVeIkeGjy",
        "outputId": "c2b3f95d-44d2-4724-e72b-2b98ae7311b1"
      },
      "execution_count": 3,
      "outputs": [
        {
          "output_type": "stream",
          "name": "stdout",
          "text": [
            "Downloading https://www.cs.toronto.edu/~kriz/cifar-10-python.tar.gz to ./data/cifar-10-python.tar.gz\n"
          ]
        },
        {
          "output_type": "display_data",
          "data": {
            "text/plain": [
              "  0%|          | 0/170498071 [00:00<?, ?it/s]"
            ],
            "application/vnd.jupyter.widget-view+json": {
              "version_major": 2,
              "version_minor": 0,
              "model_id": "f677516f86b847ab912ca7cbe57666c5"
            }
          },
          "metadata": {}
        },
        {
          "output_type": "stream",
          "name": "stdout",
          "text": [
            "Extracting ./data/cifar-10-python.tar.gz to ./data\n",
            "Files already downloaded and verified\n"
          ]
        }
      ]
    },
    {
      "cell_type": "code",
      "source": [
        "def load(batch_size) :\n",
        "  trainloader = torch.utils.data.DataLoader(dataset=train_subset, batch_size=batch_size, shuffle=True, num_workers=2)\n",
        "  valloader = torch.utils.data.DataLoader(dataset=val_subset, batch_size=batch_size, shuffle=False, num_workers=2)\n",
        "  testloader = torch.utils.data.DataLoader(testset, batch_size=batch_size,shuffle=False, num_workers=2)\n",
        "  return trainloader, valloader, testloader"
      ],
      "metadata": {
        "id": "nBlCjxpQeGhS"
      },
      "execution_count": 4,
      "outputs": []
    },
    {
      "cell_type": "code",
      "source": [
        "def train(criterion,optimizer,trainloader,valloader,model,epochs):\n",
        "  \n",
        "\n",
        "  train_losses = []\n",
        "  val_losses = []\n",
        "  train_acc = []\n",
        "  val_acc  = []\n",
        "\n",
        "  for i in range(epochs):\n",
        "    \n",
        "      trn_corr = 0\n",
        "      val_corr = 0\n",
        "      batch_corr = 0\n",
        "      val_batch_corr = 0\n",
        "      loss_sum_train =0\n",
        "      loss_sum_val =0\n",
        "      \n",
        "\n",
        "      for b_iter,data in enumerate(trainloader):\n",
        "        b_iter +=1\n",
        "        inputs , labels = data\n",
        "        labels = labels.to(device)\n",
        "        inputs = inputs.to(device)\n",
        "        outputs = model(inputs)\n",
        "        loss = criterion(outputs,labels)\n",
        "\n",
        "        predicted = torch.max(outputs.data, 1)[1]\n",
        "        batch_corr = (predicted == labels).sum()\n",
        "        trn_corr += batch_corr.item()\n",
        "        loss_sum_train += loss.item()\n",
        "        \n",
        "        \n",
        "        optimizer.zero_grad()\n",
        "        loss.backward()\n",
        "        optimizer.step()\n",
        "\n",
        "        \n",
        "      accuracy_train = trn_corr *100 / (len(trainloader.dataset))\n",
        "      train_losses.append(loss_sum_train/b_iter)\n",
        "      train_acc.append(accuracy_train)\n",
        "\n",
        "\n",
        "\n",
        "\n",
        "      with torch.no_grad():\n",
        "        b_iter = 0\n",
        "        for b_iter,data in enumerate(valloader):\n",
        "          b_iter +=1\n",
        "          inputs , label = data\n",
        "          label = label.to(device)\n",
        "          input = inputs.to(device)\n",
        "          y_val = model(input)\n",
        "\n",
        "          predicted = torch.max(y_val.data, 1)[1]\n",
        "          val_batch_corr = (predicted == label).sum()\n",
        "          val_corr += val_batch_corr.item()\n",
        "          loss_v = criterion(y_val,label.to(device))\n",
        "          loss_sum_val += loss_v.item()\n",
        "          \n",
        "        accuracy_v = val_corr*100 / (len(valloader.dataset))\n",
        "        val_losses.append(loss_sum_val/b_iter)\n",
        "        val_acc.append(accuracy_v)\n",
        "\n",
        "      print('epoch :',i ,', loss_train :',loss_sum_train/b_iter,', accuracy_train :',accuracy_train,', loss_val : ',loss_sum_val/b_iter,', accuracy_v :',accuracy_v)\n",
        "\n",
        "\n",
        "\n",
        "\n",
        "      #print('epoch: {} , loss_train: {} , accuracy_train: {} '.format(i,loss_sum_train/b_iter,accuracy_train)\n",
        "      \n",
        "\n",
        "  return train_losses, train_acc, val_losses, val_acc"
      ],
      "metadata": {
        "id": "XlFbPS-7eGey"
      },
      "execution_count": 5,
      "outputs": []
    },
    {
      "cell_type": "code",
      "source": [
        "def load_optimize_train(model,loss_function,optimizerr,epochs,batch_size):\n",
        "  \n",
        "  trainloader, valloader, testloader = load(batch_size)\n",
        "  criterion = loss_function\n",
        "  optimizer = optimizerr\n",
        "  train_losses, train_acc, val_losses, val_acc = train(criterion,optimizer,trainloader,valloader,model,epochs)\n",
        "  return testloader,criterion,train_losses, train_acc, val_losses, val_acc"
      ],
      "metadata": {
        "id": "bm00ZOcywBFW"
      },
      "execution_count": 6,
      "outputs": []
    },
    {
      "cell_type": "code",
      "source": [
        "def plot(x, y, x_label, y_label, t):\n",
        "  plt.plot(x,label=x_label)\n",
        "  plt.plot(y,label=y_label)\n",
        "  plt.legend()\n",
        "  plt.xlabel(\"epoch\")\n",
        "  plt.ylabel(t)\n",
        "  #plt.title(t)\n",
        "  plt.show()\n"
      ],
      "metadata": {
        "id": "PXLOtBoJwB58"
      },
      "execution_count": 7,
      "outputs": []
    },
    {
      "cell_type": "code",
      "source": [
        "from sklearn.metrics import recall_score, accuracy_score ,precision_score,f1_score,confusion_matrix\n",
        "def test(testloader,criterion,model):\n",
        "\n",
        "  with torch.no_grad():\n",
        "    test_corr = 0\n",
        "    b_iter = 0\n",
        "    loss_sum_test = 0\n",
        "    orginal_labels = []\n",
        "    predicted_labels = []\n",
        "\n",
        "    for b_iter,data in enumerate(testloader):\n",
        "      b_iter +=1\n",
        "      inputs , labels = data\n",
        "      labels = labels.to(device)\n",
        "      orginal_labels.extend(labels.tolist())\n",
        "      inputs = inputs.to(device)\n",
        "      y_test = model(inputs).to(device)\n",
        "      predicted = torch.max(y_test.data, 1)[1]\n",
        "      predicted_labels.extend(predicted.tolist())\n",
        "      loss_test= criterion(y_test,labels)\n",
        "      loss_sum_test += loss_test.item()\n",
        "      \n",
        "  accuracy_test = accuracy_score(orginal_labels, predicted_labels)*100\n",
        "  recall = recall_score(orginal_labels, predicted_labels,average='micro')*100\n",
        "  precision = precision_score(orginal_labels, predicted_labels,average='macro')*100\n",
        "  f1_s = f1_score(orginal_labels, predicted_labels,average='weighted')*100\n",
        "  confusion_m = confusion_matrix(orginal_labels, predicted_labels)\n",
        "  print('\"Test\"')\n",
        "  print('accuracy: {},recall : {} ,precision : {}, f1_score : {}, loss_test : {},\\n confusion_matrix :\\n {}  '\n",
        "  .format(accuracy_test, recall, precision, f1_s,loss_sum_test/b_iter,confusion_m))"
      ],
      "metadata": {
        "id": "TN1PxDHOwEql"
      },
      "execution_count": 8,
      "outputs": []
    },
    {
      "cell_type": "code",
      "source": [
        "def epochs_plots_test (epochs,batch_size,loss_function,optimize, model ):\n",
        "  testloader,criterion,train_losses, train_acc, val_losses, val_acc = load_optimize_train(model,loss_function,optimizer,epochs,batch_size)\n",
        "  plot(train_losses,val_losses,\"train\", 'validation','loss' )\n",
        "  plot(train_acc,val_acc,\"train\", 'validation','accuracy' )\n",
        "  test(testloader,criterion,model)\n"
      ],
      "metadata": {
        "id": "pL1CQn6hwF7Y"
      },
      "execution_count": 9,
      "outputs": []
    },
    {
      "cell_type": "markdown",
      "source": [
        "# الف"
      ],
      "metadata": {
        "id": "mrDRmywmTLay"
      }
    },
    {
      "cell_type": "code",
      "source": [
        "class ConvNet(nn.Module):\n",
        "    def __init__(self):\n",
        "        super(ConvNet, self).__init__()\n",
        "        self.conv1 = nn.Conv2d(3, 6, 5)\n",
        "        self.conv2 = nn.Conv2d(6, 16, 5)\n",
        "        self.fc1 = nn.Linear(16*24*24, 128)\n",
        "        self.fc2 = nn.Linear(128, 84)\n",
        "        self.fc3 = nn.Linear(84, 10)\n",
        "\n",
        "    def forward(self, x):\n",
        "        # -> n, 3, 32, 32\n",
        "        x = F.relu(self.conv1(x)) \n",
        "        x = F.relu(self.conv2(x)) \n",
        "        x = x.view(-1, 16*24*24)            \n",
        "        x = F.relu(self.fc1(x))               \n",
        "        x = F.relu(self.fc2(x))\n",
        "        x = self.fc3(x)                \n",
        "                             \n",
        "        return x\n"
      ],
      "metadata": {
        "id": "1VdWHSXbZ8ig"
      },
      "execution_count": 10,
      "outputs": []
    },
    {
      "cell_type": "code",
      "source": [
        "epochs = 50\n",
        "batch_size =128\n",
        "model = ConvNet()\n",
        "model.to(device)\n",
        "loss_function = nn.CrossEntropyLoss()\n",
        "optimizer = optim.Adam(model.parameters(), lr=0.0001)\n",
        "epochs_plots_test (epochs,batch_size,loss_function,optimizer, model)"
      ],
      "metadata": {
        "colab": {
          "base_uri": "https://localhost:8080/",
          "height": 1000
        },
        "id": "aFSjsel-Y2Mj",
        "outputId": "473fe201-6ef4-4fc9-95d5-3647e2431cdc"
      },
      "execution_count": 13,
      "outputs": [
        {
          "output_type": "stream",
          "name": "stdout",
          "text": [
            "epoch : 0 , loss_train : 7.711350578296034 , accuracy_train : 29.8525 , loss_val :  1.7411734816394275 , accuracy_v : 36.85\n",
            "epoch : 1 , loss_train : 6.565963319585293 , accuracy_train : 40.43 , loss_val :  1.610283370259442 , accuracy_v : 41.48\n",
            "epoch : 2 , loss_train : 6.178401824794238 , accuracy_train : 44.3925 , loss_val :  1.5461334533329252 , accuracy_v : 43.94\n",
            "epoch : 3 , loss_train : 5.974940983554985 , accuracy_train : 46.385 , loss_val :  1.5096789628644534 , accuracy_v : 45.41\n",
            "epoch : 4 , loss_train : 5.821232809296137 , accuracy_train : 47.63 , loss_val :  1.4890629626527618 , accuracy_v : 46.01\n",
            "epoch : 5 , loss_train : 5.705263247972803 , accuracy_train : 48.5675 , loss_val :  1.4655440864683706 , accuracy_v : 47.03\n",
            "epoch : 6 , loss_train : 5.577871129482607 , accuracy_train : 49.9 , loss_val :  1.4365120869648607 , accuracy_v : 48.33\n",
            "epoch : 7 , loss_train : 5.46794342089303 , accuracy_train : 50.925 , loss_val :  1.4312334015399595 , accuracy_v : 48.48\n",
            "epoch : 8 , loss_train : 5.3751080519036405 , accuracy_train : 51.9625 , loss_val :  1.4059195050710365 , accuracy_v : 49.43\n",
            "epoch : 9 , loss_train : 5.28528648086741 , accuracy_train : 52.715 , loss_val :  1.384956476054614 , accuracy_v : 50.76\n",
            "epoch : 10 , loss_train : 5.20702845386312 , accuracy_train : 53.3625 , loss_val :  1.3837738685970065 , accuracy_v : 50.17\n",
            "epoch : 11 , loss_train : 5.130712364293352 , accuracy_train : 53.9225 , loss_val :  1.3610573946675169 , accuracy_v : 51.51\n",
            "epoch : 12 , loss_train : 5.046614585043509 , accuracy_train : 54.935 , loss_val :  1.3576776015607617 , accuracy_v : 51.78\n",
            "epoch : 13 , loss_train : 4.977375326277334 , accuracy_train : 55.5175 , loss_val :  1.3424925849407534 , accuracy_v : 52.26\n",
            "epoch : 14 , loss_train : 4.900491379484346 , accuracy_train : 56.3425 , loss_val :  1.3440264569053166 , accuracy_v : 52.74\n",
            "epoch : 15 , loss_train : 4.841800560679617 , accuracy_train : 56.5575 , loss_val :  1.3307299312156966 , accuracy_v : 53.04\n",
            "epoch : 16 , loss_train : 4.77273688889757 , accuracy_train : 57.45 , loss_val :  1.3144571826427798 , accuracy_v : 53.29\n",
            "epoch : 17 , loss_train : 4.708923971351189 , accuracy_train : 58.115 , loss_val :  1.3206484151791922 , accuracy_v : 53.39\n",
            "epoch : 18 , loss_train : 4.644491117211837 , accuracy_train : 58.6075 , loss_val :  1.3110718576213982 , accuracy_v : 53.71\n",
            "epoch : 19 , loss_train : 4.585171821751172 , accuracy_train : 59.14 , loss_val :  1.2964407854442355 , accuracy_v : 54.41\n",
            "epoch : 20 , loss_train : 4.515836628177498 , accuracy_train : 59.8775 , loss_val :  1.2926167325128484 , accuracy_v : 54.56\n",
            "epoch : 21 , loss_train : 4.46395235725596 , accuracy_train : 60.2925 , loss_val :  1.2904940632325184 , accuracy_v : 54.6\n",
            "epoch : 22 , loss_train : 4.418714404860629 , accuracy_train : 60.7225 , loss_val :  1.299621711803388 , accuracy_v : 54.52\n",
            "epoch : 23 , loss_train : 4.355484537685974 , accuracy_train : 61.03 , loss_val :  1.2819909838181507 , accuracy_v : 54.94\n",
            "epoch : 24 , loss_train : 4.290402318857893 , accuracy_train : 61.8 , loss_val :  1.2683801620821409 , accuracy_v : 55.68\n",
            "epoch : 25 , loss_train : 4.229779767839214 , accuracy_train : 62.535 , loss_val :  1.2697086802011803 , accuracy_v : 55.99\n",
            "epoch : 26 , loss_train : 4.176886680759961 , accuracy_train : 62.7475 , loss_val :  1.2647605877888353 , accuracy_v : 55.85\n",
            "epoch : 27 , loss_train : 4.140828518927852 , accuracy_train : 63.1025 , loss_val :  1.2759707306004777 , accuracy_v : 55.52\n",
            "epoch : 28 , loss_train : 4.07847870980637 , accuracy_train : 63.6875 , loss_val :  1.2654329251639451 , accuracy_v : 55.62\n",
            "epoch : 29 , loss_train : 4.027950772001773 , accuracy_train : 64.21 , loss_val :  1.265458340886273 , accuracy_v : 56.03\n",
            "epoch : 30 , loss_train : 3.9697387716438195 , accuracy_train : 64.8325 , loss_val :  1.2633561514600922 , accuracy_v : 56.24\n",
            "epoch : 31 , loss_train : 3.912025674234463 , accuracy_train : 65.3075 , loss_val :  1.2538276805153377 , accuracy_v : 56.81\n",
            "epoch : 32 , loss_train : 3.869369002837169 , accuracy_train : 65.715 , loss_val :  1.26305989675884 , accuracy_v : 56.26\n",
            "epoch : 33 , loss_train : 3.818945461436163 , accuracy_train : 66.1825 , loss_val :  1.2640171662161621 , accuracy_v : 56.36\n",
            "epoch : 34 , loss_train : 3.7500024053114878 , accuracy_train : 66.71 , loss_val :  1.268517657171322 , accuracy_v : 56.69\n",
            "epoch : 35 , loss_train : 3.7079822647420664 , accuracy_train : 67.2075 , loss_val :  1.2727994194513634 , accuracy_v : 56.14\n",
            "epoch : 36 , loss_train : 3.659973496123205 , accuracy_train : 67.7075 , loss_val :  1.2777209787429133 , accuracy_v : 56.29\n",
            "epoch : 37 , loss_train : 3.6002307073979436 , accuracy_train : 68.275 , loss_val :  1.2586751980117605 , accuracy_v : 56.91\n",
            "epoch : 38 , loss_train : 3.549495855464211 , accuracy_train : 68.7275 , loss_val :  1.2836527220810516 , accuracy_v : 56.45\n",
            "epoch : 39 , loss_train : 3.5003141308132606 , accuracy_train : 69.195 , loss_val :  1.2659359702581092 , accuracy_v : 57.17\n",
            "epoch : 40 , loss_train : 3.4495572025262855 , accuracy_train : 69.67 , loss_val :  1.2675792989851553 , accuracy_v : 56.98\n",
            "epoch : 41 , loss_train : 3.3931178827829 , accuracy_train : 70.1525 , loss_val :  1.281613956523847 , accuracy_v : 56.94\n",
            "epoch : 42 , loss_train : 3.3544769709623314 , accuracy_train : 70.635 , loss_val :  1.277648462524897 , accuracy_v : 57.02\n",
            "epoch : 43 , loss_train : 3.30945164191572 , accuracy_train : 70.8975 , loss_val :  1.2801853516433812 , accuracy_v : 57.58\n",
            "epoch : 44 , loss_train : 3.2521714794484873 , accuracy_train : 71.5975 , loss_val :  1.2956657537931129 , accuracy_v : 56.84\n",
            "epoch : 45 , loss_train : 3.1946054485779776 , accuracy_train : 72.2425 , loss_val :  1.2943167211134223 , accuracy_v : 57.12\n",
            "epoch : 46 , loss_train : 3.149051122273071 , accuracy_train : 72.355 , loss_val :  1.3188767493525637 , accuracy_v : 55.88\n",
            "epoch : 47 , loss_train : 3.0982308191589163 , accuracy_train : 72.865 , loss_val :  1.2998207649098168 , accuracy_v : 56.96\n",
            "epoch : 48 , loss_train : 3.0446917558018165 , accuracy_train : 73.61 , loss_val :  1.3023880327804178 , accuracy_v : 57.09\n",
            "epoch : 49 , loss_train : 2.9974755576894254 , accuracy_train : 73.845 , loss_val :  1.3250887914548946 , accuracy_v : 56.91\n"
          ]
        },
        {
          "output_type": "display_data",
          "data": {
            "text/plain": [
              "<Figure size 432x288 with 1 Axes>"
            ],
            "image/png": "[encoded data removed]"
          },
          "metadata": {
            "needs_background": "light"
          }
        },
        {
          "output_type": "display_data",
          "data": {
            "text/plain": [
              "<Figure size 432x288 with 1 Axes>"
            ],
            "image/png": "[encoded data removed]"
          },
          "metadata": {
            "needs_background": "light"
          }
        },
        {
          "output_type": "stream",
          "name": "stdout",
          "text": [
            "\"Test\"\n",
            "accuracy: 57.269999999999996,recall : 57.269999999999996 ,precision : 57.23983242836581, f1_score : 56.98628324384365, loss_test : 1.3062067265751995,\n",
            " confusion_matrix :\n",
            " [[710  34  52  29  15  11  13  10  69  57]\n",
            " [ 44 736   6  13   2   7   8   7  29 148]\n",
            " [ 80  20 453  97  85 105  78  42  21  19]\n",
            " [ 44  18  80 394  50 202  88  60  22  42]\n",
            " [ 54   8 146  88 370  89  89 121  18  17]\n",
            " [ 25   8  77 179  35 489  42 111  12  22]\n",
            " [ 16  26  68  99  59  43 637  20   9  23]\n",
            " [ 24  10  35  60  51  98  10 651   6  55]\n",
            " [142  73  24  17  15  10   4  12 658  45]\n",
            " [ 58 157  15  18   9  17  14  48  35 629]]  \n"
          ]
        }
      ]
    },
    {
      "cell_type": "markdown",
      "source": [
        "# ب"
      ],
      "metadata": {
        "id": "7r0p-8YtY3qc"
      }
    },
    {
      "cell_type": "code",
      "source": [
        "class ConvNet(nn.Module):\n",
        "    def __init__(self):\n",
        "        super(ConvNet, self).__init__()\n",
        "        self.conv1 = nn.Conv2d(3, 6, 5)\n",
        "        self.bn1=nn.BatchNorm2d(num_features=6)\n",
        "        self.pool = nn.MaxPool2d(2, 2)\n",
        "        self.conv2 = nn.Conv2d(6, 16, 5)\n",
        "        self.bn2=nn.BatchNorm2d(num_features=16)\n",
        "        self.fc1 = nn.Linear(16*5*5, 128)\n",
        "        self.fc2 = nn.Linear(128, 84)\n",
        "        self.fc3 = nn.Linear(84, 10)\n",
        "\n",
        "    def forward(self, x):\n",
        "        # -> n, 3, 32, 32\n",
        "        x = self.bn1(self.pool(F.relu(self.conv1(x))))  \n",
        "        x = self.bn2(self.pool(F.relu(self.conv2(x)))) \n",
        "        x = x.view(-1, 16*5*5)            \n",
        "        x = F.relu(self.fc1(x))               \n",
        "        x = F.relu(self.fc2(x))\n",
        "        x = self.fc3(x)                \n",
        "                             \n",
        "        return x\n"
      ],
      "metadata": {
        "id": "GSFpEka9W5fJ"
      },
      "execution_count": 14,
      "outputs": []
    },
    {
      "cell_type": "code",
      "source": [
        "epochs = 50\n",
        "batch_size =128\n",
        "model = ConvNet()\n",
        "model.to(device)\n",
        "loss_function = nn.CrossEntropyLoss()\n",
        "optimizer = optim.Adam(model.parameters(), lr=0.0001)\n",
        "epochs_plots_test (epochs,batch_size,loss_function,optimizer, model)"
      ],
      "metadata": {
        "colab": {
          "base_uri": "https://localhost:8080/",
          "height": 1000
        },
        "id": "lKwf8ottXRhy",
        "outputId": "fad9ab23-0d9d-4c19-8209-e1166b9aaebc"
      },
      "execution_count": 15,
      "outputs": [
        {
          "output_type": "stream",
          "name": "stdout",
          "text": [
            "epoch : 0 , loss_train : 7.6433367321762855 , accuracy_train : 30.69 , loss_val :  1.6672367053695871 , accuracy_v : 39.5\n",
            "epoch : 1 , loss_train : 6.1512775179706045 , accuracy_train : 43.4825 , loss_val :  1.4666512087930608 , accuracy_v : 46.55\n",
            "epoch : 2 , loss_train : 5.571217290962799 , accuracy_train : 48.8725 , loss_val :  1.3833328817464128 , accuracy_v : 49.82\n",
            "epoch : 3 , loss_train : 5.262698063367529 , accuracy_train : 51.9725 , loss_val :  1.333171010017395 , accuracy_v : 51.75\n",
            "epoch : 4 , loss_train : 5.0293741256375855 , accuracy_train : 54.2 , loss_val :  1.289049095745328 , accuracy_v : 53.51\n",
            "epoch : 5 , loss_train : 4.851376621029045 , accuracy_train : 55.8075 , loss_val :  1.2618790080275717 , accuracy_v : 54.59\n",
            "epoch : 6 , loss_train : 4.6925291041784645 , accuracy_train : 57.28 , loss_val :  1.2423473838009411 , accuracy_v : 55.63\n",
            "epoch : 7 , loss_train : 4.568888018402872 , accuracy_train : 58.565 , loss_val :  1.214046364343619 , accuracy_v : 56.46\n",
            "epoch : 8 , loss_train : 4.451750092114074 , accuracy_train : 59.8175 , loss_val :  1.2017667278458801 , accuracy_v : 57.13\n",
            "epoch : 9 , loss_train : 4.350752660745306 , accuracy_train : 60.9925 , loss_val :  1.1870560381985917 , accuracy_v : 57.69\n",
            "epoch : 10 , loss_train : 4.257676734200007 , accuracy_train : 61.6725 , loss_val :  1.1751137677627275 , accuracy_v : 58.09\n",
            "epoch : 11 , loss_train : 4.1767837133588674 , accuracy_train : 62.45 , loss_val :  1.1649154869815972 , accuracy_v : 58.62\n",
            "epoch : 12 , loss_train : 4.09039986586269 , accuracy_train : 63.425 , loss_val :  1.1500101881691172 , accuracy_v : 59.28\n",
            "epoch : 13 , loss_train : 4.008675967590718 , accuracy_train : 63.975 , loss_val :  1.1466450442241718 , accuracy_v : 59.26\n",
            "epoch : 14 , loss_train : 3.939467416533941 , accuracy_train : 64.805 , loss_val :  1.1402298310134984 , accuracy_v : 59.22\n",
            "epoch : 15 , loss_train : 3.8683547950998136 , accuracy_train : 65.3925 , loss_val :  1.1353494366513024 , accuracy_v : 59.71\n",
            "epoch : 16 , loss_train : 3.808088362971439 , accuracy_train : 65.935 , loss_val :  1.1236206179932704 , accuracy_v : 60.47\n",
            "epoch : 17 , loss_train : 3.746418894091739 , accuracy_train : 66.5825 , loss_val :  1.1224898673311066 , accuracy_v : 60.51\n",
            "epoch : 18 , loss_train : 3.6934008175813697 , accuracy_train : 67.105 , loss_val :  1.1171743492536907 , accuracy_v : 60.73\n",
            "epoch : 19 , loss_train : 3.626006721695767 , accuracy_train : 67.6125 , loss_val :  1.11579364311846 , accuracy_v : 60.83\n",
            "epoch : 20 , loss_train : 3.5719694170770766 , accuracy_train : 68.2775 , loss_val :  1.108985670759708 , accuracy_v : 61.32\n",
            "epoch : 21 , loss_train : 3.525016360645053 , accuracy_train : 68.56 , loss_val :  1.1133125039595593 , accuracy_v : 60.9\n",
            "epoch : 22 , loss_train : 3.466676518132415 , accuracy_train : 69.05 , loss_val :  1.1055959878088553 , accuracy_v : 61.37\n",
            "epoch : 23 , loss_train : 3.4128390173368817 , accuracy_train : 69.5175 , loss_val :  1.1050238790391367 , accuracy_v : 61.38\n",
            "epoch : 24 , loss_train : 3.3689050847970985 , accuracy_train : 70.1175 , loss_val :  1.1060822673990756 , accuracy_v : 61.23\n",
            "epoch : 25 , loss_train : 3.32310307403154 , accuracy_train : 70.53 , loss_val :  1.1057518313202677 , accuracy_v : 61.43\n",
            "epoch : 26 , loss_train : 3.267390558236762 , accuracy_train : 70.99 , loss_val :  1.1039337146131298 , accuracy_v : 61.63\n",
            "epoch : 27 , loss_train : 3.2261536740049532 , accuracy_train : 71.3875 , loss_val :  1.1007297574719297 , accuracy_v : 61.65\n",
            "epoch : 28 , loss_train : 3.1859562879876244 , accuracy_train : 71.66 , loss_val :  1.101149497152884 , accuracy_v : 61.73\n",
            "epoch : 29 , loss_train : 3.1397121148773386 , accuracy_train : 72.025 , loss_val :  1.0978906645050532 , accuracy_v : 61.85\n",
            "epoch : 30 , loss_train : 3.096553096288367 , accuracy_train : 72.6025 , loss_val :  1.1023561630067946 , accuracy_v : 61.73\n",
            "epoch : 31 , loss_train : 3.0557312603238262 , accuracy_train : 72.8475 , loss_val :  1.0998471183112906 , accuracy_v : 62.1\n",
            "epoch : 32 , loss_train : 3.007247692422022 , accuracy_train : 73.15 , loss_val :  1.1055053819583942 , accuracy_v : 62.26\n",
            "epoch : 33 , loss_train : 2.9683064946645423 , accuracy_train : 73.7475 , loss_val :  1.1079555168936523 , accuracy_v : 61.98\n",
            "epoch : 34 , loss_train : 2.925934100452858 , accuracy_train : 74.1625 , loss_val :  1.1052867755105225 , accuracy_v : 62.21\n",
            "epoch : 35 , loss_train : 2.887319401849674 , accuracy_train : 74.4325 , loss_val :  1.1175624237784856 , accuracy_v : 62.2\n",
            "epoch : 36 , loss_train : 2.846267219208464 , accuracy_train : 74.79 , loss_val :  1.1116709633718562 , accuracy_v : 62.42\n",
            "epoch : 37 , loss_train : 2.8031204071226 , accuracy_train : 75.3975 , loss_val :  1.1202653457846823 , accuracy_v : 61.98\n",
            "epoch : 38 , loss_train : 2.7827067959912215 , accuracy_train : 75.3875 , loss_val :  1.1191633781300316 , accuracy_v : 62.18\n",
            "epoch : 39 , loss_train : 2.7328698318215867 , accuracy_train : 75.965 , loss_val :  1.1220352008372922 , accuracy_v : 62.49\n",
            "epoch : 40 , loss_train : 2.698990429504008 , accuracy_train : 76.2025 , loss_val :  1.1301071040238007 , accuracy_v : 62.28\n",
            "epoch : 41 , loss_train : 2.6630288204060326 , accuracy_train : 76.545 , loss_val :  1.1363915567156635 , accuracy_v : 62.42\n",
            "epoch : 42 , loss_train : 2.6260220959216736 , accuracy_train : 77.01 , loss_val :  1.1349692261671718 , accuracy_v : 62.53\n",
            "epoch : 43 , loss_train : 2.5922001796432688 , accuracy_train : 77.4125 , loss_val :  1.1366330800177176 , accuracy_v : 62.49\n",
            "epoch : 44 , loss_train : 2.5567892310740072 , accuracy_train : 77.6825 , loss_val :  1.1441165661510033 , accuracy_v : 62.78\n",
            "epoch : 45 , loss_train : 2.5149003836927535 , accuracy_train : 78.02 , loss_val :  1.1518497761291793 , accuracy_v : 62.8\n",
            "epoch : 46 , loss_train : 2.4825634816779365 , accuracy_train : 78.4125 , loss_val :  1.1506979993627042 , accuracy_v : 62.6\n",
            "epoch : 47 , loss_train : 2.4459160132498683 , accuracy_train : 78.7025 , loss_val :  1.1566836396350135 , accuracy_v : 62.15\n",
            "epoch : 48 , loss_train : 2.414201738713663 , accuracy_train : 79.1275 , loss_val :  1.1646951723702346 , accuracy_v : 62.31\n",
            "epoch : 49 , loss_train : 2.386542692214628 , accuracy_train : 79.2825 , loss_val :  1.16842984474158 , accuracy_v : 62.35\n"
          ]
        },
        {
          "output_type": "display_data",
          "data": {
            "text/plain": [
              "<Figure size 432x288 with 1 Axes>"
            ],
            "image/png": "[encoded data removed]"
          },
          "metadata": {
            "needs_background": "light"
          }
        },
        {
          "output_type": "display_data",
          "data": {
            "text/plain": [
              "<Figure size 432x288 with 1 Axes>"
            ],
            "image/png": "[encoded data removed]"
          },
          "metadata": {
            "needs_background": "light"
          }
        },
        {
          "output_type": "stream",
          "name": "stdout",
          "text": [
            "\"Test\"\n",
            "accuracy: 62.92,recall : 62.92 ,precision : 62.68213588111769, f1_score : 62.73860453488983, loss_test : 1.1568965496896189,\n",
            " confusion_matrix :\n",
            " [[697  30  48  19  28  14  16  12  96  40]\n",
            " [ 28 742  12  11   6   7  15   6  52 121]\n",
            " [ 69  12 452  91 141  74  74  44  27  16]\n",
            " [ 30  15  75 427  78 195  80  44  21  35]\n",
            " [ 24   5  79  68 604  41  69  85  17   8]\n",
            " [ 16   4  67 160  53 553  41  81  11  14]\n",
            " [  4  11  42  84  63  38 714  15  12  17]\n",
            " [ 19  10  31  57  77  78  11 678   5  34]\n",
            " [ 96  51  12  22  11   6  12   6 751  33]\n",
            " [ 54 130  11  21  10  10  22  23  45 674]]  \n"
          ]
        }
      ]
    },
    {
      "cell_type": "markdown",
      "source": [
        "# ج"
      ],
      "metadata": {
        "id": "cF6cq6xvamnC"
      }
    },
    {
      "cell_type": "code",
      "source": [
        "class ConvNet(nn.Module):\n",
        "    def __init__(self):\n",
        "        super(ConvNet, self).__init__()\n",
        "        self.conv1 = nn.Conv2d(3, 6, 5)\n",
        "        self.bn1=nn.BatchNorm2d(num_features=6)\n",
        "        self.pool = nn.MaxPool2d(2, 2)\n",
        "        self.drop1 = nn.Dropout(0.2)\n",
        "        self.conv2 = nn.Conv2d(6, 16, 5)\n",
        "        self.bn2=nn.BatchNorm2d(num_features=16)\n",
        "        self.fc1 = nn.Linear(16*5*5, 128)\n",
        "        self.fc2 = nn.Linear(128, 84)\n",
        "        self.fc3 = nn.Linear(84, 10)\n",
        "\n",
        "    def forward(self, x):\n",
        "        # -> n, 3, 32, 32\n",
        "        x = self.drop1(self.bn1(self.pool(F.relu(self.conv1(x)))))\n",
        "        x = self.drop1(self.bn2(self.pool(F.relu(self.conv2(x)))))\n",
        "        x = x.view(-1, 16*5*5)            \n",
        "        x = self.drop1(F.relu(self.fc1(x)))              \n",
        "        x = self.drop1(F.relu(self.fc2(x))) \n",
        "        x = self.drop1(self.fc3(x))          \n",
        "                             \n",
        "        return x\n"
      ],
      "metadata": {
        "id": "qMQ32gIAa5Ea"
      },
      "execution_count": 11,
      "outputs": []
    },
    {
      "cell_type": "code",
      "source": [
        "epochs = 100 # dr = 0.2 in conv layer\n",
        "batch_size =128\n",
        "model = ConvNet()\n",
        "model.to(device)\n",
        "loss_function = nn.CrossEntropyLoss()\n",
        "optimizer = optim.Adam(model.parameters(), lr=0.0001)\n",
        "epochs_plots_test (epochs,batch_size,loss_function,optimizer, model)"
      ],
      "metadata": {
        "colab": {
          "base_uri": "https://localhost:8080/",
          "height": 1000
        },
        "id": "vSBWDKZjaybA",
        "outputId": "8004ac94-3522-4bfd-9aba-9b26b0fb0bc8"
      },
      "execution_count": 12,
      "outputs": [
        {
          "output_type": "stream",
          "name": "stdout",
          "text": [
            "epoch : 0 , loss_train : 8.368239268471923 , accuracy_train : 23.0325 , loss_val :  1.9440434431727929 , accuracy_v : 27.77\n",
            "epoch : 1 , loss_train : 7.405120932603184 , accuracy_train : 31.8975 , loss_val :  1.8086900514892386 , accuracy_v : 33.52\n",
            "epoch : 2 , loss_train : 7.003221950953519 , accuracy_train : 35.775 , loss_val :  1.7396399959733215 , accuracy_v : 36.8\n",
            "epoch : 3 , loss_train : 6.781386849246448 , accuracy_train : 37.835 , loss_val :  1.690259095988696 , accuracy_v : 38.76\n",
            "epoch : 4 , loss_train : 6.598227238353295 , accuracy_train : 39.8375 , loss_val :  1.6491420419910285 , accuracy_v : 39.92\n",
            "epoch : 5 , loss_train : 6.470517072496535 , accuracy_train : 40.9575 , loss_val :  1.6342696705950965 , accuracy_v : 40.51\n",
            "epoch : 6 , loss_train : 6.35487139375904 , accuracy_train : 42.1925 , loss_val :  1.6105849833428105 , accuracy_v : 41.91\n",
            "epoch : 7 , loss_train : 6.249336452423772 , accuracy_train : 42.9025 , loss_val :  1.5838765237904802 , accuracy_v : 42.97\n",
            "epoch : 8 , loss_train : 6.170153145548664 , accuracy_train : 43.82 , loss_val :  1.5695624230783196 , accuracy_v : 43.72\n",
            "epoch : 9 , loss_train : 6.075575590133667 , accuracy_train : 44.8025 , loss_val :  1.550112273119673 , accuracy_v : 44.46\n",
            "epoch : 10 , loss_train : 6.027339395088486 , accuracy_train : 45.735 , loss_val :  1.5249010762081872 , accuracy_v : 44.97\n",
            "epoch : 11 , loss_train : 5.958369982393482 , accuracy_train : 46.085 , loss_val :  1.528885322281077 , accuracy_v : 43.91\n",
            "epoch : 12 , loss_train : 5.91678146621849 , accuracy_train : 46.4675 , loss_val :  1.5220616467391388 , accuracy_v : 44.65\n",
            "epoch : 13 , loss_train : 5.865775861317599 , accuracy_train : 46.7625 , loss_val :  1.519444206092931 , accuracy_v : 45.08\n",
            "epoch : 14 , loss_train : 5.798609483091137 , accuracy_train : 47.5475 , loss_val :  1.5052932606467717 , accuracy_v : 45.69\n",
            "epoch : 15 , loss_train : 5.771183311184751 , accuracy_train : 47.7275 , loss_val :  1.479638215861743 , accuracy_v : 46.89\n",
            "epoch : 16 , loss_train : 5.678373496743697 , accuracy_train : 48.7675 , loss_val :  1.4704767707027966 , accuracy_v : 46.85\n",
            "epoch : 17 , loss_train : 5.681115627288818 , accuracy_train : 48.68 , loss_val :  1.4868245170086245 , accuracy_v : 46.78\n",
            "epoch : 18 , loss_train : 5.637712418278562 , accuracy_train : 49.0725 , loss_val :  1.4666780776615385 , accuracy_v : 47.34\n",
            "epoch : 19 , loss_train : 5.601109343239024 , accuracy_train : 49.215 , loss_val :  1.4676278150534328 , accuracy_v : 48.09\n",
            "epoch : 20 , loss_train : 5.57070385051679 , accuracy_train : 49.6 , loss_val :  1.4440666271161429 , accuracy_v : 47.73\n",
            "epoch : 21 , loss_train : 5.535342708418641 , accuracy_train : 50.015 , loss_val :  1.4302198977410039 , accuracy_v : 48.86\n",
            "epoch : 22 , loss_train : 5.518602593035638 , accuracy_train : 50.13 , loss_val :  1.443241255192817 , accuracy_v : 47.88\n",
            "epoch : 23 , loss_train : 5.486329507224167 , accuracy_train : 50.3025 , loss_val :  1.4387662108940413 , accuracy_v : 48.23\n",
            "epoch : 24 , loss_train : 5.442580081239531 , accuracy_train : 50.7025 , loss_val :  1.4273935707309577 , accuracy_v : 48.55\n",
            "epoch : 25 , loss_train : 5.4384556299523465 , accuracy_train : 50.845 , loss_val :  1.4138861381554906 , accuracy_v : 49.21\n",
            "epoch : 26 , loss_train : 5.394438580621647 , accuracy_train : 51.18 , loss_val :  1.4054696393918387 , accuracy_v : 49.51\n",
            "epoch : 27 , loss_train : 5.360009403168401 , accuracy_train : 51.5825 , loss_val :  1.415594159802304 , accuracy_v : 49.02\n",
            "epoch : 28 , loss_train : 5.354477023776574 , accuracy_train : 51.5925 , loss_val :  1.4000010128262677 , accuracy_v : 49.53\n",
            "epoch : 29 , loss_train : 5.338894207266312 , accuracy_train : 51.5125 , loss_val :  1.401616386220425 , accuracy_v : 49.58\n",
            "epoch : 30 , loss_train : 5.29364512691015 , accuracy_train : 51.7575 , loss_val :  1.3841494593439223 , accuracy_v : 50.22\n",
            "epoch : 31 , loss_train : 5.262761259380775 , accuracy_train : 52.265 , loss_val :  1.3823212083381942 , accuracy_v : 50.34\n",
            "epoch : 32 , loss_train : 5.2487437106386015 , accuracy_train : 52.47 , loss_val :  1.3816715418537961 , accuracy_v : 50.67\n",
            "epoch : 33 , loss_train : 5.226469945304001 , accuracy_train : 52.8025 , loss_val :  1.3717590721347663 , accuracy_v : 50.94\n",
            "epoch : 34 , loss_train : 5.202371210991582 , accuracy_train : 52.855 , loss_val :  1.368864924092836 , accuracy_v : 51.42\n",
            "epoch : 35 , loss_train : 5.176014295107202 , accuracy_train : 53.02 , loss_val :  1.3617677688598633 , accuracy_v : 51.1\n",
            "epoch : 36 , loss_train : 5.178160573862776 , accuracy_train : 53.0975 , loss_val :  1.3657768979857239 , accuracy_v : 50.77\n",
            "epoch : 37 , loss_train : 5.156904016868977 , accuracy_train : 53.2625 , loss_val :  1.3678144141088557 , accuracy_v : 50.83\n",
            "epoch : 38 , loss_train : 5.123210264157645 , accuracy_train : 53.75 , loss_val :  1.353363028055505 , accuracy_v : 51.66\n",
            "epoch : 39 , loss_train : 5.119232816032216 , accuracy_train : 53.5725 , loss_val :  1.35296190388595 , accuracy_v : 51.62\n",
            "epoch : 40 , loss_train : 5.080719777300388 , accuracy_train : 53.8375 , loss_val :  1.3646759790710257 , accuracy_v : 51.27\n",
            "epoch : 41 , loss_train : 5.087709802615492 , accuracy_train : 53.905 , loss_val :  1.3526577889164793 , accuracy_v : 51.68\n",
            "epoch : 42 , loss_train : 5.068336250661295 , accuracy_train : 54.315 , loss_val :  1.3361048819143562 , accuracy_v : 52.35\n",
            "epoch : 43 , loss_train : 5.040714408777937 , accuracy_train : 54.2975 , loss_val :  1.3605531906779809 , accuracy_v : 51.05\n",
            "epoch : 44 , loss_train : 5.029542693608923 , accuracy_train : 54.3225 , loss_val :  1.3514741236650492 , accuracy_v : 51.43\n",
            "epoch : 45 , loss_train : 5.039105857474895 , accuracy_train : 54.345 , loss_val :  1.3348281247706353 , accuracy_v : 52.59\n",
            "epoch : 46 , loss_train : 5.009988910035242 , accuracy_train : 54.765 , loss_val :  1.3277805394764188 , accuracy_v : 52.63\n",
            "epoch : 47 , loss_train : 5.000505195388311 , accuracy_train : 54.86 , loss_val :  1.3243620757815204 , accuracy_v : 52.91\n",
            "epoch : 48 , loss_train : 4.964054104648059 , accuracy_train : 55.1075 , loss_val :  1.3354631586919856 , accuracy_v : 52.35\n",
            "epoch : 49 , loss_train : 4.958282701576812 , accuracy_train : 55.1425 , loss_val :  1.3282641640192345 , accuracy_v : 51.92\n",
            "epoch : 50 , loss_train : 4.936143812499469 , accuracy_train : 55.145 , loss_val :  1.3389909523951857 , accuracy_v : 51.68\n",
            "epoch : 51 , loss_train : 4.92780399096163 , accuracy_train : 55.2975 , loss_val :  1.322504820702951 , accuracy_v : 52.73\n",
            "epoch : 52 , loss_train : 4.923626163337804 , accuracy_train : 55.515 , loss_val :  1.3314747146413297 , accuracy_v : 52.58\n",
            "epoch : 53 , loss_train : 4.898492564128924 , accuracy_train : 55.66 , loss_val :  1.305906048303918 , accuracy_v : 53.06\n",
            "epoch : 54 , loss_train : 4.906081347525874 , accuracy_train : 55.2875 , loss_val :  1.3302576225015181 , accuracy_v : 52.44\n",
            "epoch : 55 , loss_train : 4.866621956795076 , accuracy_train : 56.1425 , loss_val :  1.31310449370855 , accuracy_v : 52.88\n",
            "epoch : 56 , loss_train : 4.863295114493068 , accuracy_train : 55.73 , loss_val :  1.3022260741342473 , accuracy_v : 53.26\n",
            "epoch : 57 , loss_train : 4.835763584963883 , accuracy_train : 55.84 , loss_val :  1.3007734953602659 , accuracy_v : 53.41\n",
            "epoch : 58 , loss_train : 4.836776789230637 , accuracy_train : 56.015 , loss_val :  1.316018516504312 , accuracy_v : 53.04\n",
            "epoch : 59 , loss_train : 4.846007402939133 , accuracy_train : 56.0675 , loss_val :  1.3032635344734675 , accuracy_v : 53.55\n",
            "epoch : 60 , loss_train : 4.818508436408224 , accuracy_train : 56.2775 , loss_val :  1.3078750462471684 , accuracy_v : 53.72\n",
            "epoch : 61 , loss_train : 4.789660700514347 , accuracy_train : 56.66 , loss_val :  1.2959238607672197 , accuracy_v : 54.04\n",
            "epoch : 62 , loss_train : 4.791243314743042 , accuracy_train : 56.65 , loss_val :  1.298599487618555 , accuracy_v : 53.54\n",
            "epoch : 63 , loss_train : 4.8005947681921946 , accuracy_train : 56.54 , loss_val :  1.3034034529818763 , accuracy_v : 53.39\n",
            "epoch : 64 , loss_train : 4.772655550437637 , accuracy_train : 57.0725 , loss_val :  1.3061077730565132 , accuracy_v : 53.62\n",
            "epoch : 65 , loss_train : 4.757966707778882 , accuracy_train : 56.83 , loss_val :  1.2851700948763498 , accuracy_v : 54.18\n",
            "epoch : 66 , loss_train : 4.729730078691168 , accuracy_train : 57.41 , loss_val :  1.2863082523587384 , accuracy_v : 54.42\n",
            "epoch : 67 , loss_train : 4.763912430292444 , accuracy_train : 56.6475 , loss_val :  1.3083043294616892 , accuracy_v : 53.2\n",
            "epoch : 68 , loss_train : 4.719802101201649 , accuracy_train : 57.25 , loss_val :  1.2897681382637989 , accuracy_v : 54.36\n",
            "epoch : 69 , loss_train : 4.736178863652145 , accuracy_train : 57.01 , loss_val :  1.2897665877885456 , accuracy_v : 53.55\n",
            "epoch : 70 , loss_train : 4.715077383608758 , accuracy_train : 57.2575 , loss_val :  1.295353356795975 , accuracy_v : 53.32\n",
            "epoch : 71 , loss_train : 4.712344231484812 , accuracy_train : 57.12 , loss_val :  1.2970917609673511 , accuracy_v : 53.94\n",
            "epoch : 72 , loss_train : 4.686177691326866 , accuracy_train : 57.655 , loss_val :  1.2847629694999019 , accuracy_v : 53.61\n",
            "epoch : 73 , loss_train : 4.712359603447251 , accuracy_train : 57.06 , loss_val :  1.27851533437077 , accuracy_v : 54.62\n",
            "epoch : 74 , loss_train : 4.664057450958445 , accuracy_train : 57.8075 , loss_val :  1.2828940183301516 , accuracy_v : 54.81\n",
            "epoch : 75 , loss_train : 4.66399458390248 , accuracy_train : 57.51 , loss_val :  1.2877351241775705 , accuracy_v : 54.4\n",
            "epoch : 76 , loss_train : 4.673874871640265 , accuracy_train : 57.545 , loss_val :  1.269545602647564 , accuracy_v : 54.9\n",
            "epoch : 77 , loss_train : 4.655758938457392 , accuracy_train : 57.7 , loss_val :  1.2868026042286353 , accuracy_v : 54.43\n",
            "epoch : 78 , loss_train : 4.626164544986773 , accuracy_train : 57.9925 , loss_val :  1.2687328925615624 , accuracy_v : 55.35\n",
            "epoch : 79 , loss_train : 4.653329801710346 , accuracy_train : 57.8725 , loss_val :  1.2846703906602497 , accuracy_v : 54.29\n",
            "epoch : 80 , loss_train : 4.628613966175273 , accuracy_train : 58.0975 , loss_val :  1.2730521084387092 , accuracy_v : 54.46\n",
            "epoch : 81 , loss_train : 4.619929945167107 , accuracy_train : 58.255 , loss_val :  1.2682236493388308 , accuracy_v : 55.08\n",
            "epoch : 82 , loss_train : 4.624765622464916 , accuracy_train : 57.865 , loss_val :  1.2765631977515886 , accuracy_v : 54.85\n",
            "epoch : 83 , loss_train : 4.605672394173054 , accuracy_train : 58.18 , loss_val :  1.2800800226911713 , accuracy_v : 54.24\n",
            "epoch : 84 , loss_train : 4.608294185203842 , accuracy_train : 57.95 , loss_val :  1.2770452439030515 , accuracy_v : 54.21\n",
            "epoch : 85 , loss_train : 4.573309724089466 , accuracy_train : 58.5275 , loss_val :  1.281626760205136 , accuracy_v : 54.1\n",
            "epoch : 86 , loss_train : 4.548977238467977 , accuracy_train : 58.51 , loss_val :  1.2752985773207266 , accuracy_v : 54.49\n",
            "epoch : 87 , loss_train : 4.571501934075657 , accuracy_train : 58.1775 , loss_val :  1.2782117520706564 , accuracy_v : 54.06\n",
            "epoch : 88 , loss_train : 4.551126989382732 , accuracy_train : 58.6425 , loss_val :  1.2558365124690383 , accuracy_v : 55.31\n",
            "epoch : 89 , loss_train : 4.567719544036479 , accuracy_train : 58.575 , loss_val :  1.270327964915505 , accuracy_v : 54.97\n",
            "epoch : 90 , loss_train : 4.554994814758059 , accuracy_train : 58.47 , loss_val :  1.2647281017484544 , accuracy_v : 55.09\n",
            "epoch : 91 , loss_train : 4.531528346900698 , accuracy_train : 58.82 , loss_val :  1.2765895384776442 , accuracy_v : 54.72\n",
            "epoch : 92 , loss_train : 4.53010601333425 , accuracy_train : 58.65 , loss_val :  1.2558528471596633 , accuracy_v : 54.87\n",
            "epoch : 93 , loss_train : 4.524677675736101 , accuracy_train : 58.8575 , loss_val :  1.2644161061395573 , accuracy_v : 54.9\n",
            "epoch : 94 , loss_train : 4.53393534542639 , accuracy_train : 59.195 , loss_val :  1.2730926214894163 , accuracy_v : 54.91\n",
            "epoch : 95 , loss_train : 4.489993931371955 , accuracy_train : 59.1025 , loss_val :  1.2781620583956754 , accuracy_v : 54.31\n",
            "epoch : 96 , loss_train : 4.513981911200512 , accuracy_train : 58.8225 , loss_val :  1.252822012840947 , accuracy_v : 55.11\n",
            "epoch : 97 , loss_train : 4.491524070124083 , accuracy_train : 59.3475 , loss_val :  1.273595552655715 , accuracy_v : 55.51\n",
            "epoch : 98 , loss_train : 4.453219512595406 , accuracy_train : 59.6275 , loss_val :  1.251238755032986 , accuracy_v : 56.0\n",
            "epoch : 99 , loss_train : 4.489462435245514 , accuracy_train : 59.15 , loss_val :  1.2626700529569312 , accuracy_v : 55.52\n"
          ]
        },
        {
          "output_type": "display_data",
          "data": {
            "text/plain": [
              "<Figure size 432x288 with 1 Axes>"
            ],
            "image/png": "[encoded data removed]"
          },
          "metadata": {
            "needs_background": "light"
          }
        },
        {
          "output_type": "display_data",
          "data": {
            "text/plain": [
              "<Figure size 432x288 with 1 Axes>"
            ],
            "image/png": "[encoded data removed]"
          },
          "metadata": {
            "needs_background": "light"
          }
        },
        {
          "output_type": "stream",
          "name": "stdout",
          "text": [
            "\"Test\"\n",
            "accuracy: 55.05,recall : 55.05 ,precision : 55.22176117628107, f1_score : 55.05050869397776, loss_test : 1.2867299740827536,\n",
            " confusion_matrix :\n",
            " [[638  35  59  43  25  10  10  15 110  55]\n",
            " [ 65 720   6  11  10   7  17  10  36 118]\n",
            " [ 70  16 433  97 117  88  78  53  30  18]\n",
            " [ 34  22  83 388  89 191  80  55  21  37]\n",
            " [ 26  16 137  74 483  49  96  87  21  11]\n",
            " [ 18  18 100 222  50 454  38  72  15  13]\n",
            " [ 36  32  84 103  66  34 605  23  11   6]\n",
            " [ 27  29  59  63  93  74  22 588   8  37]\n",
            " [140  73  40  35  14  11  10   6 623  48]\n",
            " [ 62 175  18  35  18  14  23  31  51 573]]  \n"
          ]
        }
      ]
    },
    {
      "cell_type": "markdown",
      "source": [
        "# د"
      ],
      "metadata": {
        "id": "1PBZIqTnX8Xh"
      }
    },
    {
      "cell_type": "code",
      "source": [
        "def train(criterion,optimizer,trainloader,valloader,model,epochs):\n",
        "  \n",
        "  # Early stopping\n",
        "  the_last_loss = 100\n",
        "  patience = 2\n",
        "  trigger_times = 0\n",
        "  train_losses = []\n",
        "  val_losses = []\n",
        "  train_acc = []\n",
        "  val_acc  = []\n",
        "\n",
        "  for i in range(epochs):\n",
        "    \n",
        "      trn_corr = 0\n",
        "      val_corr = 0\n",
        "      batch_corr = 0\n",
        "      val_batch_corr = 0\n",
        "      loss_sum_train =0\n",
        "      loss_sum_val =0\n",
        "      \n",
        "\n",
        "      for b_iter,data in enumerate(trainloader):\n",
        "        b_iter +=1\n",
        "        inputs , labels = data\n",
        "        labels = labels.to(device)\n",
        "        inputs = inputs.to(device)\n",
        "        outputs = model(inputs)\n",
        "        loss = criterion(outputs,labels)\n",
        "\n",
        "        predicted = torch.max(outputs.data, 1)[1]\n",
        "        batch_corr = (predicted == labels).sum()\n",
        "        trn_corr += batch_corr.item()\n",
        "        loss_sum_train += loss.item()\n",
        "        \n",
        "        \n",
        "        optimizer.zero_grad()\n",
        "        loss.backward()\n",
        "        optimizer.step()\n",
        "\n",
        "        \n",
        "      accuracy_train = trn_corr *100 / (len(trainloader.dataset))\n",
        "      train_losses.append(loss_sum_train/b_iter)\n",
        "      train_acc.append(accuracy_train)\n",
        "      \n",
        "\n",
        "\n",
        "\n",
        "      with torch.no_grad():\n",
        "        b_iter = 0\n",
        "        for b_iter,data in enumerate(valloader):\n",
        "          b_iter +=1\n",
        "          inputs , label = data\n",
        "          label = label.to(device)\n",
        "          input = inputs.to(device)\n",
        "          y_val = model(input)\n",
        "\n",
        "          predicted = torch.max(y_val.data, 1)[1]\n",
        "          val_batch_corr = (predicted == label).sum()\n",
        "          val_corr += val_batch_corr.item()\n",
        "          loss_v = criterion(y_val,label.to(device))\n",
        "          loss_sum_val += loss_v.item()\n",
        "          \n",
        "        accuracy_v = val_corr*100 / (len(valloader.dataset))\n",
        "        val_losses.append(loss_sum_val/b_iter)\n",
        "        val_acc.append(accuracy_v)\n",
        "\n",
        "      print('epoch :',i ,', loss_train :',loss_sum_train/b_iter,', accuracy_train :',accuracy_train,', loss_val',loss_sum_val/b_iter,', accuracy_v :',accuracy_v)\n",
        "\n",
        "      the_current_loss = loss_sum_val/b_iter\n",
        "      # Early stopping\n",
        "      print('The current loss:', the_current_loss)\n",
        "\n",
        "      if the_current_loss > the_last_loss:\n",
        "        trigger_times += 1\n",
        "        print('trigger times:', trigger_times)\n",
        "\n",
        "        if trigger_times >= patience:\n",
        "          print('Early stopping!\\nStart to test process.')\n",
        "          return train_losses, train_acc, val_losses, val_acc\n",
        "\n",
        "      else:\n",
        "          print('trigger times: 0')\n",
        "          trigger_times = 0\n",
        "\n",
        "      the_last_loss = the_current_loss\n",
        "\n",
        "      #print('epoch: {} , loss_train: {} , accuracy_train: {} '.format(i,loss_sum_train/b_iter,accuracy_train)\n",
        "      \n",
        "\n",
        "  return train_losses, train_acc, val_losses, val_acc"
      ],
      "metadata": {
        "id": "qQV0TEPoX2Yt"
      },
      "execution_count": 18,
      "outputs": []
    },
    {
      "cell_type": "code",
      "source": [
        "epochs = 100 # dr = 0.2\n",
        "batch_size =128\n",
        "model = ConvNet()\n",
        "model.to(device)\n",
        "loss_function = nn.CrossEntropyLoss()\n",
        "optimizer = optim.Adam(model.parameters(), lr=0.0001)\n",
        "epochs_plots_test (epochs,batch_size,loss_function,optimizer, model)"
      ],
      "metadata": {
        "colab": {
          "base_uri": "https://localhost:8080/",
          "height": 1000
        },
        "id": "gnosIX_5xA13",
        "outputId": "f5f2e517-fb6f-4128-82cd-9bbf0fa10706"
      },
      "execution_count": 20,
      "outputs": [
        {
          "output_type": "stream",
          "name": "stdout",
          "text": [
            "epoch : 0 , loss_train : 8.033666118790832 , accuracy_train : 24.9475 , loss_val 1.7970241368571414 , accuracy_v : 32.4\n",
            "The current loss: 1.7970241368571414\n",
            "trigger times: 0\n",
            "epoch : 1 , loss_train : 6.787772776205329 , accuracy_train : 36.5275 , loss_val 1.6369444478916217 , accuracy_v : 38.99\n",
            "The current loss: 1.6369444478916217\n",
            "trigger times: 0\n",
            "epoch : 2 , loss_train : 6.329237301138383 , accuracy_train : 40.7625 , loss_val 1.5616085725494577 , accuracy_v : 42.15\n",
            "The current loss: 1.5616085725494577\n",
            "trigger times: 0\n",
            "epoch : 3 , loss_train : 6.054638992382001 , accuracy_train : 43.81 , loss_val 1.5099828786487821 , accuracy_v : 44.15\n",
            "The current loss: 1.5099828786487821\n",
            "trigger times: 0\n",
            "epoch : 4 , loss_train : 5.864131213743476 , accuracy_train : 46.05 , loss_val 1.478660450705999 , accuracy_v : 45.77\n",
            "The current loss: 1.478660450705999\n",
            "trigger times: 0\n",
            "epoch : 5 , loss_train : 5.727888816519629 , accuracy_train : 47.655 , loss_val 1.440119912352743 , accuracy_v : 47.86\n",
            "The current loss: 1.440119912352743\n",
            "trigger times: 0\n",
            "epoch : 6 , loss_train : 5.587605242487751 , accuracy_train : 48.7675 , loss_val 1.4228871095029614 , accuracy_v : 48.65\n",
            "The current loss: 1.4228871095029614\n",
            "trigger times: 0\n",
            "epoch : 7 , loss_train : 5.509752367116228 , accuracy_train : 49.715 , loss_val 1.4083920219276524 , accuracy_v : 48.35\n",
            "The current loss: 1.4083920219276524\n",
            "trigger times: 0\n",
            "epoch : 8 , loss_train : 5.411858222152613 , accuracy_train : 50.75 , loss_val 1.3889940086799333 , accuracy_v : 49.59\n",
            "The current loss: 1.3889940086799333\n",
            "trigger times: 0\n",
            "epoch : 9 , loss_train : 5.328139727628684 , accuracy_train : 51.78 , loss_val 1.3679442616957653 , accuracy_v : 50.63\n",
            "The current loss: 1.3679442616957653\n",
            "trigger times: 0\n",
            "epoch : 10 , loss_train : 5.225639160675339 , accuracy_train : 52.5275 , loss_val 1.352940763099284 , accuracy_v : 50.95\n",
            "The current loss: 1.352940763099284\n",
            "trigger times: 0\n",
            "epoch : 11 , loss_train : 5.188396195822124 , accuracy_train : 52.97 , loss_val 1.3327900291998176 , accuracy_v : 51.75\n",
            "The current loss: 1.3327900291998176\n",
            "trigger times: 0\n",
            "epoch : 12 , loss_train : 5.1296110454993915 , accuracy_train : 53.5475 , loss_val 1.332622139514247 , accuracy_v : 51.87\n",
            "The current loss: 1.332622139514247\n",
            "trigger times: 0\n",
            "epoch : 13 , loss_train : 5.033229093008403 , accuracy_train : 54.4975 , loss_val 1.3082985410207435 , accuracy_v : 52.5\n",
            "The current loss: 1.3082985410207435\n",
            "trigger times: 0\n",
            "epoch : 14 , loss_train : 5.012818328187436 , accuracy_train : 54.9425 , loss_val 1.2967758895475654 , accuracy_v : 53.51\n",
            "The current loss: 1.2967758895475654\n",
            "trigger times: 0\n",
            "epoch : 15 , loss_train : 4.959297755851021 , accuracy_train : 55.315 , loss_val 1.2924345837363713 , accuracy_v : 53.12\n",
            "The current loss: 1.2924345837363713\n",
            "trigger times: 0\n",
            "epoch : 16 , loss_train : 4.903373500968836 , accuracy_train : 55.975 , loss_val 1.2876674253729326 , accuracy_v : 53.67\n",
            "The current loss: 1.2876674253729326\n",
            "trigger times: 0\n",
            "epoch : 17 , loss_train : 4.863668301437475 , accuracy_train : 56.3325 , loss_val 1.2730238988429685 , accuracy_v : 54.08\n",
            "The current loss: 1.2730238988429685\n",
            "trigger times: 0\n",
            "epoch : 18 , loss_train : 4.823836383940298 , accuracy_train : 56.6775 , loss_val 1.2604173135153856 , accuracy_v : 55.35\n",
            "The current loss: 1.2604173135153856\n",
            "trigger times: 0\n",
            "epoch : 19 , loss_train : 4.794269141517108 , accuracy_train : 56.8775 , loss_val 1.2622454634195641 , accuracy_v : 54.28\n",
            "The current loss: 1.2622454634195641\n",
            "trigger times: 1\n",
            "epoch : 20 , loss_train : 4.745805721494216 , accuracy_train : 57.3225 , loss_val 1.2452519347396078 , accuracy_v : 54.94\n",
            "The current loss: 1.2452519347396078\n",
            "trigger times: 0\n",
            "epoch : 21 , loss_train : 4.707980789715731 , accuracy_train : 57.62 , loss_val 1.241407772408256 , accuracy_v : 55.27\n",
            "The current loss: 1.241407772408256\n",
            "trigger times: 0\n",
            "epoch : 22 , loss_train : 4.681808568254302 , accuracy_train : 57.7575 , loss_val 1.2380300058594234 , accuracy_v : 55.47\n",
            "The current loss: 1.2380300058594234\n",
            "trigger times: 0\n",
            "epoch : 23 , loss_train : 4.6419033491158785 , accuracy_train : 58.325 , loss_val 1.2301917400541185 , accuracy_v : 56.08\n",
            "The current loss: 1.2301917400541185\n",
            "trigger times: 0\n",
            "epoch : 24 , loss_train : 4.608727523043186 , accuracy_train : 58.4175 , loss_val 1.21537290721 , accuracy_v : 56.4\n",
            "The current loss: 1.21537290721\n",
            "trigger times: 0\n",
            "epoch : 25 , loss_train : 4.573078055170518 , accuracy_train : 59.01 , loss_val 1.2168600197079815 , accuracy_v : 56.84\n",
            "The current loss: 1.2168600197079815\n",
            "trigger times: 1\n",
            "epoch : 26 , loss_train : 4.538805479490304 , accuracy_train : 59.2825 , loss_val 1.225719941567771 , accuracy_v : 56.39\n",
            "The current loss: 1.225719941567771\n",
            "trigger times: 2\n",
            "Early stopping!\n",
            "Start to test process.\n"
          ]
        },
        {
          "output_type": "display_data",
          "data": {
            "text/plain": [
              "<Figure size 432x288 with 1 Axes>"
            ],
            "image/png": "[encoded data removed]"
          },
          "metadata": {
            "needs_background": "light"
          }
        },
        {
          "output_type": "display_data",
          "data": {
            "text/plain": [
              "<Figure size 432x288 with 1 Axes>"
            ],
            "image/png": "[encoded data removed]"
          },
          "metadata": {
            "needs_background": "light"
          }
        },
        {
          "output_type": "stream",
          "name": "stdout",
          "text": [
            "\"Test\"\n",
            "accuracy: 56.66,recall : 56.66 ,precision : 56.238557573400904, f1_score : 56.394780970878635, loss_test : 1.2124158061003383,\n",
            " confusion_matrix :\n",
            " [[612  47  77  16  21  10  11  17 147  42]\n",
            " [ 40 692   9  11  15   4  19  16  64 130]\n",
            " [ 98  15 445  72 114 101  71  53  18  13]\n",
            " [ 32  26  76 358  86 193 108  65  24  32]\n",
            " [ 35  13 121  71 459  46 107 122  16  10]\n",
            " [ 18  11 110 169  55 468  52  91  17   9]\n",
            " [  8  12  70  81  74  32 665  26   7  25]\n",
            " [ 19  11  43  59  76  94  25 645   5  23]\n",
            " [142  56  20  18  14   6  11   6 674  53]\n",
            " [ 46 134   9  19  13   3  25  25  78 648]]  \n"
          ]
        }
      ]
    }
  ]
}