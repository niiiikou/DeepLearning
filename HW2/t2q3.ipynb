{
  "nbformat": 4,
  "nbformat_minor": 0,
  "metadata": {
    "colab": {
      "name": "t2q3.ipynb",
      "provenance": [],
      "collapsed_sections": []
    },
    "kernelspec": {
      "name": "python3",
      "display_name": "Python 3"
    },
    "language_info": {
      "name": "python"
    },
    "accelerator": "GPU",
    "widgets": {
      "application/vnd.jupyter.widget-state+json": {
        "7d30c831005b4389a6548ee2f5498095": {
          "model_module": "@jupyter-widgets/controls",
          "model_name": "HBoxModel",
          "model_module_version": "1.5.0",
          "state": {
            "_dom_classes": [],
            "_model_module": "@jupyter-widgets/controls",
            "_model_module_version": "1.5.0",
            "_model_name": "HBoxModel",
            "_view_count": null,
            "_view_module": "@jupyter-widgets/controls",
            "_view_module_version": "1.5.0",
            "_view_name": "HBoxView",
            "box_style": "",
            "children": [
              "IPY_MODEL_3b42dfe4aedd484d91c6efee21ad5390",
              "IPY_MODEL_51fe9ae47cbd4dc8ae1afc89b231960f",
              "IPY_MODEL_3daee7133c204b458d2d434aa5f153e0"
            ],
            "layout": "IPY_MODEL_01c63abb99114e3cb137a9dc478f5909"
          }
        },
        "3b42dfe4aedd484d91c6efee21ad5390": {
          "model_module": "@jupyter-widgets/controls",
          "model_name": "HTMLModel",
          "model_module_version": "1.5.0",
          "state": {
            "_dom_classes": [],
            "_model_module": "@jupyter-widgets/controls",
            "_model_module_version": "1.5.0",
            "_model_name": "HTMLModel",
            "_view_count": null,
            "_view_module": "@jupyter-widgets/controls",
            "_view_module_version": "1.5.0",
            "_view_name": "HTMLView",
            "description": "",
            "description_tooltip": null,
            "layout": "IPY_MODEL_3fe8fa08e9564cc3b333cc53fd4863cc",
            "placeholder": "​",
            "style": "IPY_MODEL_e0ea03b30dc3452daded5062083d3ae6",
            "value": ""
          }
        },
        "51fe9ae47cbd4dc8ae1afc89b231960f": {
          "model_module": "@jupyter-widgets/controls",
          "model_name": "FloatProgressModel",
          "model_module_version": "1.5.0",
          "state": {
            "_dom_classes": [],
            "_model_module": "@jupyter-widgets/controls",
            "_model_module_version": "1.5.0",
            "_model_name": "FloatProgressModel",
            "_view_count": null,
            "_view_module": "@jupyter-widgets/controls",
            "_view_module_version": "1.5.0",
            "_view_name": "ProgressView",
            "bar_style": "success",
            "description": "",
            "description_tooltip": null,
            "layout": "IPY_MODEL_204bed67be79410cb6b46f5136903108",
            "max": 170498071,
            "min": 0,
            "orientation": "horizontal",
            "style": "IPY_MODEL_7a4edba9759344ffaf625d5a0f8a3f2c",
            "value": 170498071
          }
        },
        "3daee7133c204b458d2d434aa5f153e0": {
          "model_module": "@jupyter-widgets/controls",
          "model_name": "HTMLModel",
          "model_module_version": "1.5.0",
          "state": {
            "_dom_classes": [],
            "_model_module": "@jupyter-widgets/controls",
            "_model_module_version": "1.5.0",
            "_model_name": "HTMLModel",
            "_view_count": null,
            "_view_module": "@jupyter-widgets/controls",
            "_view_module_version": "1.5.0",
            "_view_name": "HTMLView",
            "description": "",
            "description_tooltip": null,
            "layout": "IPY_MODEL_89c1bc1d36de4e78ab20de5b12c7934b",
            "placeholder": "​",
            "style": "IPY_MODEL_55f2838eb5c044d8a10f9c780164f78a",
            "value": " 170499072/? [00:08&lt;00:00, 15294462.32it/s]"
          }
        },
        "01c63abb99114e3cb137a9dc478f5909": {
          "model_module": "@jupyter-widgets/base",
          "model_name": "LayoutModel",
          "model_module_version": "1.2.0",
          "state": {
            "_model_module": "@jupyter-widgets/base",
            "_model_module_version": "1.2.0",
            "_model_name": "LayoutModel",
            "_view_count": null,
            "_view_module": "@jupyter-widgets/base",
            "_view_module_version": "1.2.0",
            "_view_name": "LayoutView",
            "align_content": null,
            "align_items": null,
            "align_self": null,
            "border": null,
            "bottom": null,
            "display": null,
            "flex": null,
            "flex_flow": null,
            "grid_area": null,
            "grid_auto_columns": null,
            "grid_auto_flow": null,
            "grid_auto_rows": null,
            "grid_column": null,
            "grid_gap": null,
            "grid_row": null,
            "grid_template_areas": null,
            "grid_template_columns": null,
            "grid_template_rows": null,
            "height": null,
            "justify_content": null,
            "justify_items": null,
            "left": null,
            "margin": null,
            "max_height": null,
            "max_width": null,
            "min_height": null,
            "min_width": null,
            "object_fit": null,
            "object_position": null,
            "order": null,
            "overflow": null,
            "overflow_x": null,
            "overflow_y": null,
            "padding": null,
            "right": null,
            "top": null,
            "visibility": null,
            "width": null
          }
        },
        "3fe8fa08e9564cc3b333cc53fd4863cc": {
          "model_module": "@jupyter-widgets/base",
          "model_name": "LayoutModel",
          "model_module_version": "1.2.0",
          "state": {
            "_model_module": "@jupyter-widgets/base",
            "_model_module_version": "1.2.0",
            "_model_name": "LayoutModel",
            "_view_count": null,
            "_view_module": "@jupyter-widgets/base",
            "_view_module_version": "1.2.0",
            "_view_name": "LayoutView",
            "align_content": null,
            "align_items": null,
            "align_self": null,
            "border": null,
            "bottom": null,
            "display": null,
            "flex": null,
            "flex_flow": null,
            "grid_area": null,
            "grid_auto_columns": null,
            "grid_auto_flow": null,
            "grid_auto_rows": null,
            "grid_column": null,
            "grid_gap": null,
            "grid_row": null,
            "grid_template_areas": null,
            "grid_template_columns": null,
            "grid_template_rows": null,
            "height": null,
            "justify_content": null,
            "justify_items": null,
            "left": null,
            "margin": null,
            "max_height": null,
            "max_width": null,
            "min_height": null,
            "min_width": null,
            "object_fit": null,
            "object_position": null,
            "order": null,
            "overflow": null,
            "overflow_x": null,
            "overflow_y": null,
            "padding": null,
            "right": null,
            "top": null,
            "visibility": null,
            "width": null
          }
        },
        "e0ea03b30dc3452daded5062083d3ae6": {
          "model_module": "@jupyter-widgets/controls",
          "model_name": "DescriptionStyleModel",
          "model_module_version": "1.5.0",
          "state": {
            "_model_module": "@jupyter-widgets/controls",
            "_model_module_version": "1.5.0",
            "_model_name": "DescriptionStyleModel",
            "_view_count": null,
            "_view_module": "@jupyter-widgets/base",
            "_view_module_version": "1.2.0",
            "_view_name": "StyleView",
            "description_width": ""
          }
        },
        "204bed67be79410cb6b46f5136903108": {
          "model_module": "@jupyter-widgets/base",
          "model_name": "LayoutModel",
          "model_module_version": "1.2.0",
          "state": {
            "_model_module": "@jupyter-widgets/base",
            "_model_module_version": "1.2.0",
            "_model_name": "LayoutModel",
            "_view_count": null,
            "_view_module": "@jupyter-widgets/base",
            "_view_module_version": "1.2.0",
            "_view_name": "LayoutView",
            "align_content": null,
            "align_items": null,
            "align_self": null,
            "border": null,
            "bottom": null,
            "display": null,
            "flex": null,
            "flex_flow": null,
            "grid_area": null,
            "grid_auto_columns": null,
            "grid_auto_flow": null,
            "grid_auto_rows": null,
            "grid_column": null,
            "grid_gap": null,
            "grid_row": null,
            "grid_template_areas": null,
            "grid_template_columns": null,
            "grid_template_rows": null,
            "height": null,
            "justify_content": null,
            "justify_items": null,
            "left": null,
            "margin": null,
            "max_height": null,
            "max_width": null,
            "min_height": null,
            "min_width": null,
            "object_fit": null,
            "object_position": null,
            "order": null,
            "overflow": null,
            "overflow_x": null,
            "overflow_y": null,
            "padding": null,
            "right": null,
            "top": null,
            "visibility": null,
            "width": null
          }
        },
        "7a4edba9759344ffaf625d5a0f8a3f2c": {
          "model_module": "@jupyter-widgets/controls",
          "model_name": "ProgressStyleModel",
          "model_module_version": "1.5.0",
          "state": {
            "_model_module": "@jupyter-widgets/controls",
            "_model_module_version": "1.5.0",
            "_model_name": "ProgressStyleModel",
            "_view_count": null,
            "_view_module": "@jupyter-widgets/base",
            "_view_module_version": "1.2.0",
            "_view_name": "StyleView",
            "bar_color": null,
            "description_width": ""
          }
        },
        "89c1bc1d36de4e78ab20de5b12c7934b": {
          "model_module": "@jupyter-widgets/base",
          "model_name": "LayoutModel",
          "model_module_version": "1.2.0",
          "state": {
            "_model_module": "@jupyter-widgets/base",
            "_model_module_version": "1.2.0",
            "_model_name": "LayoutModel",
            "_view_count": null,
            "_view_module": "@jupyter-widgets/base",
            "_view_module_version": "1.2.0",
            "_view_name": "LayoutView",
            "align_content": null,
            "align_items": null,
            "align_self": null,
            "border": null,
            "bottom": null,
            "display": null,
            "flex": null,
            "flex_flow": null,
            "grid_area": null,
            "grid_auto_columns": null,
            "grid_auto_flow": null,
            "grid_auto_rows": null,
            "grid_column": null,
            "grid_gap": null,
            "grid_row": null,
            "grid_template_areas": null,
            "grid_template_columns": null,
            "grid_template_rows": null,
            "height": null,
            "justify_content": null,
            "justify_items": null,
            "left": null,
            "margin": null,
            "max_height": null,
            "max_width": null,
            "min_height": null,
            "min_width": null,
            "object_fit": null,
            "object_position": null,
            "order": null,
            "overflow": null,
            "overflow_x": null,
            "overflow_y": null,
            "padding": null,
            "right": null,
            "top": null,
            "visibility": null,
            "width": null
          }
        },
        "55f2838eb5c044d8a10f9c780164f78a": {
          "model_module": "@jupyter-widgets/controls",
          "model_name": "DescriptionStyleModel",
          "model_module_version": "1.5.0",
          "state": {
            "_model_module": "@jupyter-widgets/controls",
            "_model_module_version": "1.5.0",
            "_model_name": "DescriptionStyleModel",
            "_view_count": null,
            "_view_module": "@jupyter-widgets/base",
            "_view_module_version": "1.2.0",
            "_view_name": "StyleView",
            "description_width": ""
          }
        }
      }
    }
  },
  "cells": [
    {
      "cell_type": "code",
      "execution_count": 1,
      "metadata": {
        "id": "yzP-sOxYreHo"
      },
      "outputs": [],
      "source": [
        "import numpy as np\n",
        "import torch\n",
        "import torchvision\n",
        "import torchvision.transforms as transforms\n",
        "import torch.nn as nn\n",
        "import torch.nn.functional as F\n",
        "import torch.optim as optim\n",
        "import matplotlib.pyplot as plt\n"
      ]
    },
    {
      "cell_type": "code",
      "source": [
        "\n",
        "transform = transforms.Compose([transforms.ToTensor(),\n",
        "                                transforms.Normalize((0.5, 0.5, 0.5), (0.5, 0.5, 0.5)) ,\n",
        "                                transforms.Grayscale(),\n",
        "                                ])\n",
        "\n",
        "trainset = torchvision.datasets.CIFAR10(root='./data', train=True,download=True, transform=transform)\n",
        "train_subset, val_subset = torch.utils.data.random_split(trainset, [40000, 10000], generator=torch.Generator().manual_seed(1))\n",
        "testset = torchvision.datasets.CIFAR10(root='./data', train=False,download=True, transform=transform)\n",
        "\n",
        "\n",
        "classes = ('plane', 'car', 'bird', 'cat','deer', 'dog', 'frog', 'horse', 'ship', 'truck')"
      ],
      "metadata": {
        "colab": {
          "base_uri": "https://localhost:8080/",
          "height": 102,
          "referenced_widgets": [
            "7d30c831005b4389a6548ee2f5498095",
            "3b42dfe4aedd484d91c6efee21ad5390",
            "51fe9ae47cbd4dc8ae1afc89b231960f",
            "3daee7133c204b458d2d434aa5f153e0",
            "01c63abb99114e3cb137a9dc478f5909",
            "3fe8fa08e9564cc3b333cc53fd4863cc",
            "e0ea03b30dc3452daded5062083d3ae6",
            "204bed67be79410cb6b46f5136903108",
            "7a4edba9759344ffaf625d5a0f8a3f2c",
            "89c1bc1d36de4e78ab20de5b12c7934b",
            "55f2838eb5c044d8a10f9c780164f78a"
          ]
        },
        "id": "q7uhTVADphpo",
        "outputId": "d96918fd-3c6c-4c20-cc06-6e85ce32db23"
      },
      "execution_count": 2,
      "outputs": [
        {
          "output_type": "stream",
          "name": "stdout",
          "text": [
            "Downloading https://www.cs.toronto.edu/~kriz/cifar-10-python.tar.gz to ./data/cifar-10-python.tar.gz\n"
          ]
        },
        {
          "output_type": "display_data",
          "data": {
            "text/plain": [
              "  0%|          | 0/170498071 [00:00<?, ?it/s]"
            ],
            "application/vnd.jupyter.widget-view+json": {
              "version_major": 2,
              "version_minor": 0,
              "model_id": "7d30c831005b4389a6548ee2f5498095"
            }
          },
          "metadata": {}
        },
        {
          "output_type": "stream",
          "name": "stdout",
          "text": [
            "Extracting ./data/cifar-10-python.tar.gz to ./data\n",
            "Files already downloaded and verified\n"
          ]
        }
      ]
    },
    {
      "cell_type": "code",
      "source": [
        ""
      ],
      "metadata": {
        "id": "hfMjKCiCDn3j"
      },
      "execution_count": null,
      "outputs": []
    },
    {
      "cell_type": "code",
      "source": [
        "\n",
        "#trainloader = torch.utils.data.DataLoader(trainset, batch_size=batch_size,shuffle=True, num_workers=2)\n",
        "trainloader = torch.utils.data.DataLoader(dataset=train_subset, batch_size=len(train_subset), shuffle=True, num_workers=2)\n",
        "valloader = torch.utils.data.DataLoader(dataset=val_subset, batch_size=len(val_subset), shuffle=False, num_workers=2)\n",
        "testloader = torch.utils.data.DataLoader(testset, batch_size=len(testset),shuffle=False, num_workers=2)"
      ],
      "metadata": {
        "id": "YhV6OxY6SOK-"
      },
      "execution_count": 6,
      "outputs": []
    },
    {
      "cell_type": "code",
      "source": [
        "device = torch.device('cuda' if torch.cuda.is_available() else 'cpu')\n",
        "device"
      ],
      "metadata": {
        "colab": {
          "base_uri": "https://localhost:8080/"
        },
        "id": "0Ic8GO4TuedC",
        "outputId": "7a13a01b-3553-4250-efc1-7ac28efc63da"
      },
      "execution_count": 7,
      "outputs": [
        {
          "output_type": "execute_result",
          "data": {
            "text/plain": [
              "device(type='cuda')"
            ]
          },
          "metadata": {},
          "execution_count": 7
        }
      ]
    },
    {
      "cell_type": "markdown",
      "source": [
        "# pca"
      ],
      "metadata": {
        "id": "bXKOe4CnEOam"
      }
    },
    {
      "cell_type": "markdown",
      "source": [
        "# autoencoder"
      ],
      "metadata": {
        "id": "zoYehgLYEKoR"
      }
    },
    {
      "cell_type": "code",
      "source": [
        "class Autoencoder(nn.Module):\n",
        "\n",
        "    def __init__(self, input_size=32*32*1, output_size=10):\n",
        "        super().__init__()\n",
        "        # encoder\n",
        "        self.enc1 = nn.Linear(input_size, 256)\n",
        "        self.enc2 = nn.Linear(256,128)\n",
        "        self.enc3 = nn.Linear(128,128)\n",
        "        self.enc4 = nn.Linear(128,64)\n",
        "        self.enc5 = nn.Linear(64,output_size)\n",
        "\n",
        "        # decoder \n",
        "        self.dec1 = nn.Linear(output_size, 64)\n",
        "        self.dec2 = nn.Linear(64, 128)\n",
        "        self.dec3 = nn.Linear(128,128)\n",
        "        self.dec4 = nn.Linear(128,256)\n",
        "        self.dec5 = nn.Linear(256,input_size)\n",
        "\n",
        "      \n",
        "       \n",
        "    def forward(self, x):\n",
        "\n",
        "        x = F.relu(self.enc1(x))\n",
        "        x = F.relu(self.enc2(x))\n",
        "        x = F.relu(self.enc3(x))\n",
        "        x = F.relu(self.enc4(x))\n",
        "        x = F.relu(self.enc5(x))\n",
        "\n",
        "        x = F.relu(self.dec1(x))\n",
        "        x = F.relu(self.dec2(x))\n",
        "        x = F.relu(self.dec3(x))\n",
        "        x = F.relu(self.dec4(x))\n",
        "        x = F.relu(self.dec5(x))\n",
        "        return x\n"
      ],
      "metadata": {
        "id": "CJIhfAN9SSw2"
      },
      "execution_count": 5,
      "outputs": []
    },
    {
      "cell_type": "code",
      "source": [
        "\n",
        "model = Autoencoder()\n",
        "model.to(device)\n",
        "criterion = nn.MSELoss()\n",
        "optimizer = optim.Adam(model.parameters(), lr=0.001)\n"
      ],
      "metadata": {
        "id": "MTAs-cu5TZiQ"
      },
      "execution_count": 6,
      "outputs": []
    },
    {
      "cell_type": "code",
      "source": [
        "def train(trainloader,valloader,model,epochs):\n",
        "  \n",
        "\n",
        "  train_losses = []\n",
        "  val_losses = []\n",
        "  train_acc = []\n",
        "  val_acc  = []\n",
        "\n",
        "  for i in range(epochs):\n",
        "    \n",
        "      trn_corr = 0\n",
        "      val_corr = 0\n",
        "      batch_corr = 0\n",
        "      val_batch_corr = 0\n",
        "      loss_sum_train =0\n",
        "      loss_sum_val =0\n",
        "      \n",
        "\n",
        "      for b_iter,data in enumerate(trainloader):\n",
        "        b_iter +=1\n",
        "        inputs , _ = data\n",
        "        inputs = inputs.view(inputs.size(0), -1).to(device)\n",
        "        y_pred = model(inputs).to(device)\n",
        "        \n",
        "        loss = criterion(y_pred,inputs)\n",
        "        loss_sum_train += loss.item()\n",
        "        \n",
        "        \n",
        "        optimizer.zero_grad()\n",
        "        loss.backward()\n",
        "        optimizer.step()\n",
        "\n",
        "        \n",
        "      train_losses.append(loss_sum_train/b_iter)\n",
        "      \n",
        "      \n",
        "\n",
        "      with torch.no_grad():\n",
        "        b_iter = 0\n",
        "        for b_iter,data in enumerate(valloader):\n",
        "          b_iter +=1\n",
        "          inputs , _ = data\n",
        "          input = inputs.reshape(-1, 32*32*1).to(device)\n",
        "          y_val = model(input).to(device)\n",
        "          loss_v = criterion(y_val,input)\n",
        "          loss_sum_val += loss_v.item()\n",
        "          \n",
        "        \n",
        "        val_losses.append(loss_sum_val/b_iter)\n",
        "\n",
        "        print('epoch: {} , loss_train: {}  , loss_val: {} '.format(i,loss_sum_train/b_iter,loss_sum_val/b_iter))\n",
        "\n",
        "  return model,train_losses, val_losses"
      ],
      "metadata": {
        "id": "PotABpfMTsui"
      },
      "execution_count": 7,
      "outputs": []
    },
    {
      "cell_type": "code",
      "source": [
        "model , train_losses, val_losses = train(trainloader,valloader,model,50)"
      ],
      "metadata": {
        "colab": {
          "base_uri": "https://localhost:8080/"
        },
        "id": "-4JzFE0UUr0v",
        "outputId": "2a241a92-c586-44fc-cc48-c229127faa27"
      },
      "execution_count": 9,
      "outputs": [
        {
          "output_type": "stream",
          "name": "stdout",
          "text": [
            "epoch: 0 , loss_train: 0.7744740941532099  , loss_val: 0.18862488600099162 \n",
            "epoch: 1 , loss_train: 0.7283237711259514  , loss_val: 0.18179118481411297 \n",
            "epoch: 2 , loss_train: 0.7064123149890049  , loss_val: 0.1777469402855369 \n",
            "epoch: 3 , loss_train: 0.6978414149800684  , loss_val: 0.17644400021452813 \n",
            "epoch: 4 , loss_train: 0.6933181274468732  , loss_val: 0.17558025734819424 \n",
            "epoch: 5 , loss_train: 0.687694350245652  , loss_val: 0.1736942717603817 \n",
            "epoch: 6 , loss_train: 0.6793575389370038  , loss_val: 0.17164912335811908 \n",
            "epoch: 7 , loss_train: 0.6741459659140581  , loss_val: 0.1711647331145159 \n",
            "epoch: 8 , loss_train: 0.671253000569951  , loss_val: 0.17038104222838285 \n",
            "epoch: 9 , loss_train: 0.6677411369457367  , loss_val: 0.1695886300817417 \n",
            "epoch: 10 , loss_train: 0.6659390053172021  , loss_val: 0.16919820390309498 \n",
            "epoch: 11 , loss_train: 0.6636076381631718  , loss_val: 0.16893004317572163 \n",
            "epoch: 12 , loss_train: 0.6622379714516318  , loss_val: 0.16861743665045234 \n",
            "epoch: 13 , loss_train: 0.661150329716646  , loss_val: 0.16828069413543506 \n",
            "epoch: 14 , loss_train: 0.6599451135488072  , loss_val: 0.16826235147038843 \n",
            "epoch: 15 , loss_train: 0.6586173080904468  , loss_val: 0.16788092378977756 \n",
            "epoch: 16 , loss_train: 0.6578189638579727  , loss_val: 0.167852373259842 \n",
            "epoch: 17 , loss_train: 0.6570491379803154  , loss_val: 0.16750306688296568 \n",
            "epoch: 18 , loss_train: 0.6553600254901655  , loss_val: 0.16726002097129822 \n",
            "epoch: 19 , loss_train: 0.6549682374213152  , loss_val: 0.16716803031362545 \n",
            "epoch: 20 , loss_train: 0.6542603994251057  , loss_val: 0.1671830642565041 \n",
            "epoch: 21 , loss_train: 0.6541243466032538  , loss_val: 0.16717618789262834 \n",
            "epoch: 22 , loss_train: 0.6534025393853522  , loss_val: 0.16719466220041748 \n",
            "epoch: 23 , loss_train: 0.6527642045810724  , loss_val: 0.16687197034146375 \n",
            "epoch: 24 , loss_train: 0.6519526732955009  , loss_val: 0.1666015258450417 \n",
            "epoch: 25 , loss_train: 0.6510660812543456  , loss_val: 0.1665103847433807 \n",
            "epoch: 26 , loss_train: 0.6507233382220481  , loss_val: 0.1666496870624032 \n",
            "epoch: 27 , loss_train: 0.650075615116745  , loss_val: 0.1664794525902742 \n",
            "epoch: 28 , loss_train: 0.6497987840490737  , loss_val: 0.1662986747398498 \n",
            "epoch: 29 , loss_train: 0.6494220397464788  , loss_val: 0.1662570286518449 \n",
            "epoch: 30 , loss_train: 0.6493221766250149  , loss_val: 0.16631996755007725 \n",
            "epoch: 31 , loss_train: 0.6490811044053667  , loss_val: 0.16628503808929662 \n",
            "epoch: 32 , loss_train: 0.6483029728862131  , loss_val: 0.1665137582903455 \n",
            "epoch: 33 , loss_train: 0.6481311196924016  , loss_val: 0.1660954917122604 \n",
            "epoch: 34 , loss_train: 0.6472090389223615  , loss_val: 0.16619567383246817 \n",
            "epoch: 35 , loss_train: 0.6466579850596986  , loss_val: 0.16570489545157002 \n",
            "epoch: 36 , loss_train: 0.6456730502426244  , loss_val: 0.16564801847858793 \n",
            "epoch: 37 , loss_train: 0.6449587434340435  , loss_val: 0.16558603676641062 \n",
            "epoch: 38 , loss_train: 0.6446381847190249  , loss_val: 0.1655589698036765 \n",
            "epoch: 39 , loss_train: 0.6446563235134076  , loss_val: 0.16555234078009418 \n",
            "epoch: 40 , loss_train: 0.6444097901605497  , loss_val: 0.16558529569464883 \n",
            "epoch: 41 , loss_train: 0.6439771221321859  , loss_val: 0.16530202091879145 \n",
            "epoch: 42 , loss_train: 0.6439623902937409  , loss_val: 0.16545912338669894 \n",
            "epoch: 43 , loss_train: 0.6436985289784753  , loss_val: 0.16536808564404773 \n",
            "epoch: 44 , loss_train: 0.6436749663512418  , loss_val: 0.16540830131548984 \n",
            "epoch: 45 , loss_train: 0.643630070291507  , loss_val: 0.16542169423240005 \n",
            "epoch: 46 , loss_train: 0.6434052379647638  , loss_val: 0.16561986069390727 \n",
            "epoch: 47 , loss_train: 0.6433807534586852  , loss_val: 0.16535387695974604 \n",
            "epoch: 48 , loss_train: 0.642992416479785  , loss_val: 0.16545326789473272 \n",
            "epoch: 49 , loss_train: 0.6427767265374493  , loss_val: 0.16542805123860668 \n"
          ]
        }
      ]
    },
    {
      "cell_type": "code",
      "source": [
        "plt.figure(figsize=(18,3)) \n",
        "plt.plot(train_losses, c='red')\n",
        "plt.plot(val_losses, c='blue')\n",
        "plt.show()"
      ],
      "metadata": {
        "colab": {
          "base_uri": "https://localhost:8080/",
          "height": 211
        },
        "id": "lptz9MSv6Hz6",
        "outputId": "a05cf513-9b5e-4b3f-ada1-7d782a7e70f9"
      },
      "execution_count": 10,
      "outputs": [
        {
          "output_type": "display_data",
          "data": {
            "text/plain": [
              "<Figure size 1296x216 with 1 Axes>"
            ],
            "image/png": "[encoded data removed]"
          },
          "metadata": {
            "needs_background": "light"
          }
        }
      ]
    },
    {
      "cell_type": "markdown",
      "source": [
        "# د"
      ],
      "metadata": {
        "id": "FgmgvmjS5t_I"
      }
    },
    {
      "cell_type": "code",
      "source": [
        "import pandas as pd\n",
        "import seaborn as sns\n",
        "\n",
        "df = pd.read_csv(\"data.csv\")"
      ],
      "metadata": {
        "id": "kePvmFcrjFeq"
      },
      "execution_count": 1,
      "outputs": []
    },
    {
      "cell_type": "code",
      "source": [
        "correlation_matrix = df.corr().round(2)\n",
        "sns.set(rc={'figure.figsize':(10,10)})\n",
        "# annot = True \n",
        "sns.heatmap(data = correlation_matrix, annot = True)"
      ],
      "metadata": {
        "colab": {
          "base_uri": "https://localhost:8080/",
          "height": 688
        },
        "id": "xWS9ZqVm97aH",
        "outputId": "2452cbe6-1e8c-449a-c404-7af80946a91d"
      },
      "execution_count": 3,
      "outputs": [
        {
          "output_type": "execute_result",
          "data": {
            "text/plain": [
              "<matplotlib.axes._subplots.AxesSubplot at 0x7f8f96772f90>"
            ]
          },
          "metadata": {},
          "execution_count": 3
        },
        {
          "output_type": "display_data",
          "data": {
            "text/plain": [
              "<Figure size 720x720 with 2 Axes>"
            ],
            "image/png": "[encoded data removed]"
          },
          "metadata": {}
        }
      ]
    },
    {
      "cell_type": "markdown",
      "source": [
        "# و"
      ],
      "metadata": {
        "id": "oaHmkmCnL3f4"
      }
    },
    {
      "cell_type": "markdown",
      "source": [
        "# linear regression"
      ],
      "metadata": {
        "id": "nllPr6ILU8OH"
      }
    },
    {
      "cell_type": "code",
      "source": [
        "import pandas as pd\n",
        "df = pd.read_csv(\"data.csv\")"
      ],
      "metadata": {
        "id": "C25idN7xMAww"
      },
      "execution_count": 14,
      "outputs": []
    },
    {
      "cell_type": "code",
      "source": [
        "df.drop('date', axis=1, inplace=True)"
      ],
      "metadata": {
        "id": "5Nm85HpMNNG4"
      },
      "execution_count": 15,
      "outputs": []
    },
    {
      "cell_type": "code",
      "source": [
        "def remove_outliers(data, x):\n",
        "    q25 = np.percentile(data[x], 25)\n",
        "    q75 = np.percentile(data[x], 75)\n",
        "    iqr = q75 - q25\n",
        "    cut_off = iqr * 1.5\n",
        "    lower, upper = 1, (q75 + cut_off)\n",
        "    data = data[(data[x] < upper) & (data[x] > lower)]\n",
        "    print(f\"Outliers of {x} are removed\\n\")\n",
        "    return data"
      ],
      "metadata": {
        "id": "I4bOTxOMNeyp"
      },
      "execution_count": 16,
      "outputs": []
    },
    {
      "cell_type": "code",
      "source": [
        "df = remove_outliers(df, 'price')"
      ],
      "metadata": {
        "colab": {
          "base_uri": "https://localhost:8080/"
        },
        "id": "lJjalYQ8NkTO",
        "outputId": "49abe55a-cf55-4c6d-cc71-152d87a9be41"
      },
      "execution_count": 17,
      "outputs": [
        {
          "output_type": "stream",
          "name": "stdout",
          "text": [
            "Outliers of price are removed\n",
            "\n"
          ]
        }
      ]
    },
    {
      "cell_type": "code",
      "source": [
        "from sklearn.preprocessing import LabelEncoder\n",
        "categorical_columns = ['street','city','statezip','country']\n",
        "for i in categorical_columns :\n",
        "  labelencoder = LabelEncoder()\n",
        "  df[i] = labelencoder.fit_transform(df[i])"
      ],
      "metadata": {
        "id": "ZOtXWYSoNo6-"
      },
      "execution_count": 18,
      "outputs": []
    },
    {
      "cell_type": "code",
      "source": [
        "x = df.drop('price',axis =1)\n",
        "y = df['price']"
      ],
      "metadata": {
        "id": "8CuMPDkCMr6-"
      },
      "execution_count": 19,
      "outputs": []
    },
    {
      "cell_type": "code",
      "source": [
        "from sklearn.preprocessing import StandardScaler\n",
        "s_scaler = StandardScaler()\n",
        "x_scaled = s_scaler.fit_transform(x)"
      ],
      "metadata": {
        "id": "c07rtEhUN69o"
      },
      "execution_count": 20,
      "outputs": []
    },
    {
      "cell_type": "code",
      "source": [
        "from sklearn.linear_model import LinearRegression\n",
        "regressor = LinearRegression()\n",
        "regressor.fit(x_scaled, y)"
      ],
      "metadata": {
        "colab": {
          "base_uri": "https://localhost:8080/"
        },
        "id": "-BPDPYLGNUEq",
        "outputId": "68f000ac-8cf8-404a-c0a4-2fc65dbb22ff"
      },
      "execution_count": 21,
      "outputs": [
        {
          "output_type": "execute_result",
          "data": {
            "text/plain": [
              "LinearRegression()"
            ]
          },
          "metadata": {},
          "execution_count": 21
        }
      ]
    },
    {
      "cell_type": "code",
      "source": [
        "intercept = regressor.intercept_\n",
        "features = pd.DataFrame(regressor.coef_, x.columns, columns=['coefficient'])\n",
        "features.head()"
      ],
      "metadata": {
        "colab": {
          "base_uri": "https://localhost:8080/",
          "height": 206
        },
        "id": "WX5d9XhLT9-f",
        "outputId": "18b8e483-c955-421d-877f-21b5ec471116"
      },
      "execution_count": 22,
      "outputs": [
        {
          "output_type": "execute_result",
          "data": {
            "text/plain": [
              "              coefficient\n",
              "bedrooms    -24413.430114\n",
              "bathrooms    30929.871283\n",
              "sqft_living  72411.383224\n",
              "sqft_lot     -6907.183790\n",
              "floors       24801.761613"
            ],
            "text/html": [
              "\n",
              "  <div id=\"df-7a258080-c553-45f1-bf37-4a7f73230382\">\n",
              "    <div class=\"colab-df-container\">\n",
              "      <div>\n",
              "<style scoped>\n",
              "    .dataframe tbody tr th:only-of-type {\n",
              "        vertical-align: middle;\n",
              "    }\n",
              "\n",
              "    .dataframe tbody tr th {\n",
              "        vertical-align: top;\n",
              "    }\n",
              "\n",
              "    .dataframe thead th {\n",
              "        text-align: right;\n",
              "    }\n",
              "</style>\n",
              "<table border=\"1\" class=\"dataframe\">\n",
              "  <thead>\n",
              "    <tr style=\"text-align: right;\">\n",
              "      <th></th>\n",
              "      <th>coefficient</th>\n",
              "    </tr>\n",
              "  </thead>\n",
              "  <tbody>\n",
              "    <tr>\n",
              "      <th>bedrooms</th>\n",
              "      <td>-24413.430114</td>\n",
              "    </tr>\n",
              "    <tr>\n",
              "      <th>bathrooms</th>\n",
              "      <td>30929.871283</td>\n",
              "    </tr>\n",
              "    <tr>\n",
              "      <th>sqft_living</th>\n",
              "      <td>72411.383224</td>\n",
              "    </tr>\n",
              "    <tr>\n",
              "      <th>sqft_lot</th>\n",
              "      <td>-6907.183790</td>\n",
              "    </tr>\n",
              "    <tr>\n",
              "      <th>floors</th>\n",
              "      <td>24801.761613</td>\n",
              "    </tr>\n",
              "  </tbody>\n",
              "</table>\n",
              "</div>\n",
              "      <button class=\"colab-df-convert\" onclick=\"convertToInteractive('df-7a258080-c553-45f1-bf37-4a7f73230382')\"\n",
              "              title=\"Convert this dataframe to an interactive table.\"\n",
              "              style=\"display:none;\">\n",
              "        \n",
              "  <svg xmlns=\"http://www.w3.org/2000/svg\" height=\"24px\"viewBox=\"0 0 24 24\"\n",
              "       width=\"24px\">\n",
              "    <path d=\"M0 0h24v24H0V0z\" fill=\"none\"/>\n",
              "    <path d=\"M18.56 5.44l.94 2.06.94-2.06 2.06-.94-2.06-.94-.94-2.06-.94 2.06-2.06.94zm-11 1L8.5 8.5l.94-2.06 2.06-.94-2.06-.94L8.5 2.5l-.94 2.06-2.06.94zm10 10l.94 2.06.94-2.06 2.06-.94-2.06-.94-.94-2.06-.94 2.06-2.06.94z\"/><path d=\"M17.41 7.96l-1.37-1.37c-.4-.4-.92-.59-1.43-.59-.52 0-1.04.2-1.43.59L10.3 9.45l-7.72 7.72c-.78.78-.78 2.05 0 2.83L4 21.41c.39.39.9.59 1.41.59.51 0 1.02-.2 1.41-.59l7.78-7.78 2.81-2.81c.8-.78.8-2.07 0-2.86zM5.41 20L4 18.59l7.72-7.72 1.47 1.35L5.41 20z\"/>\n",
              "  </svg>\n",
              "      </button>\n",
              "      \n",
              "  <style>\n",
              "    .colab-df-container {\n",
              "      display:flex;\n",
              "      flex-wrap:wrap;\n",
              "      gap: 12px;\n",
              "    }\n",
              "\n",
              "    .colab-df-convert {\n",
              "      background-color: #E8F0FE;\n",
              "      border: none;\n",
              "      border-radius: 50%;\n",
              "      cursor: pointer;\n",
              "      display: none;\n",
              "      fill: #1967D2;\n",
              "      height: 32px;\n",
              "      padding: 0 0 0 0;\n",
              "      width: 32px;\n",
              "    }\n",
              "\n",
              "    .colab-df-convert:hover {\n",
              "      background-color: #E2EBFA;\n",
              "      box-shadow: 0px 1px 2px rgba(60, 64, 67, 0.3), 0px 1px 3px 1px rgba(60, 64, 67, 0.15);\n",
              "      fill: #174EA6;\n",
              "    }\n",
              "\n",
              "    [theme=dark] .colab-df-convert {\n",
              "      background-color: #3B4455;\n",
              "      fill: #D2E3FC;\n",
              "    }\n",
              "\n",
              "    [theme=dark] .colab-df-convert:hover {\n",
              "      background-color: #434B5C;\n",
              "      box-shadow: 0px 1px 3px 1px rgba(0, 0, 0, 0.15);\n",
              "      filter: drop-shadow(0px 1px 2px rgba(0, 0, 0, 0.3));\n",
              "      fill: #FFFFFF;\n",
              "    }\n",
              "  </style>\n",
              "\n",
              "      <script>\n",
              "        const buttonEl =\n",
              "          document.querySelector('#df-7a258080-c553-45f1-bf37-4a7f73230382 button.colab-df-convert');\n",
              "        buttonEl.style.display =\n",
              "          google.colab.kernel.accessAllowed ? 'block' : 'none';\n",
              "\n",
              "        async function convertToInteractive(key) {\n",
              "          const element = document.querySelector('#df-7a258080-c553-45f1-bf37-4a7f73230382');\n",
              "          const dataTable =\n",
              "            await google.colab.kernel.invokeFunction('convertToInteractive',\n",
              "                                                     [key], {});\n",
              "          if (!dataTable) return;\n",
              "\n",
              "          const docLinkHtml = 'Like what you see? Visit the ' +\n",
              "            '<a target=\"_blank\" href=https://colab.research.google.com/notebooks/data_table.ipynb>data table notebook</a>'\n",
              "            + ' to learn more about interactive tables.';\n",
              "          element.innerHTML = '';\n",
              "          dataTable['output_type'] = 'display_data';\n",
              "          await google.colab.output.renderOutput(dataTable, element);\n",
              "          const docLink = document.createElement('div');\n",
              "          docLink.innerHTML = docLinkHtml;\n",
              "          element.appendChild(docLink);\n",
              "        }\n",
              "      </script>\n",
              "    </div>\n",
              "  </div>\n",
              "  "
            ]
          },
          "metadata": {},
          "execution_count": 22
        }
      ]
    },
    {
      "cell_type": "code",
      "source": [
        "features.coefficient = features.coefficient.abs()"
      ],
      "metadata": {
        "id": "M5daachIUU0T"
      },
      "execution_count": 23,
      "outputs": []
    },
    {
      "cell_type": "code",
      "source": [
        "stdevs = []\n",
        "for i in x.columns:\n",
        "    stdev = df[i].std()\n",
        "    stdevs.append(stdev)\n",
        " \n",
        "import numpy as np\n",
        "features[\"stdev\"] = np.array(stdevs).reshape(-1,1)\n",
        "features[\"importance\"] = features[\"coefficient\"] * features[\"stdev\"]\n"
      ],
      "metadata": {
        "id": "JOu7nDsLUchO"
      },
      "execution_count": 24,
      "outputs": []
    },
    {
      "cell_type": "code",
      "source": [
        "features"
      ],
      "metadata": {
        "colab": {
          "base_uri": "https://localhost:8080/",
          "height": 551
        },
        "id": "kNd8-RZIUgPx",
        "outputId": "d9d6683b-8518-4fba-80ce-97962be91872"
      },
      "execution_count": 25,
      "outputs": [
        {
          "output_type": "execute_result",
          "data": {
            "text/plain": [
              "                coefficient         stdev    importance\n",
              "bedrooms       24413.430114      0.881215  2.151348e+04\n",
              "bathrooms      30929.871283      0.715171  2.212015e+04\n",
              "sqft_living    72411.383224    810.138266  5.866323e+07\n",
              "sqft_lot        6907.183790  36141.110719  2.496333e+08\n",
              "floors         24801.761613      0.536898  1.331601e+04\n",
              "waterfront      3490.695474      0.060815  2.122882e+02\n",
              "view           18828.031354      0.644964  1.214340e+04\n",
              "condition      17699.003254      0.669194  1.184407e+04\n",
              "sqft_above     62651.591980    763.543329  4.783721e+07\n",
              "sqft_basement  25622.068568    422.527450  1.082603e+07\n",
              "yr_built       47902.283246     29.506086  1.413409e+06\n",
              "yr_renovated    3489.964267    979.844447  3.419622e+06\n",
              "street          5796.531066   1224.677891  7.098883e+06\n",
              "city           40343.124089     11.914455  4.806664e+05\n",
              "statezip       21630.185208     20.759472  4.490312e+05\n",
              "country            0.000000      0.000000  0.000000e+00"
            ],
            "text/html": [
              "\n",
              "  <div id=\"df-a5cc6cc0-9f19-4a36-adbb-3259847a5ae6\">\n",
              "    <div class=\"colab-df-container\">\n",
              "      <div>\n",
              "<style scoped>\n",
              "    .dataframe tbody tr th:only-of-type {\n",
              "        vertical-align: middle;\n",
              "    }\n",
              "\n",
              "    .dataframe tbody tr th {\n",
              "        vertical-align: top;\n",
              "    }\n",
              "\n",
              "    .dataframe thead th {\n",
              "        text-align: right;\n",
              "    }\n",
              "</style>\n",
              "<table border=\"1\" class=\"dataframe\">\n",
              "  <thead>\n",
              "    <tr style=\"text-align: right;\">\n",
              "      <th></th>\n",
              "      <th>coefficient</th>\n",
              "      <th>stdev</th>\n",
              "      <th>importance</th>\n",
              "    </tr>\n",
              "  </thead>\n",
              "  <tbody>\n",
              "    <tr>\n",
              "      <th>bedrooms</th>\n",
              "      <td>24413.430114</td>\n",
              "      <td>0.881215</td>\n",
              "      <td>2.151348e+04</td>\n",
              "    </tr>\n",
              "    <tr>\n",
              "      <th>bathrooms</th>\n",
              "      <td>30929.871283</td>\n",
              "      <td>0.715171</td>\n",
              "      <td>2.212015e+04</td>\n",
              "    </tr>\n",
              "    <tr>\n",
              "      <th>sqft_living</th>\n",
              "      <td>72411.383224</td>\n",
              "      <td>810.138266</td>\n",
              "      <td>5.866323e+07</td>\n",
              "    </tr>\n",
              "    <tr>\n",
              "      <th>sqft_lot</th>\n",
              "      <td>6907.183790</td>\n",
              "      <td>36141.110719</td>\n",
              "      <td>2.496333e+08</td>\n",
              "    </tr>\n",
              "    <tr>\n",
              "      <th>floors</th>\n",
              "      <td>24801.761613</td>\n",
              "      <td>0.536898</td>\n",
              "      <td>1.331601e+04</td>\n",
              "    </tr>\n",
              "    <tr>\n",
              "      <th>waterfront</th>\n",
              "      <td>3490.695474</td>\n",
              "      <td>0.060815</td>\n",
              "      <td>2.122882e+02</td>\n",
              "    </tr>\n",
              "    <tr>\n",
              "      <th>view</th>\n",
              "      <td>18828.031354</td>\n",
              "      <td>0.644964</td>\n",
              "      <td>1.214340e+04</td>\n",
              "    </tr>\n",
              "    <tr>\n",
              "      <th>condition</th>\n",
              "      <td>17699.003254</td>\n",
              "      <td>0.669194</td>\n",
              "      <td>1.184407e+04</td>\n",
              "    </tr>\n",
              "    <tr>\n",
              "      <th>sqft_above</th>\n",
              "      <td>62651.591980</td>\n",
              "      <td>763.543329</td>\n",
              "      <td>4.783721e+07</td>\n",
              "    </tr>\n",
              "    <tr>\n",
              "      <th>sqft_basement</th>\n",
              "      <td>25622.068568</td>\n",
              "      <td>422.527450</td>\n",
              "      <td>1.082603e+07</td>\n",
              "    </tr>\n",
              "    <tr>\n",
              "      <th>yr_built</th>\n",
              "      <td>47902.283246</td>\n",
              "      <td>29.506086</td>\n",
              "      <td>1.413409e+06</td>\n",
              "    </tr>\n",
              "    <tr>\n",
              "      <th>yr_renovated</th>\n",
              "      <td>3489.964267</td>\n",
              "      <td>979.844447</td>\n",
              "      <td>3.419622e+06</td>\n",
              "    </tr>\n",
              "    <tr>\n",
              "      <th>street</th>\n",
              "      <td>5796.531066</td>\n",
              "      <td>1224.677891</td>\n",
              "      <td>7.098883e+06</td>\n",
              "    </tr>\n",
              "    <tr>\n",
              "      <th>city</th>\n",
              "      <td>40343.124089</td>\n",
              "      <td>11.914455</td>\n",
              "      <td>4.806664e+05</td>\n",
              "    </tr>\n",
              "    <tr>\n",
              "      <th>statezip</th>\n",
              "      <td>21630.185208</td>\n",
              "      <td>20.759472</td>\n",
              "      <td>4.490312e+05</td>\n",
              "    </tr>\n",
              "    <tr>\n",
              "      <th>country</th>\n",
              "      <td>0.000000</td>\n",
              "      <td>0.000000</td>\n",
              "      <td>0.000000e+00</td>\n",
              "    </tr>\n",
              "  </tbody>\n",
              "</table>\n",
              "</div>\n",
              "      <button class=\"colab-df-convert\" onclick=\"convertToInteractive('df-a5cc6cc0-9f19-4a36-adbb-3259847a5ae6')\"\n",
              "              title=\"Convert this dataframe to an interactive table.\"\n",
              "              style=\"display:none;\">\n",
              "        \n",
              "  <svg xmlns=\"http://www.w3.org/2000/svg\" height=\"24px\"viewBox=\"0 0 24 24\"\n",
              "       width=\"24px\">\n",
              "    <path d=\"M0 0h24v24H0V0z\" fill=\"none\"/>\n",
              "    <path d=\"M18.56 5.44l.94 2.06.94-2.06 2.06-.94-2.06-.94-.94-2.06-.94 2.06-2.06.94zm-11 1L8.5 8.5l.94-2.06 2.06-.94-2.06-.94L8.5 2.5l-.94 2.06-2.06.94zm10 10l.94 2.06.94-2.06 2.06-.94-2.06-.94-.94-2.06-.94 2.06-2.06.94z\"/><path d=\"M17.41 7.96l-1.37-1.37c-.4-.4-.92-.59-1.43-.59-.52 0-1.04.2-1.43.59L10.3 9.45l-7.72 7.72c-.78.78-.78 2.05 0 2.83L4 21.41c.39.39.9.59 1.41.59.51 0 1.02-.2 1.41-.59l7.78-7.78 2.81-2.81c.8-.78.8-2.07 0-2.86zM5.41 20L4 18.59l7.72-7.72 1.47 1.35L5.41 20z\"/>\n",
              "  </svg>\n",
              "      </button>\n",
              "      \n",
              "  <style>\n",
              "    .colab-df-container {\n",
              "      display:flex;\n",
              "      flex-wrap:wrap;\n",
              "      gap: 12px;\n",
              "    }\n",
              "\n",
              "    .colab-df-convert {\n",
              "      background-color: #E8F0FE;\n",
              "      border: none;\n",
              "      border-radius: 50%;\n",
              "      cursor: pointer;\n",
              "      display: none;\n",
              "      fill: #1967D2;\n",
              "      height: 32px;\n",
              "      padding: 0 0 0 0;\n",
              "      width: 32px;\n",
              "    }\n",
              "\n",
              "    .colab-df-convert:hover {\n",
              "      background-color: #E2EBFA;\n",
              "      box-shadow: 0px 1px 2px rgba(60, 64, 67, 0.3), 0px 1px 3px 1px rgba(60, 64, 67, 0.15);\n",
              "      fill: #174EA6;\n",
              "    }\n",
              "\n",
              "    [theme=dark] .colab-df-convert {\n",
              "      background-color: #3B4455;\n",
              "      fill: #D2E3FC;\n",
              "    }\n",
              "\n",
              "    [theme=dark] .colab-df-convert:hover {\n",
              "      background-color: #434B5C;\n",
              "      box-shadow: 0px 1px 3px 1px rgba(0, 0, 0, 0.15);\n",
              "      filter: drop-shadow(0px 1px 2px rgba(0, 0, 0, 0.3));\n",
              "      fill: #FFFFFF;\n",
              "    }\n",
              "  </style>\n",
              "\n",
              "      <script>\n",
              "        const buttonEl =\n",
              "          document.querySelector('#df-a5cc6cc0-9f19-4a36-adbb-3259847a5ae6 button.colab-df-convert');\n",
              "        buttonEl.style.display =\n",
              "          google.colab.kernel.accessAllowed ? 'block' : 'none';\n",
              "\n",
              "        async function convertToInteractive(key) {\n",
              "          const element = document.querySelector('#df-a5cc6cc0-9f19-4a36-adbb-3259847a5ae6');\n",
              "          const dataTable =\n",
              "            await google.colab.kernel.invokeFunction('convertToInteractive',\n",
              "                                                     [key], {});\n",
              "          if (!dataTable) return;\n",
              "\n",
              "          const docLinkHtml = 'Like what you see? Visit the ' +\n",
              "            '<a target=\"_blank\" href=https://colab.research.google.com/notebooks/data_table.ipynb>data table notebook</a>'\n",
              "            + ' to learn more about interactive tables.';\n",
              "          element.innerHTML = '';\n",
              "          dataTable['output_type'] = 'display_data';\n",
              "          await google.colab.output.renderOutput(dataTable, element);\n",
              "          const docLink = document.createElement('div');\n",
              "          docLink.innerHTML = docLinkHtml;\n",
              "          element.appendChild(docLink);\n",
              "        }\n",
              "      </script>\n",
              "    </div>\n",
              "  </div>\n",
              "  "
            ]
          },
          "metadata": {},
          "execution_count": 25
        }
      ]
    },
    {
      "cell_type": "code",
      "source": [
        "features['importance_normalized'] = 100*features['importance'] / features['importance'].max()"
      ],
      "metadata": {
        "id": "nAllMHRAUrBX"
      },
      "execution_count": 26,
      "outputs": []
    },
    {
      "cell_type": "code",
      "source": [
        "features"
      ],
      "metadata": {
        "colab": {
          "base_uri": "https://localhost:8080/",
          "height": 551
        },
        "id": "WGpPk8S5UvbR",
        "outputId": "2e4111e4-a778-480b-d19f-57e41f195b40"
      },
      "execution_count": 27,
      "outputs": [
        {
          "output_type": "execute_result",
          "data": {
            "text/plain": [
              "                coefficient         stdev    importance  importance_normalized\n",
              "bedrooms       24413.430114      0.881215  2.151348e+04               0.008618\n",
              "bathrooms      30929.871283      0.715171  2.212015e+04               0.008861\n",
              "sqft_living    72411.383224    810.138266  5.866323e+07              23.499763\n",
              "sqft_lot        6907.183790  36141.110719  2.496333e+08             100.000000\n",
              "floors         24801.761613      0.536898  1.331601e+04               0.005334\n",
              "waterfront      3490.695474      0.060815  2.122882e+02               0.000085\n",
              "view           18828.031354      0.644964  1.214340e+04               0.004864\n",
              "condition      17699.003254      0.669194  1.184407e+04               0.004745\n",
              "sqft_above     62651.591980    763.543329  4.783721e+07              19.162991\n",
              "sqft_basement  25622.068568    422.527450  1.082603e+07               4.336772\n",
              "yr_built       47902.283246     29.506086  1.413409e+06               0.566194\n",
              "yr_renovated    3489.964267    979.844447  3.419622e+06               1.369858\n",
              "street          5796.531066   1224.677891  7.098883e+06               2.843725\n",
              "city           40343.124089     11.914455  4.806664e+05               0.192549\n",
              "statezip       21630.185208     20.759472  4.490312e+05               0.179876\n",
              "country            0.000000      0.000000  0.000000e+00               0.000000"
            ],
            "text/html": [
              "\n",
              "  <div id=\"df-dfb52ffe-f75d-419a-bcef-d597830750ea\">\n",
              "    <div class=\"colab-df-container\">\n",
              "      <div>\n",
              "<style scoped>\n",
              "    .dataframe tbody tr th:only-of-type {\n",
              "        vertical-align: middle;\n",
              "    }\n",
              "\n",
              "    .dataframe tbody tr th {\n",
              "        vertical-align: top;\n",
              "    }\n",
              "\n",
              "    .dataframe thead th {\n",
              "        text-align: right;\n",
              "    }\n",
              "</style>\n",
              "<table border=\"1\" class=\"dataframe\">\n",
              "  <thead>\n",
              "    <tr style=\"text-align: right;\">\n",
              "      <th></th>\n",
              "      <th>coefficient</th>\n",
              "      <th>stdev</th>\n",
              "      <th>importance</th>\n",
              "      <th>importance_normalized</th>\n",
              "    </tr>\n",
              "  </thead>\n",
              "  <tbody>\n",
              "    <tr>\n",
              "      <th>bedrooms</th>\n",
              "      <td>24413.430114</td>\n",
              "      <td>0.881215</td>\n",
              "      <td>2.151348e+04</td>\n",
              "      <td>0.008618</td>\n",
              "    </tr>\n",
              "    <tr>\n",
              "      <th>bathrooms</th>\n",
              "      <td>30929.871283</td>\n",
              "      <td>0.715171</td>\n",
              "      <td>2.212015e+04</td>\n",
              "      <td>0.008861</td>\n",
              "    </tr>\n",
              "    <tr>\n",
              "      <th>sqft_living</th>\n",
              "      <td>72411.383224</td>\n",
              "      <td>810.138266</td>\n",
              "      <td>5.866323e+07</td>\n",
              "      <td>23.499763</td>\n",
              "    </tr>\n",
              "    <tr>\n",
              "      <th>sqft_lot</th>\n",
              "      <td>6907.183790</td>\n",
              "      <td>36141.110719</td>\n",
              "      <td>2.496333e+08</td>\n",
              "      <td>100.000000</td>\n",
              "    </tr>\n",
              "    <tr>\n",
              "      <th>floors</th>\n",
              "      <td>24801.761613</td>\n",
              "      <td>0.536898</td>\n",
              "      <td>1.331601e+04</td>\n",
              "      <td>0.005334</td>\n",
              "    </tr>\n",
              "    <tr>\n",
              "      <th>waterfront</th>\n",
              "      <td>3490.695474</td>\n",
              "      <td>0.060815</td>\n",
              "      <td>2.122882e+02</td>\n",
              "      <td>0.000085</td>\n",
              "    </tr>\n",
              "    <tr>\n",
              "      <th>view</th>\n",
              "      <td>18828.031354</td>\n",
              "      <td>0.644964</td>\n",
              "      <td>1.214340e+04</td>\n",
              "      <td>0.004864</td>\n",
              "    </tr>\n",
              "    <tr>\n",
              "      <th>condition</th>\n",
              "      <td>17699.003254</td>\n",
              "      <td>0.669194</td>\n",
              "      <td>1.184407e+04</td>\n",
              "      <td>0.004745</td>\n",
              "    </tr>\n",
              "    <tr>\n",
              "      <th>sqft_above</th>\n",
              "      <td>62651.591980</td>\n",
              "      <td>763.543329</td>\n",
              "      <td>4.783721e+07</td>\n",
              "      <td>19.162991</td>\n",
              "    </tr>\n",
              "    <tr>\n",
              "      <th>sqft_basement</th>\n",
              "      <td>25622.068568</td>\n",
              "      <td>422.527450</td>\n",
              "      <td>1.082603e+07</td>\n",
              "      <td>4.336772</td>\n",
              "    </tr>\n",
              "    <tr>\n",
              "      <th>yr_built</th>\n",
              "      <td>47902.283246</td>\n",
              "      <td>29.506086</td>\n",
              "      <td>1.413409e+06</td>\n",
              "      <td>0.566194</td>\n",
              "    </tr>\n",
              "    <tr>\n",
              "      <th>yr_renovated</th>\n",
              "      <td>3489.964267</td>\n",
              "      <td>979.844447</td>\n",
              "      <td>3.419622e+06</td>\n",
              "      <td>1.369858</td>\n",
              "    </tr>\n",
              "    <tr>\n",
              "      <th>street</th>\n",
              "      <td>5796.531066</td>\n",
              "      <td>1224.677891</td>\n",
              "      <td>7.098883e+06</td>\n",
              "      <td>2.843725</td>\n",
              "    </tr>\n",
              "    <tr>\n",
              "      <th>city</th>\n",
              "      <td>40343.124089</td>\n",
              "      <td>11.914455</td>\n",
              "      <td>4.806664e+05</td>\n",
              "      <td>0.192549</td>\n",
              "    </tr>\n",
              "    <tr>\n",
              "      <th>statezip</th>\n",
              "      <td>21630.185208</td>\n",
              "      <td>20.759472</td>\n",
              "      <td>4.490312e+05</td>\n",
              "      <td>0.179876</td>\n",
              "    </tr>\n",
              "    <tr>\n",
              "      <th>country</th>\n",
              "      <td>0.000000</td>\n",
              "      <td>0.000000</td>\n",
              "      <td>0.000000e+00</td>\n",
              "      <td>0.000000</td>\n",
              "    </tr>\n",
              "  </tbody>\n",
              "</table>\n",
              "</div>\n",
              "      <button class=\"colab-df-convert\" onclick=\"convertToInteractive('df-dfb52ffe-f75d-419a-bcef-d597830750ea')\"\n",
              "              title=\"Convert this dataframe to an interactive table.\"\n",
              "              style=\"display:none;\">\n",
              "        \n",
              "  <svg xmlns=\"http://www.w3.org/2000/svg\" height=\"24px\"viewBox=\"0 0 24 24\"\n",
              "       width=\"24px\">\n",
              "    <path d=\"M0 0h24v24H0V0z\" fill=\"none\"/>\n",
              "    <path d=\"M18.56 5.44l.94 2.06.94-2.06 2.06-.94-2.06-.94-.94-2.06-.94 2.06-2.06.94zm-11 1L8.5 8.5l.94-2.06 2.06-.94-2.06-.94L8.5 2.5l-.94 2.06-2.06.94zm10 10l.94 2.06.94-2.06 2.06-.94-2.06-.94-.94-2.06-.94 2.06-2.06.94z\"/><path d=\"M17.41 7.96l-1.37-1.37c-.4-.4-.92-.59-1.43-.59-.52 0-1.04.2-1.43.59L10.3 9.45l-7.72 7.72c-.78.78-.78 2.05 0 2.83L4 21.41c.39.39.9.59 1.41.59.51 0 1.02-.2 1.41-.59l7.78-7.78 2.81-2.81c.8-.78.8-2.07 0-2.86zM5.41 20L4 18.59l7.72-7.72 1.47 1.35L5.41 20z\"/>\n",
              "  </svg>\n",
              "      </button>\n",
              "      \n",
              "  <style>\n",
              "    .colab-df-container {\n",
              "      display:flex;\n",
              "      flex-wrap:wrap;\n",
              "      gap: 12px;\n",
              "    }\n",
              "\n",
              "    .colab-df-convert {\n",
              "      background-color: #E8F0FE;\n",
              "      border: none;\n",
              "      border-radius: 50%;\n",
              "      cursor: pointer;\n",
              "      display: none;\n",
              "      fill: #1967D2;\n",
              "      height: 32px;\n",
              "      padding: 0 0 0 0;\n",
              "      width: 32px;\n",
              "    }\n",
              "\n",
              "    .colab-df-convert:hover {\n",
              "      background-color: #E2EBFA;\n",
              "      box-shadow: 0px 1px 2px rgba(60, 64, 67, 0.3), 0px 1px 3px 1px rgba(60, 64, 67, 0.15);\n",
              "      fill: #174EA6;\n",
              "    }\n",
              "\n",
              "    [theme=dark] .colab-df-convert {\n",
              "      background-color: #3B4455;\n",
              "      fill: #D2E3FC;\n",
              "    }\n",
              "\n",
              "    [theme=dark] .colab-df-convert:hover {\n",
              "      background-color: #434B5C;\n",
              "      box-shadow: 0px 1px 3px 1px rgba(0, 0, 0, 0.15);\n",
              "      filter: drop-shadow(0px 1px 2px rgba(0, 0, 0, 0.3));\n",
              "      fill: #FFFFFF;\n",
              "    }\n",
              "  </style>\n",
              "\n",
              "      <script>\n",
              "        const buttonEl =\n",
              "          document.querySelector('#df-dfb52ffe-f75d-419a-bcef-d597830750ea button.colab-df-convert');\n",
              "        buttonEl.style.display =\n",
              "          google.colab.kernel.accessAllowed ? 'block' : 'none';\n",
              "\n",
              "        async function convertToInteractive(key) {\n",
              "          const element = document.querySelector('#df-dfb52ffe-f75d-419a-bcef-d597830750ea');\n",
              "          const dataTable =\n",
              "            await google.colab.kernel.invokeFunction('convertToInteractive',\n",
              "                                                     [key], {});\n",
              "          if (!dataTable) return;\n",
              "\n",
              "          const docLinkHtml = 'Like what you see? Visit the ' +\n",
              "            '<a target=\"_blank\" href=https://colab.research.google.com/notebooks/data_table.ipynb>data table notebook</a>'\n",
              "            + ' to learn more about interactive tables.';\n",
              "          element.innerHTML = '';\n",
              "          dataTable['output_type'] = 'display_data';\n",
              "          await google.colab.output.renderOutput(dataTable, element);\n",
              "          const docLink = document.createElement('div');\n",
              "          docLink.innerHTML = docLinkHtml;\n",
              "          element.appendChild(docLink);\n",
              "        }\n",
              "      </script>\n",
              "    </div>\n",
              "  </div>\n",
              "  "
            ]
          },
          "metadata": {},
          "execution_count": 27
        }
      ]
    },
    {
      "cell_type": "code",
      "source": [
        "import matplotlib.pyplot as plt\n",
        "plt.figure(figsize=(10,8))\n",
        "plt.barh(features.index, features.importance_normalized)"
      ],
      "metadata": {
        "colab": {
          "base_uri": "https://localhost:8080/",
          "height": 503
        },
        "id": "B_d8WCOrU08Y",
        "outputId": "39212b19-b036-43a4-8ae3-dc6b49d6975c"
      },
      "execution_count": 41,
      "outputs": [
        {
          "output_type": "execute_result",
          "data": {
            "text/plain": [
              "<BarContainer object of 16 artists>"
            ]
          },
          "metadata": {},
          "execution_count": 41
        },
        {
          "output_type": "display_data",
          "data": {
            "text/plain": [
              "<Figure size 720x576 with 1 Axes>"
            ],
            "image/png": "[encoded data removed]"
          },
          "metadata": {}
        }
      ]
    },
    {
      "cell_type": "markdown",
      "source": [
        "# DecisionTreeRegressor"
      ],
      "metadata": {
        "id": "bzyzYtNnVEpU"
      }
    },
    {
      "cell_type": "code",
      "source": [
        "from sklearn.tree import DecisionTreeRegressor \n",
        "regressor_tree = DecisionTreeRegressor(random_state = 0) \n",
        "regressor_tree.fit(x_scaled, y)"
      ],
      "metadata": {
        "colab": {
          "base_uri": "https://localhost:8080/"
        },
        "id": "mBa425OJVKF-",
        "outputId": "ef1fed48-1d48-4440-9ed1-4b4f138852ee"
      },
      "execution_count": 42,
      "outputs": [
        {
          "output_type": "execute_result",
          "data": {
            "text/plain": [
              "DecisionTreeRegressor(random_state=0)"
            ]
          },
          "metadata": {},
          "execution_count": 42
        }
      ]
    },
    {
      "cell_type": "code",
      "source": [
        "features['importance_normalized'] = 100*features['importance'] / features['importance'].max()"
      ],
      "metadata": {
        "id": "XJfNzirqbAhP"
      },
      "execution_count": 43,
      "outputs": []
    },
    {
      "cell_type": "code",
      "source": [
        "features"
      ],
      "metadata": {
        "colab": {
          "base_uri": "https://localhost:8080/",
          "height": 551
        },
        "id": "w5QXrpd9bijy",
        "outputId": "4e7b2885-da7c-415c-bdd8-f4cc6b60f49e"
      },
      "execution_count": 44,
      "outputs": [
        {
          "output_type": "execute_result",
          "data": {
            "text/plain": [
              "                coefficient         stdev    importance  importance_normalized\n",
              "bedrooms       24413.430114      0.881215  2.151348e+04               0.008618\n",
              "bathrooms      30929.871283      0.715171  2.212015e+04               0.008861\n",
              "sqft_living    72411.383224    810.138266  5.866323e+07              23.499763\n",
              "sqft_lot        6907.183790  36141.110719  2.496333e+08             100.000000\n",
              "floors         24801.761613      0.536898  1.331601e+04               0.005334\n",
              "waterfront      3490.695474      0.060815  2.122882e+02               0.000085\n",
              "view           18828.031354      0.644964  1.214340e+04               0.004864\n",
              "condition      17699.003254      0.669194  1.184407e+04               0.004745\n",
              "sqft_above     62651.591980    763.543329  4.783721e+07              19.162991\n",
              "sqft_basement  25622.068568    422.527450  1.082603e+07               4.336772\n",
              "yr_built       47902.283246     29.506086  1.413409e+06               0.566194\n",
              "yr_renovated    3489.964267    979.844447  3.419622e+06               1.369858\n",
              "street          5796.531066   1224.677891  7.098883e+06               2.843725\n",
              "city           40343.124089     11.914455  4.806664e+05               0.192549\n",
              "statezip       21630.185208     20.759472  4.490312e+05               0.179876\n",
              "country            0.000000      0.000000  0.000000e+00               0.000000"
            ],
            "text/html": [
              "\n",
              "  <div id=\"df-36f85054-2bf2-454f-b35d-363af3651f01\">\n",
              "    <div class=\"colab-df-container\">\n",
              "      <div>\n",
              "<style scoped>\n",
              "    .dataframe tbody tr th:only-of-type {\n",
              "        vertical-align: middle;\n",
              "    }\n",
              "\n",
              "    .dataframe tbody tr th {\n",
              "        vertical-align: top;\n",
              "    }\n",
              "\n",
              "    .dataframe thead th {\n",
              "        text-align: right;\n",
              "    }\n",
              "</style>\n",
              "<table border=\"1\" class=\"dataframe\">\n",
              "  <thead>\n",
              "    <tr style=\"text-align: right;\">\n",
              "      <th></th>\n",
              "      <th>coefficient</th>\n",
              "      <th>stdev</th>\n",
              "      <th>importance</th>\n",
              "      <th>importance_normalized</th>\n",
              "    </tr>\n",
              "  </thead>\n",
              "  <tbody>\n",
              "    <tr>\n",
              "      <th>bedrooms</th>\n",
              "      <td>24413.430114</td>\n",
              "      <td>0.881215</td>\n",
              "      <td>2.151348e+04</td>\n",
              "      <td>0.008618</td>\n",
              "    </tr>\n",
              "    <tr>\n",
              "      <th>bathrooms</th>\n",
              "      <td>30929.871283</td>\n",
              "      <td>0.715171</td>\n",
              "      <td>2.212015e+04</td>\n",
              "      <td>0.008861</td>\n",
              "    </tr>\n",
              "    <tr>\n",
              "      <th>sqft_living</th>\n",
              "      <td>72411.383224</td>\n",
              "      <td>810.138266</td>\n",
              "      <td>5.866323e+07</td>\n",
              "      <td>23.499763</td>\n",
              "    </tr>\n",
              "    <tr>\n",
              "      <th>sqft_lot</th>\n",
              "      <td>6907.183790</td>\n",
              "      <td>36141.110719</td>\n",
              "      <td>2.496333e+08</td>\n",
              "      <td>100.000000</td>\n",
              "    </tr>\n",
              "    <tr>\n",
              "      <th>floors</th>\n",
              "      <td>24801.761613</td>\n",
              "      <td>0.536898</td>\n",
              "      <td>1.331601e+04</td>\n",
              "      <td>0.005334</td>\n",
              "    </tr>\n",
              "    <tr>\n",
              "      <th>waterfront</th>\n",
              "      <td>3490.695474</td>\n",
              "      <td>0.060815</td>\n",
              "      <td>2.122882e+02</td>\n",
              "      <td>0.000085</td>\n",
              "    </tr>\n",
              "    <tr>\n",
              "      <th>view</th>\n",
              "      <td>18828.031354</td>\n",
              "      <td>0.644964</td>\n",
              "      <td>1.214340e+04</td>\n",
              "      <td>0.004864</td>\n",
              "    </tr>\n",
              "    <tr>\n",
              "      <th>condition</th>\n",
              "      <td>17699.003254</td>\n",
              "      <td>0.669194</td>\n",
              "      <td>1.184407e+04</td>\n",
              "      <td>0.004745</td>\n",
              "    </tr>\n",
              "    <tr>\n",
              "      <th>sqft_above</th>\n",
              "      <td>62651.591980</td>\n",
              "      <td>763.543329</td>\n",
              "      <td>4.783721e+07</td>\n",
              "      <td>19.162991</td>\n",
              "    </tr>\n",
              "    <tr>\n",
              "      <th>sqft_basement</th>\n",
              "      <td>25622.068568</td>\n",
              "      <td>422.527450</td>\n",
              "      <td>1.082603e+07</td>\n",
              "      <td>4.336772</td>\n",
              "    </tr>\n",
              "    <tr>\n",
              "      <th>yr_built</th>\n",
              "      <td>47902.283246</td>\n",
              "      <td>29.506086</td>\n",
              "      <td>1.413409e+06</td>\n",
              "      <td>0.566194</td>\n",
              "    </tr>\n",
              "    <tr>\n",
              "      <th>yr_renovated</th>\n",
              "      <td>3489.964267</td>\n",
              "      <td>979.844447</td>\n",
              "      <td>3.419622e+06</td>\n",
              "      <td>1.369858</td>\n",
              "    </tr>\n",
              "    <tr>\n",
              "      <th>street</th>\n",
              "      <td>5796.531066</td>\n",
              "      <td>1224.677891</td>\n",
              "      <td>7.098883e+06</td>\n",
              "      <td>2.843725</td>\n",
              "    </tr>\n",
              "    <tr>\n",
              "      <th>city</th>\n",
              "      <td>40343.124089</td>\n",
              "      <td>11.914455</td>\n",
              "      <td>4.806664e+05</td>\n",
              "      <td>0.192549</td>\n",
              "    </tr>\n",
              "    <tr>\n",
              "      <th>statezip</th>\n",
              "      <td>21630.185208</td>\n",
              "      <td>20.759472</td>\n",
              "      <td>4.490312e+05</td>\n",
              "      <td>0.179876</td>\n",
              "    </tr>\n",
              "    <tr>\n",
              "      <th>country</th>\n",
              "      <td>0.000000</td>\n",
              "      <td>0.000000</td>\n",
              "      <td>0.000000e+00</td>\n",
              "      <td>0.000000</td>\n",
              "    </tr>\n",
              "  </tbody>\n",
              "</table>\n",
              "</div>\n",
              "      <button class=\"colab-df-convert\" onclick=\"convertToInteractive('df-36f85054-2bf2-454f-b35d-363af3651f01')\"\n",
              "              title=\"Convert this dataframe to an interactive table.\"\n",
              "              style=\"display:none;\">\n",
              "        \n",
              "  <svg xmlns=\"http://www.w3.org/2000/svg\" height=\"24px\"viewBox=\"0 0 24 24\"\n",
              "       width=\"24px\">\n",
              "    <path d=\"M0 0h24v24H0V0z\" fill=\"none\"/>\n",
              "    <path d=\"M18.56 5.44l.94 2.06.94-2.06 2.06-.94-2.06-.94-.94-2.06-.94 2.06-2.06.94zm-11 1L8.5 8.5l.94-2.06 2.06-.94-2.06-.94L8.5 2.5l-.94 2.06-2.06.94zm10 10l.94 2.06.94-2.06 2.06-.94-2.06-.94-.94-2.06-.94 2.06-2.06.94z\"/><path d=\"M17.41 7.96l-1.37-1.37c-.4-.4-.92-.59-1.43-.59-.52 0-1.04.2-1.43.59L10.3 9.45l-7.72 7.72c-.78.78-.78 2.05 0 2.83L4 21.41c.39.39.9.59 1.41.59.51 0 1.02-.2 1.41-.59l7.78-7.78 2.81-2.81c.8-.78.8-2.07 0-2.86zM5.41 20L4 18.59l7.72-7.72 1.47 1.35L5.41 20z\"/>\n",
              "  </svg>\n",
              "      </button>\n",
              "      \n",
              "  <style>\n",
              "    .colab-df-container {\n",
              "      display:flex;\n",
              "      flex-wrap:wrap;\n",
              "      gap: 12px;\n",
              "    }\n",
              "\n",
              "    .colab-df-convert {\n",
              "      background-color: #E8F0FE;\n",
              "      border: none;\n",
              "      border-radius: 50%;\n",
              "      cursor: pointer;\n",
              "      display: none;\n",
              "      fill: #1967D2;\n",
              "      height: 32px;\n",
              "      padding: 0 0 0 0;\n",
              "      width: 32px;\n",
              "    }\n",
              "\n",
              "    .colab-df-convert:hover {\n",
              "      background-color: #E2EBFA;\n",
              "      box-shadow: 0px 1px 2px rgba(60, 64, 67, 0.3), 0px 1px 3px 1px rgba(60, 64, 67, 0.15);\n",
              "      fill: #174EA6;\n",
              "    }\n",
              "\n",
              "    [theme=dark] .colab-df-convert {\n",
              "      background-color: #3B4455;\n",
              "      fill: #D2E3FC;\n",
              "    }\n",
              "\n",
              "    [theme=dark] .colab-df-convert:hover {\n",
              "      background-color: #434B5C;\n",
              "      box-shadow: 0px 1px 3px 1px rgba(0, 0, 0, 0.15);\n",
              "      filter: drop-shadow(0px 1px 2px rgba(0, 0, 0, 0.3));\n",
              "      fill: #FFFFFF;\n",
              "    }\n",
              "  </style>\n",
              "\n",
              "      <script>\n",
              "        const buttonEl =\n",
              "          document.querySelector('#df-36f85054-2bf2-454f-b35d-363af3651f01 button.colab-df-convert');\n",
              "        buttonEl.style.display =\n",
              "          google.colab.kernel.accessAllowed ? 'block' : 'none';\n",
              "\n",
              "        async function convertToInteractive(key) {\n",
              "          const element = document.querySelector('#df-36f85054-2bf2-454f-b35d-363af3651f01');\n",
              "          const dataTable =\n",
              "            await google.colab.kernel.invokeFunction('convertToInteractive',\n",
              "                                                     [key], {});\n",
              "          if (!dataTable) return;\n",
              "\n",
              "          const docLinkHtml = 'Like what you see? Visit the ' +\n",
              "            '<a target=\"_blank\" href=https://colab.research.google.com/notebooks/data_table.ipynb>data table notebook</a>'\n",
              "            + ' to learn more about interactive tables.';\n",
              "          element.innerHTML = '';\n",
              "          dataTable['output_type'] = 'display_data';\n",
              "          await google.colab.output.renderOutput(dataTable, element);\n",
              "          const docLink = document.createElement('div');\n",
              "          docLink.innerHTML = docLinkHtml;\n",
              "          element.appendChild(docLink);\n",
              "        }\n",
              "      </script>\n",
              "    </div>\n",
              "  </div>\n",
              "  "
            ]
          },
          "metadata": {},
          "execution_count": 44
        }
      ]
    },
    {
      "cell_type": "code",
      "source": [
        "import matplotlib.pyplot as plt\n",
        "plt.figure(figsize=(10,8))\n",
        "plt.barh(features.index, features.importance_normalized)"
      ],
      "metadata": {
        "colab": {
          "base_uri": "https://localhost:8080/",
          "height": 503
        },
        "id": "uFrSkWUibnKu",
        "outputId": "07dbd0e2-5b0a-4677-c76e-f9cff623bcf2"
      },
      "execution_count": 45,
      "outputs": [
        {
          "output_type": "execute_result",
          "data": {
            "text/plain": [
              "<BarContainer object of 16 artists>"
            ]
          },
          "metadata": {},
          "execution_count": 45
        },
        {
          "output_type": "display_data",
          "data": {
            "text/plain": [
              "<Figure size 720x576 with 1 Axes>"
            ],
            "image/png": "[encoded data removed]"
          },
          "metadata": {}
        }
      ]
    }
  ]
}