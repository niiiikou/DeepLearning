{
  "cells": [
    {
      "cell_type": "code",
      "execution_count": 2,
      "metadata": {
        "id": "LA1eGyBlQIYH"
      },
      "outputs": [],
      "source": [
        "import numpy as np"
      ]
    },
    {
      "cell_type": "code",
      "execution_count": 3,
      "metadata": {
        "id": "O53kStxWQXRT"
      },
      "outputs": [],
      "source": [
        "x = [ 1.2,1.1,0.9, 0.95, 1.15] "
      ]
    },
    {
      "cell_type": "code",
      "source": [
        "def f(x):\n",
        "  if x>= 0:\n",
        "    return x\n",
        "  return 0\n"
      ],
      "metadata": {
        "id": "BX9FpSBsdooB"
      },
      "execution_count": 4,
      "outputs": []
    },
    {
      "cell_type": "code",
      "source": [
        "def maxnet(arr):\n",
        "    input_arr = np.copy(arr)\n",
        "    eps = 0.15\n",
        "    epoch =0\n",
        "    while np.count_nonzero(input_arr) != 1:\n",
        "      print(\"----------------------------------------------------------\")\n",
        "      epoch += 1\n",
        "      print(\"Epoch \", epoch)\n",
        "      print(\"----------------------------------------------------------\")\n",
        "      arr_old = np.copy(input_arr)\n",
        "      for i in range(len(input_arr)):\n",
        "        print(\"x_{} before update is {}\".format(i,input_arr[i]))\n",
        "        input_arr[i] = f(arr_old[i]+eps*arr_old[i]-( eps * np.sum(arr_old))) \n",
        "        print(\"x_{} after update is {}\".format(i,input_arr[i]))\n",
        "        print(\"\")"
      ],
      "metadata": {
        "id": "nycH-6fUeFek"
      },
      "execution_count": 5,
      "outputs": []
    },
    {
      "cell_type": "code",
      "source": [
        "maxnet(x)"
      ],
      "metadata": {
        "colab": {
          "base_uri": "https://localhost:8080/"
        },
        "id": "m3G8Ab82fcPD",
        "outputId": "36714923-1a29-4761-911f-84dbf634bce7"
      },
      "execution_count": 6,
      "outputs": [
        {
          "output_type": "stream",
          "name": "stdout",
          "text": [
            "----------------------------------------------------------\n",
            "Epoch  1\n",
            "----------------------------------------------------------\n",
            "x_0 before update is 1.2\n",
            "x_0 after update is 0.5850000000000001\n",
            "\n",
            "x_1 before update is 1.1\n",
            "x_1 after update is 0.4700000000000003\n",
            "\n",
            "x_2 before update is 0.9\n",
            "x_2 after update is 0.24000000000000032\n",
            "\n",
            "x_3 before update is 0.95\n",
            "x_3 after update is 0.2975000000000002\n",
            "\n",
            "x_4 before update is 1.15\n",
            "x_4 after update is 0.5275\n",
            "\n",
            "----------------------------------------------------------\n",
            "Epoch  2\n",
            "----------------------------------------------------------\n",
            "x_0 before update is 0.5850000000000001\n",
            "x_0 after update is 0.35474999999999995\n",
            "\n",
            "x_1 before update is 0.4700000000000003\n",
            "x_1 after update is 0.2225000000000002\n",
            "\n",
            "x_2 before update is 0.24000000000000032\n",
            "x_2 after update is 0.0\n",
            "\n",
            "x_3 before update is 0.2975000000000002\n",
            "x_3 after update is 0.02412500000000012\n",
            "\n",
            "x_4 before update is 0.5275\n",
            "x_4 after update is 0.28862499999999985\n",
            "\n",
            "----------------------------------------------------------\n",
            "Epoch  3\n",
            "----------------------------------------------------------\n",
            "x_0 before update is 0.35474999999999995\n",
            "x_0 after update is 0.27446249999999994\n",
            "\n",
            "x_1 before update is 0.2225000000000002\n",
            "x_1 after update is 0.12237500000000023\n",
            "\n",
            "x_2 before update is 0.0\n",
            "x_2 after update is 0.0\n",
            "\n",
            "x_3 before update is 0.02412500000000012\n",
            "x_3 after update is 0.0\n",
            "\n",
            "x_4 before update is 0.28862499999999985\n",
            "x_4 after update is 0.1984187499999998\n",
            "\n",
            "----------------------------------------------------------\n",
            "Epoch  4\n",
            "----------------------------------------------------------\n",
            "x_0 before update is 0.27446249999999994\n",
            "x_0 after update is 0.22634343749999997\n",
            "\n",
            "x_1 before update is 0.12237500000000023\n",
            "x_1 after update is 0.05144281250000028\n",
            "\n",
            "x_2 before update is 0.0\n",
            "x_2 after update is 0.0\n",
            "\n",
            "x_3 before update is 0.0\n",
            "x_3 after update is 0.0\n",
            "\n",
            "x_4 before update is 0.1984187499999998\n",
            "x_4 after update is 0.13889312499999978\n",
            "\n",
            "----------------------------------------------------------\n",
            "Epoch  5\n",
            "----------------------------------------------------------\n",
            "x_0 before update is 0.22634343749999997\n",
            "x_0 after update is 0.19779304687499993\n",
            "\n",
            "x_1 before update is 0.05144281250000028\n",
            "x_1 after update is 0.0\n",
            "\n",
            "x_2 before update is 0.0\n",
            "x_2 after update is 0.0\n",
            "\n",
            "x_3 before update is 0.0\n",
            "x_3 after update is 0.0\n",
            "\n",
            "x_4 before update is 0.13889312499999978\n",
            "x_4 after update is 0.09722518749999974\n",
            "\n",
            "----------------------------------------------------------\n",
            "Epoch  6\n",
            "----------------------------------------------------------\n",
            "x_0 before update is 0.19779304687499993\n",
            "x_0 after update is 0.18320926875\n",
            "\n",
            "x_1 before update is 0.0\n",
            "x_1 after update is 0.0\n",
            "\n",
            "x_2 before update is 0.0\n",
            "x_2 after update is 0.0\n",
            "\n",
            "x_3 before update is 0.0\n",
            "x_3 after update is 0.0\n",
            "\n",
            "x_4 before update is 0.09722518749999974\n",
            "x_4 after update is 0.06755623046874976\n",
            "\n",
            "----------------------------------------------------------\n",
            "Epoch  7\n",
            "----------------------------------------------------------\n",
            "x_0 before update is 0.18320926875\n",
            "x_0 after update is 0.17307583417968753\n",
            "\n",
            "x_1 before update is 0.0\n",
            "x_1 after update is 0.0\n",
            "\n",
            "x_2 before update is 0.0\n",
            "x_2 after update is 0.0\n",
            "\n",
            "x_3 before update is 0.0\n",
            "x_3 after update is 0.0\n",
            "\n",
            "x_4 before update is 0.06755623046874976\n",
            "x_4 after update is 0.04007484015624976\n",
            "\n",
            "----------------------------------------------------------\n",
            "Epoch  8\n",
            "----------------------------------------------------------\n",
            "x_0 before update is 0.17307583417968753\n",
            "x_0 after update is 0.16706460815625007\n",
            "\n",
            "x_1 before update is 0.0\n",
            "x_1 after update is 0.0\n",
            "\n",
            "x_2 before update is 0.0\n",
            "x_2 after update is 0.0\n",
            "\n",
            "x_3 before update is 0.0\n",
            "x_3 after update is 0.0\n",
            "\n",
            "x_4 before update is 0.04007484015624976\n",
            "x_4 after update is 0.014113465029296626\n",
            "\n",
            "----------------------------------------------------------\n",
            "Epoch  9\n",
            "----------------------------------------------------------\n",
            "x_0 before update is 0.16706460815625007\n",
            "x_0 after update is 0.16494758840185558\n",
            "\n",
            "x_1 before update is 0.0\n",
            "x_1 after update is 0.0\n",
            "\n",
            "x_2 before update is 0.0\n",
            "x_2 after update is 0.0\n",
            "\n",
            "x_3 before update is 0.0\n",
            "x_3 after update is 0.0\n",
            "\n",
            "x_4 before update is 0.014113465029296626\n",
            "x_4 after update is 0.0\n",
            "\n"
          ]
        }
      ]
    },
    {
      "cell_type": "markdown",
      "metadata": {
        "id": "DEMW6qOC4YgV"
      },
      "source": [
        "# beta"
      ]
    },
    {
      "cell_type": "code",
      "source": [
        "beta = 1\n",
        "x_with_beta = [1.2, 1.1,0.9, 0.95, 1.15,beta] \n"
      ],
      "metadata": {
        "id": "eVZpqzELSVcO"
      },
      "execution_count": 15,
      "outputs": []
    },
    {
      "cell_type": "code",
      "source": [
        "maxnet(x_with_beta)"
      ],
      "metadata": {
        "colab": {
          "base_uri": "https://localhost:8080/"
        },
        "id": "QioWJ5EWO6PE",
        "outputId": "679c544b-df99-436a-ea06-1065af2ee32d"
      },
      "execution_count": 16,
      "outputs": [
        {
          "output_type": "stream",
          "name": "stdout",
          "text": [
            "----------------------------------------------------------\n",
            "Epoch  1\n",
            "----------------------------------------------------------\n",
            "x_0 before update is 1.2\n",
            "x_0 after update is 0.43500000000000005\n",
            "\n",
            "x_1 before update is 1.1\n",
            "x_1 after update is 0.3200000000000003\n",
            "\n",
            "x_2 before update is 0.9\n",
            "x_2 after update is 0.0900000000000003\n",
            "\n",
            "x_3 before update is 0.95\n",
            "x_3 after update is 0.1475000000000002\n",
            "\n",
            "x_4 before update is 1.15\n",
            "x_4 after update is 0.37749999999999995\n",
            "\n",
            "x_5 before update is 1.0\n",
            "x_5 after update is 0.20500000000000007\n",
            "\n",
            "----------------------------------------------------------\n",
            "Epoch  2\n",
            "----------------------------------------------------------\n",
            "x_0 before update is 0.43500000000000005\n",
            "x_0 after update is 0.26399999999999996\n",
            "\n",
            "x_1 before update is 0.3200000000000003\n",
            "x_1 after update is 0.1317500000000002\n",
            "\n",
            "x_2 before update is 0.0900000000000003\n",
            "x_2 after update is 0.0\n",
            "\n",
            "x_3 before update is 0.1475000000000002\n",
            "x_3 after update is 0.0\n",
            "\n",
            "x_4 before update is 0.37749999999999995\n",
            "x_4 after update is 0.1978749999999998\n",
            "\n",
            "x_5 before update is 0.20500000000000007\n",
            "x_5 after update is 0.0\n",
            "\n",
            "----------------------------------------------------------\n",
            "Epoch  3\n",
            "----------------------------------------------------------\n",
            "x_0 before update is 0.26399999999999996\n",
            "x_0 after update is 0.21455624999999995\n",
            "\n",
            "x_1 before update is 0.1317500000000002\n",
            "x_1 after update is 0.062468750000000225\n",
            "\n",
            "x_2 before update is 0.0\n",
            "x_2 after update is 0.0\n",
            "\n",
            "x_3 before update is 0.0\n",
            "x_3 after update is 0.0\n",
            "\n",
            "x_4 before update is 0.1978749999999998\n",
            "x_4 after update is 0.13851249999999976\n",
            "\n",
            "x_5 before update is 0.0\n",
            "x_5 after update is 0.0\n",
            "\n",
            "----------------------------------------------------------\n",
            "Epoch  4\n",
            "----------------------------------------------------------\n",
            "x_0 before update is 0.21455624999999995\n",
            "x_0 after update is 0.18440906249999994\n",
            "\n",
            "x_1 before update is 0.062468750000000225\n",
            "x_1 after update is 0.009508437500000272\n",
            "\n",
            "x_2 before update is 0.0\n",
            "x_2 after update is 0.0\n",
            "\n",
            "x_3 before update is 0.0\n",
            "x_3 after update is 0.0\n",
            "\n",
            "x_4 before update is 0.13851249999999976\n",
            "x_4 after update is 0.09695874999999975\n",
            "\n",
            "x_5 before update is 0.0\n",
            "x_5 after update is 0.0\n",
            "\n",
            "----------------------------------------------------------\n",
            "Epoch  5\n",
            "----------------------------------------------------------\n",
            "x_0 before update is 0.18440906249999994\n",
            "x_0 after update is 0.16843898437499996\n",
            "\n",
            "x_1 before update is 0.009508437500000272\n",
            "x_1 after update is 0.0\n",
            "\n",
            "x_2 before update is 0.0\n",
            "x_2 after update is 0.0\n",
            "\n",
            "x_3 before update is 0.0\n",
            "x_3 after update is 0.0\n",
            "\n",
            "x_4 before update is 0.09695874999999975\n",
            "x_4 after update is 0.06787112499999973\n",
            "\n",
            "x_5 before update is 0.0\n",
            "x_5 after update is 0.0\n",
            "\n",
            "----------------------------------------------------------\n",
            "Epoch  6\n",
            "----------------------------------------------------------\n",
            "x_0 before update is 0.16843898437499996\n",
            "x_0 after update is 0.15825831562499998\n",
            "\n",
            "x_1 before update is 0.0\n",
            "x_1 after update is 0.0\n",
            "\n",
            "x_2 before update is 0.0\n",
            "x_2 after update is 0.0\n",
            "\n",
            "x_3 before update is 0.0\n",
            "x_3 after update is 0.0\n",
            "\n",
            "x_4 before update is 0.06787112499999973\n",
            "x_4 after update is 0.04260527734374973\n",
            "\n",
            "x_5 before update is 0.0\n",
            "x_5 after update is 0.0\n",
            "\n",
            "----------------------------------------------------------\n",
            "Epoch  7\n",
            "----------------------------------------------------------\n",
            "x_0 before update is 0.15825831562499998\n",
            "x_0 after update is 0.15186752402343753\n",
            "\n",
            "x_1 before update is 0.0\n",
            "x_1 after update is 0.0\n",
            "\n",
            "x_2 before update is 0.0\n",
            "x_2 after update is 0.0\n",
            "\n",
            "x_3 before update is 0.0\n",
            "x_3 after update is 0.0\n",
            "\n",
            "x_4 before update is 0.04260527734374973\n",
            "x_4 after update is 0.018866529999999732\n",
            "\n",
            "x_5 before update is 0.0\n",
            "x_5 after update is 0.0\n",
            "\n",
            "----------------------------------------------------------\n",
            "Epoch  8\n",
            "----------------------------------------------------------\n",
            "x_0 before update is 0.15186752402343753\n",
            "x_0 after update is 0.1490375445234376\n",
            "\n",
            "x_1 before update is 0.0\n",
            "x_1 after update is 0.0\n",
            "\n",
            "x_2 before update is 0.0\n",
            "x_2 after update is 0.0\n",
            "\n",
            "x_3 before update is 0.0\n",
            "x_3 after update is 0.0\n",
            "\n",
            "x_4 before update is 0.018866529999999732\n",
            "x_4 after update is 0.0\n",
            "\n",
            "x_5 before update is 0.0\n",
            "x_5 after update is 0.0\n",
            "\n"
          ]
        }
      ]
    },
    {
      "cell_type": "markdown",
      "metadata": {
        "id": "CsYul9iq6kg1"
      },
      "source": [
        "# sort from top to bottom "
      ]
    },
    {
      "cell_type": "code",
      "source": [
        "def maxnest(arr):\n",
        "    input_arr = np.copy(arr)\n",
        "    eps = 0.15\n",
        "    epoch =0\n",
        "    while np.count_nonzero(input_arr) != 1:\n",
        "      print(\"----------------------------------------------------------\")\n",
        "      epoch += 1\n",
        "      print(\"Epoch \", epoch)\n",
        "      print(\"----------------------------------------------------------\")\n",
        "      arr_old = np.copy(input_arr)\n",
        "      for i in range(len(input_arr)):\n",
        "        print(\"x_{} before update is {}\".format(i,input_arr[i]))\n",
        "        input_arr[i] = f(arr_old[i]+eps*arr_old[i]-( eps * np.sum(arr_old))) \n",
        "        print(\"x_{} after update is {}\".format(i,input_arr[i]))\n",
        "        print(\"\")\n",
        "        indexx = [i for i, element in enumerate(input_arr) if element!=0]\n",
        "    return  indexx[0]"
      ],
      "metadata": {
        "id": "eB7L_lKEPq-p"
      },
      "execution_count": 12,
      "outputs": []
    },
    {
      "cell_type": "code",
      "execution_count": 13,
      "metadata": {
        "colab": {
          "base_uri": "https://localhost:8080/"
        },
        "id": "hs-329-9Zsxn",
        "outputId": "b36ea73c-2ad4-4240-e510-020f5b911bf5"
      },
      "outputs": [
        {
          "output_type": "stream",
          "name": "stdout",
          "text": [
            "sort x from top to bottom : [1.2, 1.15, 1.1, 0.95, 0.9]\n"
          ]
        }
      ],
      "source": [
        "x = [1.2, 1.1,0.9, 0.95, 1.15] \n",
        "sort_td = []\n",
        "size = len(x)\n",
        "copy_x = x.copy()\n",
        "for i in range(size):\n",
        "  max = np.argmax(x)\n",
        "  sort_td.append(copy_x[max])\n",
        "  copy_x.pop(max)\n",
        "  x = copy_x\n",
        "print(\"sort x from top to bottom :\",sort_td)\n"
      ]
    },
    {
      "cell_type": "markdown",
      "metadata": {
        "id": "VRMdzQ7j6561"
      },
      "source": [
        "# sort from buttom to top   "
      ]
    },
    {
      "cell_type": "code",
      "source": [
        "x = [1.2, 1.1,0.9, 0.95, 1.15] \n",
        "sort_td = []\n",
        "size = len(x)\n",
        "copy_x = x.copy()\n",
        "for i in range(size):\n",
        "  max = np.argmax(x)\n",
        "  sort_td.append(copy_x[max])\n",
        "  copy_x.pop(max)\n",
        "  x = copy_x\n",
        "sort_dt = []\n",
        "for i, element in enumerate(sort_td):\n",
        "  sort_dt.append(sort_td[len(sort_td)-i-1])\n",
        "print(\"sort x from top to bottom :\",sort_dt)"
      ],
      "metadata": {
        "colab": {
          "base_uri": "https://localhost:8080/"
        },
        "id": "DPMsDN4qo2W6",
        "outputId": "bef4d543-4c6e-49c8-94a1-41b86f4d803a"
      },
      "execution_count": 14,
      "outputs": [
        {
          "output_type": "stream",
          "name": "stdout",
          "text": [
            "sort x from top to bottom : [0.9, 0.95, 1.1, 1.15, 1.2]\n"
          ]
        }
      ]
    }
  ],
  "metadata": {
    "colab": {
      "collapsed_sections": [],
      "name": "t4q2.ipynb",
      "provenance": []
    },
    "interpreter": {
      "hash": "570feb405e2e27c949193ac68f46852414290d515b0ba6e5d90d076ed2284471"
    },
    "kernelspec": {
      "display_name": "Python 3.8.6 64-bit",
      "language": "python",
      "name": "python3"
    },
    "language_info": {
      "codemirror_mode": {
        "name": "ipython",
        "version": 3
      },
      "file_extension": ".py",
      "mimetype": "text/x-python",
      "name": "python",
      "nbconvert_exporter": "python",
      "pygments_lexer": "ipython3",
      "version": "3.8.6"
    }
  },
  "nbformat": 4,
  "nbformat_minor": 0
}