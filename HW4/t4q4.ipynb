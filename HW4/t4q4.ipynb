{
 "cells": [
  {
   "cell_type": "code",
   "execution_count": 21,
   "metadata": {},
   "outputs": [],
   "source": [
    "import numpy as np"
   ]
  },
  {
   "cell_type": "markdown",
   "metadata": {},
   "source": [
    "# الف"
   ]
  },
  {
   "cell_type": "code",
   "execution_count": 22,
   "metadata": {},
   "outputs": [],
   "source": [
    "e_1 = np.array([\n",
    "    1,-1,1,\n",
    "    -1,1,-1,\n",
    "    -1,1,-1,\n",
    "    1,-1,1,\n",
    "])\n",
    "\n",
    "e_2 = np.array([\n",
    "    1,-1,1,\n",
    "    -1,1,-1,\n",
    "    -1,1,-1,\n",
    "    -1,1,-1,\n",
    "])\n",
    "\n",
    "e_3 = np.array([\n",
    "    -1,1,-1,\n",
    "    1,-1,1,\n",
    "    1,1,1,\n",
    "    1,-1,1,\n",
    "])\n",
    "\n",
    "e_4 = np.array([\n",
    "    -1,1,1,\n",
    "    1,-1,-1,\n",
    "    1,-1,-1,\n",
    "    -1,1,1,\n",
    "])"
   ]
  },
  {
   "cell_type": "code",
   "execution_count": 23,
   "metadata": {},
   "outputs": [],
   "source": [
    "e = np.zeros((4, 12))"
   ]
  },
  {
   "cell_type": "code",
   "execution_count": 24,
   "metadata": {},
   "outputs": [],
   "source": [
    "e[0,:] =e_1\n",
    "e[1,:] =e_2\n",
    "e[2,:] =e_3\n",
    "e[3,:] =e_4"
   ]
  },
  {
   "cell_type": "code",
   "execution_count": 25,
   "metadata": {},
   "outputs": [],
   "source": [
    "b1= e_1.shape[0]/2\n",
    "b2= e_1.shape[0]/2\n",
    "b3= e_1.shape[0]/2"
   ]
  },
  {
   "cell_type": "code",
   "execution_count": 26,
   "metadata": {},
   "outputs": [],
   "source": [
    "w = np.zeros((12, 4))\n",
    "for i in range(e.shape[0]):\n",
    "    for j in range(e.shape[1]):\n",
    "        w[j,i] = e[i,j]/2"
   ]
  },
  {
   "cell_type": "code",
   "execution_count": 32,
   "metadata": {},
   "outputs": [
    {
     "name": "stdout",
     "output_type": "stream",
     "text": [
      "hamming distance between picture 0 and 1 is : 9.0 \n",
      "hamming distance between picture 0 and 2 is : 4.0 \n",
      "hamming distance between picture 0 and 3 is : 4.0 \n",
      "hamming distance between picture 1 and 0 is : 9.0 \n",
      "hamming distance between picture 1 and 2 is : 1.0 \n",
      "hamming distance between picture 1 and 3 is : 5.0 \n",
      "hamming distance between picture 2 and 0 is : 4.0 \n",
      "hamming distance between picture 2 and 1 is : 1.0 \n",
      "hamming distance between picture 2 and 3 is : 6.0 \n",
      "hamming distance between picture 3 and 0 is : 4.0 \n",
      "hamming distance between picture 3 and 1 is : 5.0 \n",
      "hamming distance between picture 3 and 2 is : 6.0 \n"
     ]
    }
   ],
   "source": [
    "for i in range(4):\n",
    "    for j in range(4):\n",
    "        if j!=i :\n",
    "            y_in = (e_1.shape[0]/2) + np.inner(e[i,:] ,w[:,j])\n",
    "            print('hamming distance between picture {} and {} is : {} '.format(i,j,y_in) )"
   ]
  },
  {
   "cell_type": "markdown",
   "metadata": {},
   "source": [
    "# ب"
   ]
  },
  {
   "cell_type": "code",
   "execution_count": 33,
   "metadata": {},
   "outputs": [
    {
     "name": "stdout",
     "output_type": "stream",
     "text": [
      "weight matrix :  [[ 0.5  0.5 -0.5 -0.5]\n",
      " [-0.5 -0.5  0.5  0.5]\n",
      " [ 0.5  0.5 -0.5  0.5]\n",
      " [-0.5 -0.5  0.5  0.5]\n",
      " [ 0.5  0.5 -0.5 -0.5]\n",
      " [-0.5 -0.5  0.5 -0.5]\n",
      " [-0.5 -0.5  0.5  0.5]\n",
      " [ 0.5  0.5  0.5 -0.5]\n",
      " [-0.5 -0.5  0.5 -0.5]\n",
      " [ 0.5 -0.5  0.5 -0.5]\n",
      " [-0.5  0.5 -0.5  0.5]\n",
      " [ 0.5 -0.5  0.5  0.5]]\n",
      "bias :  6.0\n"
     ]
    }
   ],
   "source": [
    "e = np.zeros((4, 12))\n",
    "e[0,:] =e_1\n",
    "e[1,:] =e_2\n",
    "e[2,:] =e_3\n",
    "e[3,:] =e_4\n",
    "w = np.zeros((12, 4))\n",
    "for i in range(e.shape[0]):\n",
    "    for j in range(e.shape[1]):\n",
    "        w[j,i] = e[i,j]/2\n",
    "print(\"weight matrix : \", w)\n",
    "bias = e_1.shape[0]/2\n",
    "print(\"bias : \", bias)"
   ]
  },
  {
   "cell_type": "markdown",
   "metadata": {},
   "source": [
    "# پ"
   ]
  },
  {
   "cell_type": "code",
   "execution_count": 34,
   "metadata": {},
   "outputs": [],
   "source": [
    "input_T = np.array([\n",
    "    1,1,1,\n",
    "    -1,1,-1,\n",
    "    -1,1,-1,\n",
    "    -1,1,-1,\n",
    "])"
   ]
  },
  {
   "cell_type": "code",
   "execution_count": 37,
   "metadata": {},
   "outputs": [
    {
     "name": "stdout",
     "output_type": "stream",
     "text": [
      "hamming distance between picture input_T and 0 is : 8.0 \n",
      "hamming distance between picture input_T and 1 is : 11.0 \n",
      "hamming distance between picture input_T and 2 is : 2.0 \n",
      "hamming distance between picture input_T and 3 is : 6.0 \n"
     ]
    }
   ],
   "source": [
    "y_in = []\n",
    "for i in range(4):\n",
    "    y_in = (e_1.shape[0]/2) + np.inner(input_T ,w[:,i])\n",
    "    print('hamming distance between picture input_T and {} is : {} '.format(i,y_in) )"
   ]
  }
 ],
 "metadata": {
  "interpreter": {
   "hash": "570feb405e2e27c949193ac68f46852414290d515b0ba6e5d90d076ed2284471"
  },
  "kernelspec": {
   "display_name": "Python 3.8.6 64-bit",
   "language": "python",
   "name": "python3"
  },
  "language_info": {
   "codemirror_mode": {
    "name": "ipython",
    "version": 3
   },
   "file_extension": ".py",
   "mimetype": "text/x-python",
   "name": "python",
   "nbconvert_exporter": "python",
   "pygments_lexer": "ipython3",
   "version": "3.8.6"
  },
  "orig_nbformat": 4
 },
 "nbformat": 4,
 "nbformat_minor": 2
}
