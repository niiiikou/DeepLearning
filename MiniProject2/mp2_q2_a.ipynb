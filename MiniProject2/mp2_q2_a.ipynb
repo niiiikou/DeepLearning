{
  "cells": [
    {
      "cell_type": "code",
      "execution_count": 1,
      "metadata": {
        "id": "3n3Awkwj7Z8W"
      },
      "outputs": [],
      "source": [
        "import torch\n",
        "import torch.nn as nn\n",
        "import torch.nn.functional as F\n",
        "from torch.distributions import Categorical\n",
        "import numpy as np"
      ]
    },
    {
      "cell_type": "code",
      "execution_count": 2,
      "metadata": {
        "id": "_Nlx_23P7Z5K"
      },
      "outputs": [],
      "source": [
        "device = torch.device(\"cuda\" if torch.cuda.is_available() else \"cpu\")"
      ]
    },
    {
      "cell_type": "code",
      "execution_count": 3,
      "metadata": {
        "colab": {
          "base_uri": "https://localhost:8080/"
        },
        "id": "6oJJXunf7Z26",
        "outputId": "acfb1d2b-0036-4def-e133-7bc196deefd4"
      },
      "outputs": [
        {
          "output_type": "execute_result",
          "data": {
            "text/plain": [
              "device(type='cuda')"
            ]
          },
          "metadata": {},
          "execution_count": 3
        }
      ],
      "source": [
        "device"
      ]
    },
    {
      "cell_type": "code",
      "execution_count": 4,
      "metadata": {
        "id": "BPn0fJ1by9Ve"
      },
      "outputs": [],
      "source": [
        "def count_true(a1, a2):\n",
        "  e = torch.eq(a1, a2)\n",
        "  e = e.cpu().numpy()\n",
        "  c = np.count_nonzero(e)\n",
        "  return c"
      ]
    },
    {
      "cell_type": "code",
      "execution_count": 5,
      "metadata": {
        "id": "Pn05zBuxxxMe"
      },
      "outputs": [],
      "source": [
        "def preprocess():\n",
        "   # load the text file\n",
        "    data = open(\"dataset.txt\", 'r').read()\n",
        "    chars = sorted(list(set(data)))\n",
        "    data_size, vocab_size = len(data), len(chars)\n",
        "    \n",
        "    # char to index and index to char maps\n",
        "    char_to_ix = { ch:i for i,ch in enumerate(chars) }\n",
        "    ix_to_char = { i:ch for i,ch in enumerate(chars) }\n",
        "    \n",
        "    # convert data from chars to indices\n",
        "    data = list(data)\n",
        "    for i, ch in enumerate(data):\n",
        "        data[i] = char_to_ix[ch]\n",
        "    # data tensor on device\n",
        "    data = torch.tensor(data).to(device)\n",
        "    data = torch.unsqueeze(data, dim=1)\n",
        "    \n",
        "    return data , ix_to_char , data_size, vocab_size"
      ]
    },
    {
      "cell_type": "code",
      "execution_count": 6,
      "metadata": {
        "id": "N250OR8q7Z0Y"
      },
      "outputs": [],
      "source": [
        "class RNN(nn.Module):\n",
        "    def __init__(self, input_size, output_size, hidden_size, num_layers):\n",
        "        super(RNN, self).__init__()\n",
        "        self.embedding = nn.Embedding(input_size, input_size)\n",
        "        self.rnn = nn.LSTM(input_size=input_size, hidden_size=hidden_size, num_layers=num_layers)\n",
        "        self.fc = nn.Linear(hidden_size, output_size)\n",
        "    \n",
        "    def forward(self, input_seq, hidden_state):\n",
        "        embedding = self.embedding(input_seq)\n",
        "        output, hidden_state = self.rnn(embedding, hidden_state)\n",
        "        output = self.fc(output)\n",
        "        return output, (hidden_state[0].detach(), hidden_state[1].detach())"
      ]
    },
    {
      "cell_type": "code",
      "execution_count": 7,
      "metadata": {
        "id": "aBDr7jEMe1oj"
      },
      "outputs": [],
      "source": [
        "def test(data,data_size,rnn,ix_to_char):\n",
        "\n",
        "        data_ptr = 0\n",
        "        hidden_state = None\n",
        "        # random character\n",
        "        rand_index = np.random.randint(data_size-1)\n",
        "        input_seq = data[rand_index : rand_index+1]\n",
        "        \n",
        "        for i in range(400):\n",
        "          \n",
        "            # forward pass\n",
        "            output, hidden_state = rnn(input_seq, hidden_state)\n",
        "            \n",
        "            # construct categorical distribution and sample a character\n",
        "            output = F.softmax(torch.squeeze(output), dim=0)\n",
        "            dist = Categorical(output)\n",
        "            index = dist.sample()\n",
        "            \n",
        "            # print the sampled character\n",
        "            print(ix_to_char[index.item()], end='')\n",
        "            \n",
        "            # next input is current output\n",
        "            input_seq[0][0] = index.item()\n",
        "            data_ptr += 1\n",
        "            \n",
        "            "
      ]
    },
    {
      "cell_type": "code",
      "execution_count": 8,
      "metadata": {
        "id": "hvrEkHDd7Ppz"
      },
      "outputs": [],
      "source": [
        "def train(data , ix_to_char, data_size, vocab_size,rnn,epochs,seq_len,loss_fn,optimizer):\n",
        "    acc = []\n",
        "    loss_list = []\n",
        "    for i_epoch in range(1, epochs+1):\n",
        "        \n",
        "        # random starting point (1st 100 chars) from data to begin\n",
        "        data_ptr = np.random.randint(100)\n",
        "        n = 0\n",
        "        running_loss = 0\n",
        "        hidden_state = None\n",
        "        true_predicts = 0\n",
        "         \n",
        "        while True:\n",
        "            input_seq = data[data_ptr : data_ptr+seq_len]\n",
        "            target_seq = data[data_ptr+1 : data_ptr+seq_len+1]\n",
        "            # forward pass\n",
        "            output, hidden_state = rnn(input_seq, hidden_state)\n",
        "            # compute loss\n",
        "            loss = loss_fn(torch.squeeze(output), torch.squeeze(target_seq))\n",
        "            running_loss += loss.item()\n",
        "            output = F.softmax(torch.squeeze(output), dim=0)\n",
        "            dist = Categorical(output)\n",
        "            index = dist.sample()\n",
        "            # compute gradients and take optimizer step\n",
        "            optimizer.zero_grad()\n",
        "            loss.backward()\n",
        "            optimizer.step()\n",
        "            # compute true predicts\n",
        "            true_predicts += count_true(torch.squeeze( target_seq), index)\n",
        "            \n",
        "            # update the data pointer\n",
        "            data_ptr += seq_len\n",
        "            n +=1\n",
        "            \n",
        "            # if at end of data : break\n",
        "            if data_ptr + seq_len + 1 > data_size:\n",
        "                break\n",
        "        acc.append(true_predicts*100/data_size)  \n",
        "        loss_list.append(running_loss/n)  \n",
        "        # print loss\n",
        "        print(\"Epoch: {0} \\t Loss: {1:.4f} \\t accuracy: {2:.4f}\".format(i_epoch, running_loss/n,true_predicts*100/data_size))\n",
        "\n",
        "    return acc,loss_list\n"
      ]
    },
    {
      "cell_type": "code",
      "source": [
        "def runn(hidden_size, seq_len, num_layers, lr, epochs):\n",
        "  # Hyperparameters\n",
        "  hidden_size = hidden_size  \n",
        "  # length of LSTM sequence \n",
        "  seq_len = seq_len\n",
        "  # num of layers in LSTM layer stack      \n",
        "  num_layers =num_layers      \n",
        "  lr = lr   \n",
        "  epochs = epochs\n",
        "  data , ix_to_char, data_size, vocab_size =  preprocess()\n",
        "  # model \n",
        "  rnn = RNN(vocab_size, vocab_size, hidden_size, num_layers).to(device)\n",
        "  # loss function and optimizer\n",
        "  loss_fn = nn.CrossEntropyLoss()\n",
        "  optimizer = torch.optim.Adam(rnn.parameters(), lr=lr)\n",
        "\n",
        "  acc_list,loss_list = train(data , ix_to_char, data_size, vocab_size,rnn,epochs,seq_len,loss_fn,optimizer)\n",
        "  print(\"generate text ------------------------------\")\n",
        "  test(data,data_size,rnn,ix_to_char)\n",
        "  return acc_list,loss_list"
      ],
      "metadata": {
        "id": "FcG5iVPArY_-"
      },
      "execution_count": 9,
      "outputs": []
    },
    {
      "cell_type": "code",
      "source": [
        "acc_list,loss_list = runn(512, 250, 3, 0.001, 40)"
      ],
      "metadata": {
        "colab": {
          "base_uri": "https://localhost:8080/"
        },
        "id": "qQPDxAk8t2Xu",
        "outputId": "adf4aefc-d26c-4445-d89d-7af91f413f2a"
      },
      "execution_count": 10,
      "outputs": [
        {
          "output_type": "stream",
          "name": "stdout",
          "text": [
            "Epoch: 1 \t Loss: 1.5872 \t accuracy: 16.7015\n",
            "Epoch: 2 \t Loss: 1.2128 \t accuracy: 25.3232\n",
            "Epoch: 3 \t Loss: 1.1147 \t accuracy: 29.0026\n",
            "Epoch: 4 \t Loss: 1.0556 \t accuracy: 30.8646\n",
            "Epoch: 5 \t Loss: 1.0132 \t accuracy: 32.6686\n",
            "Epoch: 6 \t Loss: 0.9789 \t accuracy: 33.8316\n",
            "Epoch: 7 \t Loss: 0.9517 \t accuracy: 34.8626\n",
            "Epoch: 8 \t Loss: 0.9290 \t accuracy: 35.4431\n",
            "Epoch: 9 \t Loss: 0.9116 \t accuracy: 36.1078\n",
            "Epoch: 10 \t Loss: 0.8947 \t accuracy: 36.5875\n",
            "Epoch: 11 \t Loss: 0.8816 \t accuracy: 37.0055\n",
            "Epoch: 12 \t Loss: 0.8706 \t accuracy: 37.5286\n",
            "Epoch: 13 \t Loss: 0.8610 \t accuracy: 37.7655\n",
            "Epoch: 14 \t Loss: 0.8528 \t accuracy: 38.5033\n",
            "Epoch: 15 \t Loss: 0.8450 \t accuracy: 38.7030\n",
            "Epoch: 16 \t Loss: 0.8397 \t accuracy: 38.9765\n",
            "Epoch: 17 \t Loss: 0.8345 \t accuracy: 39.5887\n",
            "Epoch: 18 \t Loss: 0.8318 \t accuracy: 39.8738\n",
            "Epoch: 19 \t Loss: 0.8285 \t accuracy: 39.9702\n",
            "Epoch: 20 \t Loss: 0.8279 \t accuracy: 40.3054\n",
            "Epoch: 21 \t Loss: 0.8253 \t accuracy: 40.5835\n",
            "Epoch: 22 \t Loss: 0.8237 \t accuracy: 40.7137\n",
            "Epoch: 23 \t Loss: 0.8224 \t accuracy: 41.1701\n",
            "Epoch: 24 \t Loss: 0.8201 \t accuracy: 41.2540\n",
            "Epoch: 25 \t Loss: 0.8197 \t accuracy: 41.8556\n",
            "Epoch: 26 \t Loss: 0.8210 \t accuracy: 41.9675\n",
            "Epoch: 27 \t Loss: 0.8188 \t accuracy: 42.2004\n",
            "Epoch: 28 \t Loss: 0.8205 \t accuracy: 42.2078\n",
            "Epoch: 29 \t Loss: 0.8198 \t accuracy: 42.6501\n",
            "Epoch: 30 \t Loss: 0.8212 \t accuracy: 42.6340\n",
            "Epoch: 31 \t Loss: 0.8201 \t accuracy: 42.9316\n",
            "Epoch: 32 \t Loss: 0.8214 \t accuracy: 43.2367\n",
            "Epoch: 33 \t Loss: 0.8222 \t accuracy: 43.4819\n",
            "Epoch: 34 \t Loss: 0.8256 \t accuracy: 43.4807\n",
            "Epoch: 35 \t Loss: 0.8253 \t accuracy: 43.7949\n",
            "Epoch: 36 \t Loss: 0.8258 \t accuracy: 43.9149\n",
            "Epoch: 37 \t Loss: 0.8273 \t accuracy: 44.3533\n",
            "Epoch: 38 \t Loss: 0.8255 \t accuracy: 44.6577\n",
            "Epoch: 39 \t Loss: 0.8319 \t accuracy: 44.4393\n",
            "Epoch: 40 \t Loss: 0.8302 \t accuracy: 44.8184\n",
            "generate text ------------------------------\n",
            "ho illitatible, but he wanted to rise the stool.\"\n",
            "It was full of large, shuddering resprewing crowl over only by himself to themselves, or else laughing.  Winky made every pained oddly whole house that Harry had come to intend sinclements.\n",
            "\"Hagrid?\"  said Amos Diggory as they looked no longer.\n",
            "\"He doesn't eat much us what could we expelled off internation, and who'd like to attack competition, the"
          ]
        }
      ]
    },
    {
      "cell_type": "code",
      "source": [
        "import matplotlib.pyplot as plt\n",
        "plt.plot(acc_list,label=\"accuracy\")\n",
        "plt.legend()\n",
        "plt.title(\"accuracy \")\n",
        "plt.show()"
      ],
      "metadata": {
        "id": "E0Yr_as0vSiS",
        "colab": {
          "base_uri": "https://localhost:8080/",
          "height": 281
        },
        "outputId": "41783ee3-9bdb-40f9-e098-cac48bc26579"
      },
      "execution_count": 11,
      "outputs": [
        {
          "output_type": "display_data",
          "data": {
            "text/plain": [
              "<Figure size 432x288 with 1 Axes>"
            ],
            "image/png": "[encoded data removed]"
          },
          "metadata": {
            "needs_background": "light"
          }
        }
      ]
    },
    {
      "cell_type": "code",
      "source": [
        "plt.plot(loss_list,label=\"loss\")\n",
        "plt.legend()\n",
        "plt.title(\"loss \")\n",
        "plt.show()"
      ],
      "metadata": {
        "id": "D1f5D87falKU",
        "colab": {
          "base_uri": "https://localhost:8080/",
          "height": 281
        },
        "outputId": "01c7e852-4f20-4c2f-caa1-aff5135b2ca9"
      },
      "execution_count": 12,
      "outputs": [
        {
          "output_type": "display_data",
          "data": {
            "text/plain": [
              "<Figure size 432x288 with 1 Axes>"
            ],
            "image/png": "[encoded data removed]"
          },
          "metadata": {
            "needs_background": "light"
          }
        }
      ]
    },
    {
      "cell_type": "code",
      "source": [
        ""
      ],
      "metadata": {
        "id": "E3MJPOBFfHpq"
      },
      "execution_count": null,
      "outputs": []
    }
  ],
  "metadata": {
    "accelerator": "GPU",
    "colab": {
      "collapsed_sections": [],
      "name": "mp2_q2_a(1)(1).ipynb",
      "provenance": []
    },
    "kernelspec": {
      "display_name": "Python 3",
      "name": "python3"
    },
    "language_info": {
      "name": "python"
    }
  },
  "nbformat": 4,
  "nbformat_minor": 0
}