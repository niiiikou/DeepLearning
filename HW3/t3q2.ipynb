{
  "nbformat": 4,
  "nbformat_minor": 0,
  "metadata": {
    "colab": {
      "name": "t3q2.ipynb",
      "provenance": [],
      "collapsed_sections": []
    },
    "kernelspec": {
      "name": "python3",
      "display_name": "Python 3"
    },
    "language_info": {
      "name": "python"
    }
  },
  "cells": [
    {
      "cell_type": "code",
      "execution_count": 3,
      "metadata": {
        "id": "k5A34oZCBYAJ"
      },
      "outputs": [],
      "source": [
        "import numpy as np\n",
        "import matplotlib.pyplot as plt\n",
        "import pandas as pd\n",
        "from PIL import Image"
      ]
    },
    {
      "cell_type": "code",
      "source": [
        "i_1 = np.asarray(Image.open('Image_1.png').convert('L'))\n",
        "i_2 = np.asarray(Image.open('Image_2.png').convert('L'))\n",
        "i_3 = np.asarray(Image.open('Image_3.png').convert('L'))"
      ],
      "metadata": {
        "id": "pjuZG2ClBe4X"
      },
      "execution_count": 4,
      "outputs": []
    },
    {
      "cell_type": "code",
      "source": [
        "i_1"
      ],
      "metadata": {
        "colab": {
          "base_uri": "https://localhost:8080/"
        },
        "id": "3IE-EsghJGNf",
        "outputId": "b0612565-9fcf-4653-b62c-b91de9a1ab23"
      },
      "execution_count": 5,
      "outputs": [
        {
          "output_type": "execute_result",
          "data": {
            "text/plain": [
              "array([[255,   0,   0,   0, 255],\n",
              "       [  0, 255, 255, 255,   0],\n",
              "       [  0, 255, 255, 255,   0],\n",
              "       [  0, 255, 255, 255,   0],\n",
              "       [  0, 255, 255, 255,   0],\n",
              "       [  0, 255, 255, 255,   0],\n",
              "       [255,   0,   0,   0, 255]], dtype=uint8)"
            ]
          },
          "metadata": {},
          "execution_count": 5
        }
      ]
    },
    {
      "cell_type": "code",
      "source": [
        "i_1 = np.where(i_1 > 0, 1, -1).flatten()\n",
        "i_2 = np.where(i_2 > 0, 1, -1).flatten()\n",
        "i_3 = np.where(i_3 > 0, 1, -1).flatten()"
      ],
      "metadata": {
        "id": "OXBcuLpJBeya"
      },
      "execution_count": 6,
      "outputs": []
    },
    {
      "cell_type": "code",
      "source": [
        "def hlr(input_1,input_2,input_3,output_1,output_2,output_3):\n",
        "  w = np.zeros((35, 35))\n",
        "  st_1 = np.outer(input_1, output_1)\n",
        "  st_2 = np.outer(input_2, output_2)\n",
        "  st_3 = np.outer(input_3, output_3)\n",
        "  w = st_1 + st_2 + st_3\n",
        "  return w"
      ],
      "metadata": {
        "id": "tH46iXb9Beph"
      },
      "execution_count": 7,
      "outputs": []
    },
    {
      "cell_type": "code",
      "source": [
        "w_hlr = hlr(i_1,i_2,i_3,i_1,i_2,i_3)"
      ],
      "metadata": {
        "id": "-6VQtQtVBemk"
      },
      "execution_count": 8,
      "outputs": []
    },
    {
      "cell_type": "code",
      "source": [
        "def mhlr(input_1,input_2,input_3,output_1,output_2,output_3):\n",
        "  w = np.zeros((35, 35))\n",
        "  st_1 = np.outer(input_1, output_1)\n",
        "  st_2 = np.outer(input_2, output_2)\n",
        "  st_3 = np.outer(input_3, output_3)\n",
        "  d = np.zeros((35, 35), int) # Create matrix with only 0\n",
        "  np.fill_diagonal(d, 1)\n",
        "  w = st_1 + st_2 + st_3 - d\n",
        "  return w"
      ],
      "metadata": {
        "id": "txb85oiMBejm"
      },
      "execution_count": 9,
      "outputs": []
    },
    {
      "cell_type": "code",
      "source": [
        "w_mhlr = mhlr(i_1,i_2,i_3,i_1,i_2,i_3)"
      ],
      "metadata": {
        "id": "LdA9YokNU338"
      },
      "execution_count": 10,
      "outputs": []
    },
    {
      "cell_type": "code",
      "source": [
        "w_hlr"
      ],
      "metadata": {
        "colab": {
          "base_uri": "https://localhost:8080/"
        },
        "id": "uJv_41n6WTwo",
        "outputId": "e736506a-2ebd-44a5-9523-7901ea8c7a0d"
      },
      "execution_count": 11,
      "outputs": [
        {
          "output_type": "execute_result",
          "data": {
            "text/plain": [
              "array([[ 3, -1, -3, ..., -3, -3,  1],\n",
              "       [-1,  3,  1, ...,  1,  1,  1],\n",
              "       [-3,  1,  3, ...,  3,  3, -1],\n",
              "       ...,\n",
              "       [-3,  1,  3, ...,  3,  3, -1],\n",
              "       [-3,  1,  3, ...,  3,  3, -1],\n",
              "       [ 1,  1, -1, ..., -1, -1,  3]])"
            ]
          },
          "metadata": {},
          "execution_count": 11
        }
      ]
    },
    {
      "cell_type": "code",
      "source": [
        "w_mhlr"
      ],
      "metadata": {
        "colab": {
          "base_uri": "https://localhost:8080/"
        },
        "id": "WgMLQTmIWOI3",
        "outputId": "b074e6b3-2398-4b81-916e-30415e1cf8c7"
      },
      "execution_count": 12,
      "outputs": [
        {
          "output_type": "execute_result",
          "data": {
            "text/plain": [
              "array([[ 2, -1, -3, ..., -3, -3,  1],\n",
              "       [-1,  2,  1, ...,  1,  1,  1],\n",
              "       [-3,  1,  2, ...,  3,  3, -1],\n",
              "       ...,\n",
              "       [-3,  1,  3, ...,  2,  3, -1],\n",
              "       [-3,  1,  3, ...,  3,  2, -1],\n",
              "       [ 1,  1, -1, ..., -1, -1,  2]])"
            ]
          },
          "metadata": {},
          "execution_count": 12
        }
      ]
    },
    {
      "cell_type": "code",
      "source": [
        "def plot_out(input_1,input_2,input_3,output_1,output_2,output_3,w): \n",
        "  test_1 = np.sign(np.inner(input_1.reshape((1,35)), w.T) )\n",
        "  test_2 = np.sign(np.inner(input_2.reshape((1,35)), w.T))\n",
        "  test_3= np.sign(np.inner(input_3.reshape((1,35)), w.T))\n",
        "  plt.subplot(3, 3, 1)\n",
        "  plt.imshow(input_1.reshape((7,5)),cmap=\"gray\")\n",
        "  plt.title('input')\n",
        "  plt.subplot(3, 3, 2)\n",
        "  plt.imshow(test_1.reshape((7,5)),cmap=\"gray\")\n",
        "  plt.title('predicted_output')\n",
        "  plt.subplot(3, 3, 3)\n",
        "  plt.imshow(output_1.reshape((7,5)),cmap=\"gray\")\n",
        "  plt.title('output')\n",
        "  plt.subplot(3, 3, 4)\n",
        "  plt.imshow(input_2.reshape((7,5)),cmap=\"gray\")\n",
        "  plt.subplot(3, 3, 5)\n",
        "  plt.imshow(test_2.reshape((7,5)),cmap=\"gray\")\n",
        "  plt.subplot(3, 3, 6)\n",
        "  plt.imshow(output_2.reshape((7,5)),cmap=\"gray\")\n",
        "  plt.subplot(3, 3, 7)\n",
        "  plt.imshow(input_3.reshape((7,5)),cmap=\"gray\")\n",
        "  plt.subplot(3, 3, 8)\n",
        "  plt.imshow(test_3.reshape((7,5)),cmap=\"gray\")\n",
        "  plt.subplot(3, 3, 9)\n",
        "  plt.imshow(output_3.reshape((7,5)),cmap=\"gray\")\n",
        "  \n"
      ],
      "metadata": {
        "id": "1mmuQSwkZy3N"
      },
      "execution_count": 13,
      "outputs": []
    },
    {
      "cell_type": "code",
      "source": [
        "plot_out(i_1,i_2,i_3,i_1,i_2,i_3,w_hlr)"
      ],
      "metadata": {
        "colab": {
          "base_uri": "https://localhost:8080/",
          "height": 281
        },
        "id": "MSyGNLxIaUaf",
        "outputId": "a91272e3-3ad4-4bef-b7b6-088969743fd2"
      },
      "execution_count": 14,
      "outputs": [
        {
          "output_type": "display_data",
          "data": {
            "text/plain": [
              "<Figure size 432x288 with 9 Axes>"
            ],
            "image/png": "[encoded data removed]"
          },
          "metadata": {
            "needs_background": "light"
          }
        }
      ]
    },
    {
      "cell_type": "code",
      "source": [
        "plot_out(i_1,i_2,i_3,i_1,i_2,i_3,w_mhlr)"
      ],
      "metadata": {
        "colab": {
          "base_uri": "https://localhost:8080/",
          "height": 281
        },
        "id": "qnIV6mqbau5p",
        "outputId": "c72a2907-bb23-491d-f884-9f2981bc5bc4"
      },
      "execution_count": 15,
      "outputs": [
        {
          "output_type": "display_data",
          "data": {
            "text/plain": [
              "<Figure size 432x288 with 9 Axes>"
            ],
            "image/png": "[encoded data removed]"
          },
          "metadata": {
            "needs_background": "light"
          }
        }
      ]
    },
    {
      "cell_type": "code",
      "source": [
        "def replaceRandom(arr, perc):\n",
        "    temp = arr   \n",
        "    shape = temp.shape[0]      \n",
        "    noise = round((perc * shape)/100 )\n",
        "    temp = temp.flatten()    # Flatten to 1D\n",
        "    inds = np.random.randint(0,shape,noise)   # Get random indices\n",
        "    # Fill with something\n",
        "    for i in inds:\n",
        "      if arr[i] == 1:\n",
        "        temp[i] = -1\n",
        "      else:\n",
        "        temp[i] = 1\n",
        "    return temp"
      ],
      "metadata": {
        "id": "q0zH74ODmmKy"
      },
      "execution_count": 16,
      "outputs": []
    },
    {
      "cell_type": "code",
      "source": [
        "i_1_noise = replaceRandom(i_1, 20)\n",
        "i_2_noise = replaceRandom(i_2, 20)\n",
        "i_3_noise = replaceRandom(i_3, 20)\n",
        "plot_out(i_1_noise,i_2_noise,i_3_noise,i_1,i_2,i_3,w_hlr)"
      ],
      "metadata": {
        "id": "5q480UwTm8rf",
        "colab": {
          "base_uri": "https://localhost:8080/",
          "height": 281
        },
        "outputId": "ff51e501-1e84-42a4-fff6-f6c625c06906"
      },
      "execution_count": 17,
      "outputs": [
        {
          "output_type": "display_data",
          "data": {
            "text/plain": [
              "<Figure size 432x288 with 9 Axes>"
            ],
            "image/png": "[encoded data removed]"
          },
          "metadata": {
            "needs_background": "light"
          }
        }
      ]
    },
    {
      "cell_type": "code",
      "source": [
        "i_1_noise = replaceRandom(i_1, 80)\n",
        "i_2_noise = replaceRandom(i_2, 80)\n",
        "i_3_noise = replaceRandom(i_3, 80)\n",
        "plot_out(i_1_noise,i_2_noise,i_3_noise,i_1,i_2,i_3,w_hlr)"
      ],
      "metadata": {
        "id": "pIKloTQNJZ2_",
        "colab": {
          "base_uri": "https://localhost:8080/",
          "height": 281
        },
        "outputId": "bd2481ab-7e82-4688-d245-f1f76d2c1315"
      },
      "execution_count": 18,
      "outputs": [
        {
          "output_type": "display_data",
          "data": {
            "text/plain": [
              "<Figure size 432x288 with 9 Axes>"
            ],
            "image/png": "[encoded data removed]"
          },
          "metadata": {
            "needs_background": "light"
          }
        }
      ]
    },
    {
      "cell_type": "markdown",
      "source": [
        "# 4"
      ],
      "metadata": {
        "id": "Nb6NekfjJ9xr"
      }
    },
    {
      "cell_type": "code",
      "source": [
        "def replaceRandom_zero(arr, perc):\n",
        "    temp = arr   \n",
        "    shape = temp.shape[0]      \n",
        "    noise = round((perc * shape)/100 )\n",
        "    temp = temp.flatten()    # Flatten to 1D\n",
        "    inds = np.random.randint(0,shape,noise)   # Get random indices\n",
        "    # Fill with something\n",
        "    for i in inds:\n",
        "      temp[i] = 0\n",
        "\n",
        "    return temp"
      ],
      "metadata": {
        "id": "ptMAhlbXJ--a"
      },
      "execution_count": 19,
      "outputs": []
    },
    {
      "cell_type": "code",
      "source": [
        "i_1_noise = replaceRandom(i_1, 20)\n",
        "i_2_noise = replaceRandom(i_2, 20)\n",
        "i_3_noise = replaceRandom(i_3, 20)\n",
        "plot_out(i_1_noise,i_2_noise,i_3_noise,i_1,i_2,i_3,w_hlr)"
      ],
      "metadata": {
        "id": "n4bSuNK8KPt3",
        "colab": {
          "base_uri": "https://localhost:8080/",
          "height": 281
        },
        "outputId": "a29dc845-5f16-44d7-cb46-78ec15c24a30"
      },
      "execution_count": 20,
      "outputs": [
        {
          "output_type": "display_data",
          "data": {
            "text/plain": [
              "<Figure size 432x288 with 9 Axes>"
            ],
            "image/png": "[encoded data removed]"
          },
          "metadata": {
            "needs_background": "light"
          }
        }
      ]
    },
    {
      "cell_type": "code",
      "source": [
        "i_1_noise = replaceRandom(i_1, 80)\n",
        "i_2_noise = replaceRandom(i_2, 80)\n",
        "i_3_noise = replaceRandom(i_3, 80)\n",
        "plot_out(i_1_noise,i_2_noise,i_3_noise,i_1,i_2,i_3,w_hlr)"
      ],
      "metadata": {
        "id": "99u8BvgFKcgm",
        "colab": {
          "base_uri": "https://localhost:8080/",
          "height": 281
        },
        "outputId": "24511436-4818-4b2e-c89a-45a07f1e99e3"
      },
      "execution_count": 21,
      "outputs": [
        {
          "output_type": "display_data",
          "data": {
            "text/plain": [
              "<Figure size 432x288 with 9 Axes>"
            ],
            "image/png": "[encoded data removed]"
          },
          "metadata": {
            "needs_background": "light"
          }
        }
      ]
    },
    {
      "cell_type": "markdown",
      "source": [
        "#5"
      ],
      "metadata": {
        "id": "_GN4N62iKjiZ"
      }
    },
    {
      "cell_type": "code",
      "source": [
        ""
      ],
      "metadata": {
        "id": "9qWGAbvuKk1l"
      },
      "execution_count": null,
      "outputs": []
    }
  ]
}