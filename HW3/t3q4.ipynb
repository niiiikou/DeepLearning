{
  "nbformat": 4,
  "nbformat_minor": 0,
  "metadata": {
    "colab": {
      "name": "t3q4.ipynb",
      "provenance": [],
      "collapsed_sections": []
    },
    "kernelspec": {
      "name": "python3",
      "display_name": "Python 3"
    },
    "language_info": {
      "name": "python"
    }
  },
  "cells": [
    {
      "cell_type": "code",
      "execution_count": 274,
      "metadata": {
        "id": "QoOpRrGMHgrd"
      },
      "outputs": [],
      "source": [
        "import numpy as np\n",
        "import matplotlib.pyplot as plt\n",
        "import pandas as pd\n",
        "from PIL import Image"
      ]
    },
    {
      "cell_type": "code",
      "source": [
        "x_1 = np.array([\n",
        "    1,0,0,0,0,1,1,\n",
        "    1,1,0,1,1,0,0,\n",
        "    1,1,0,1,0,0,1,\n",
        "    1,1,0,1,1,1,0,\n",
        "    1,1,1,0,1,0,0,\n",
        "    1,1,0,1,1,1,1,\n",
        "    1,1,0,1,1,1,0,\n",
        "])\n",
        "\n",
        "x_2 = np.array([\n",
        "    1,0,0,1,0,0,0,\n",
        "    1,1,0,1,0,0,1,\n",
        "    1,1,0,1,1,0,0,\n",
        "    1,1,0,1,1,0,0,\n",
        "    1,1,0,0,0,0,1,\n",
        "    1,1,1,0,0,1,0,\n",
        "    1,1,1,1,0,0,1,\n",
        "])\n",
        "\n",
        "\n",
        "x_3 = np.array([\n",
        "    1,0,0,1,0,1,1,\n",
        "    1,1,0,0,1,0,1,\n",
        "    1,1,0,1,1,1,0,\n",
        "    1,1,1,0,0,1,1,\n",
        "    1,1,1,0,1,0,0,\n",
        "    1,1,0,0,0,0,1,\n",
        "    1,1,1,0,0,1,0,\n",
        "])\n",
        "\n",
        "x_4 = np.array([\n",
        "    1,0,0,1,1,0,0,\n",
        "    1,1,0,0,1,0,1,\n",
        "    1,1,1,0,1,1,0,\n",
        "    1,1,0,1,0,0,1,\n",
        "    1,1,1,0,0,1,1,\n",
        "    1,1,0,1,0,1,1,\n",
        "    1,1,1,1,0,0,1,\n",
        "\n",
        "\n",
        "])\n",
        "\n",
        "y_1 = np.array([\n",
        "    1,0,1,0,0,0,0,\n",
        "    1,1,1,0,0,1,0,\n",
        "    1,1,0,0,1,0,1,\n",
        "    1,1,1,0,0,1,1,\n",
        "    1,1,0,1,0,0,1,\n",
        "    1,1,0,0,1,0,0,\n",
        "    1,1,0,0,1,0,1,\n",
        "    1,1,0,1,1,1,0,\n",
        "    1,1,1,0,1,0,0,\n",
        "])\n",
        "\n",
        "y_2 = np.array([\n",
        "    1,0,0,0,1,1,0,\n",
        "    1,1,0,1,0,0,1,\n",
        "    1,1,1,0,0,1,0,\n",
        "    1,1,1,0,0,1,1,\n",
        "    1,1,1,0,1,0,0,\n",
        "    1,0,0,1,1,0,0,\n",
        "    1,1,0,0,0,0,1,\n",
        "    1,1,0,0,1,0,0,\n",
        "    1,1,1,1,0,0,1,\n",
        "    \n",
        "])\n",
        "\n",
        "y_3 = np.array([\n",
        "    1,0,0,0,1,1,1,\n",
        "    1,1,0,0,1,0,1,\n",
        "    1,1,0,1,1,1,0,\n",
        "    1,1,1,0,1,0,0,\n",
        "    1,1,0,1,1,0,0,\n",
        "    1,1,0,0,1,0,1,\n",
        "    1,1,0,1,1,0,1,\n",
        "    1,1,0,0,0,0,1,\n",
        "    1,1,0,1,1,1,0,\n",
        "\n",
        "])\n",
        "\n",
        "y_4 = np.array([\n",
        "    1,0,1,0,0,1,1,\n",
        "    1,1,1,0,1,1,1,\n",
        "    1,1,0,0,1,0,1,\n",
        "    1,1,0,0,1,0,1,\n",
        "    1,1,1,0,1,0,0,\n",
        "    1,0,0,0,1,1,1,\n",
        "    1,1,0,1,0,0,1,\n",
        "    1,1,1,0,0,1,0,\n",
        "    1,1,0,1,1,0,0,\n",
        "])"
      ],
      "metadata": {
        "id": "VSwG_MwNcN_5"
      },
      "execution_count": 275,
      "outputs": []
    },
    {
      "cell_type": "code",
      "source": [
        "x_1 = np.where(x_1 > 0, 1, -1)\n",
        "y_1 = np.where(y_1 > 0, 1, -1)\n",
        "x_2 = np.where(x_2 > 0, 1, -1)\n",
        "y_2 = np.where(y_2 > 0, 1, -1)\n",
        "x_3 = np.where(x_3 > 0, 1, -1)\n",
        "y_3 = np.where(y_3 > 0, 1, -1)\n",
        "x_4 = np.where(x_4 > 0, 1, -1)\n",
        "y_4 = np.where(y_4 > 0, 1, -1)"
      ],
      "metadata": {
        "id": "0zLdOZkjINGm"
      },
      "execution_count": 276,
      "outputs": []
    },
    {
      "cell_type": "code",
      "source": [
        "def w_BAM(x_1,x_2,x_3, y_1, y_2, y_3):\n",
        "  w = np.zeros((49, 63))\n",
        "  st_1 = np.outer(x_1, y_1)\n",
        "  st_2 = np.outer(x_2, y_2)\n",
        "  st_3 = np.outer(x_3, y_3)\n",
        "  w = st_1 + st_2 + st_3\n",
        "  \n",
        "  return w"
      ],
      "metadata": {
        "id": "tr99sPuZRO02"
      },
      "execution_count": 277,
      "outputs": []
    },
    {
      "cell_type": "code",
      "source": [
        "w = w_BAM(x_1,x_2,x_3, y_1, y_2, y_3)"
      ],
      "metadata": {
        "id": "TYgjrHbvNedQ"
      },
      "execution_count": 278,
      "outputs": []
    },
    {
      "cell_type": "code",
      "source": [
        "w"
      ],
      "metadata": {
        "colab": {
          "base_uri": "https://localhost:8080/"
        },
        "id": "AfPTYHr4Ik_1",
        "outputId": "57239032-cc15-4b9b-92ae-855a0a8290f4"
      },
      "execution_count": 279,
      "outputs": [
        {
          "output_type": "execute_result",
          "data": {
            "text/plain": [
              "array([[ 3, -3, -1, ...,  1, -1, -1],\n",
              "       [-3,  3,  1, ..., -1,  1,  1],\n",
              "       [-3,  3,  1, ..., -1,  1,  1],\n",
              "       ...,\n",
              "       [-1,  1,  3, ...,  1, -1, -1],\n",
              "       [ 1, -1,  1, ...,  3,  1, -3],\n",
              "       [-1,  1, -1, ..., -3, -1,  3]])"
            ]
          },
          "metadata": {},
          "execution_count": 279
        }
      ]
    },
    {
      "cell_type": "code",
      "source": [
        "w.shape"
      ],
      "metadata": {
        "colab": {
          "base_uri": "https://localhost:8080/"
        },
        "id": "D6XPbiX4OeBP",
        "outputId": "3cdc6a9f-508a-44be-ef9f-5b455837c516"
      },
      "execution_count": 280,
      "outputs": [
        {
          "output_type": "execute_result",
          "data": {
            "text/plain": [
              "(49, 63)"
            ]
          },
          "metadata": {},
          "execution_count": 280
        }
      ]
    },
    {
      "cell_type": "code",
      "source": [
        "x_1.shape"
      ],
      "metadata": {
        "colab": {
          "base_uri": "https://localhost:8080/"
        },
        "id": "NSgL0cYROSWI",
        "outputId": "2b916847-6894-44fd-b315-96ca4e16580e"
      },
      "execution_count": 281,
      "outputs": [
        {
          "output_type": "execute_result",
          "data": {
            "text/plain": [
              "(49,)"
            ]
          },
          "metadata": {},
          "execution_count": 281
        }
      ]
    },
    {
      "cell_type": "code",
      "source": [
        "def BAM(x,y,w):\n",
        "  x_temp = x\n",
        "  y_temp = y\n",
        "  y_in = np.dot(x.reshape((1,49)),w)\n",
        "  y_in = y_in.reshape((63))\n",
        "  print('y_temp : ' ,y_temp)\n",
        "  for i, vv in enumerate(y_in):\n",
        "    if y_in[i] > 0 :\n",
        "      y_temp[i] = 1\n",
        "    elif y_in[i] == 0 :\n",
        "      y_temp[i] = y_in[i]\n",
        "    elif y_in[i] < 0 :\n",
        "      y_temp[i] = -1\n",
        "  print('y :',y)\n",
        "  x_in = np.dot(y.reshape((1,63)),w.T)\n",
        "  x_in = x_in.reshape((49))\n",
        "  print('x_temp : ' ,x_temp)\n",
        "  for i, vv in enumerate(x_in):\n",
        "    if x_in[i] > 0 :\n",
        "      x_temp[i] = 1\n",
        "    elif x_in[i] == 0 :\n",
        "      x_temp[i] = x_in[i]\n",
        "    elif x_in[i] < 0 :\n",
        "       x_temp[i] = -1\n",
        "  print('x : ' ,x)\n",
        "  num_true_x= 0\n",
        "  num_true_y = 0\n",
        "  for i, vv in enumerate(x):\n",
        "    if x[i] == x_temp[i]:\n",
        "      num_true_x +=1\n",
        "\n",
        "  for i, vv in enumerate(y):\n",
        "    if y[i] == y_temp[i]:\n",
        "      num_true_y +=1\n",
        "\n",
        "  perc_true_x = num_true_x*100/x.shape[0]\n",
        "  perc_true_y = num_true_y*100/y.shape[0]\n",
        "  print('perc_true_x : ' ,perc_true_x )\n",
        "  print('perc_true_y : ' ,perc_true_y)\n",
        "\n",
        "  return perc_true_x,perc_true_y"
      ],
      "metadata": {
        "id": "-WrBeBpELSRF"
      },
      "execution_count": 282,
      "outputs": []
    },
    {
      "cell_type": "code",
      "source": [
        "BAM(x_1,y_1,w)"
      ],
      "metadata": {
        "colab": {
          "base_uri": "https://localhost:8080/"
        },
        "id": "N87mTzuXLr7l",
        "outputId": "010b0e5c-cd6e-49e4-f633-871f899abd61"
      },
      "execution_count": 283,
      "outputs": [
        {
          "output_type": "stream",
          "name": "stdout",
          "text": [
            "y_temp :  [ 1 -1  1 -1 -1 -1 -1  1  1  1 -1 -1  1 -1  1  1 -1 -1  1 -1  1  1  1  1\n",
            " -1 -1  1  1  1  1 -1  1 -1 -1  1  1  1 -1 -1  1 -1 -1  1  1 -1 -1  1 -1\n",
            "  1  1  1 -1  1  1  1 -1  1  1  1 -1  1 -1 -1]\n",
            "y : [ 1 -1  1 -1 -1 -1 -1  1  1  1 -1 -1  1 -1  1  1 -1 -1  1 -1  1  1  1  1\n",
            " -1 -1  1  1  1  1 -1  1 -1 -1  1  1  1 -1 -1  1 -1 -1  1  1 -1 -1  1 -1\n",
            "  1  1  1 -1  1  1  1 -1  1  1  1 -1  1 -1 -1]\n",
            "x_temp :  [ 1 -1 -1 -1 -1  1  1  1  1 -1  1  1 -1 -1  1  1 -1  1 -1 -1  1  1  1 -1\n",
            "  1  1  1 -1  1  1  1 -1  1 -1 -1  1  1 -1  1  1  1  1  1  1 -1  1  1  1\n",
            " -1]\n",
            "x :  [ 1 -1 -1 -1 -1  1  1  1  1 -1  1  1 -1 -1  1  1 -1  1 -1 -1  1  1  1 -1\n",
            "  1  1  1 -1  1  1  1 -1  1 -1 -1  1  1 -1  1  1  1  1  1  1 -1  1  1  1\n",
            " -1]\n",
            "perc_true_x :  100.0\n",
            "perc_true_y :  100.0\n"
          ]
        },
        {
          "output_type": "execute_result",
          "data": {
            "text/plain": [
              "(100.0, 100.0)"
            ]
          },
          "metadata": {},
          "execution_count": 283
        }
      ]
    },
    {
      "cell_type": "code",
      "source": [
        "BAM(x_2,y_2,w)"
      ],
      "metadata": {
        "colab": {
          "base_uri": "https://localhost:8080/"
        },
        "id": "mNs-diduLzrT",
        "outputId": "6cc48842-b9ef-449f-8e62-affa0436ca7e"
      },
      "execution_count": 284,
      "outputs": [
        {
          "output_type": "stream",
          "name": "stdout",
          "text": [
            "y_temp :  [ 1 -1 -1 -1  1  1 -1  1  1 -1  1 -1 -1  1  1  1  1 -1 -1  1 -1  1  1  1\n",
            " -1 -1  1  1  1  1  1 -1  1 -1 -1  1 -1 -1  1  1 -1 -1  1  1 -1 -1 -1 -1\n",
            "  1  1  1 -1 -1  1 -1 -1  1  1  1  1 -1 -1  1]\n",
            "y : [ 1 -1 -1 -1  1  1 -1  1  1 -1  1 -1 -1  1  1  1  1 -1 -1  1 -1  1  1  1\n",
            " -1 -1  1  1  1  1  1 -1  1 -1 -1  1 -1 -1  1  1 -1 -1  1  1 -1 -1 -1 -1\n",
            "  1  1  1 -1 -1  1 -1 -1  1  1  1  1 -1 -1  1]\n",
            "x_temp :  [ 1 -1 -1  1 -1 -1 -1  1  1 -1  1 -1 -1  1  1  1 -1  1  1 -1 -1  1  1 -1\n",
            "  1  1 -1 -1  1  1 -1 -1 -1 -1  1  1  1  1 -1 -1  1 -1  1  1  1  1 -1 -1\n",
            "  1]\n",
            "x :  [ 1 -1 -1  1 -1 -1 -1  1  1 -1  1 -1 -1  1  1  1 -1  1  1 -1 -1  1  1 -1\n",
            "  1  1 -1 -1  1  1 -1 -1 -1 -1  1  1  1  1 -1 -1  1 -1  1  1  1  1 -1 -1\n",
            "  1]\n",
            "perc_true_x :  100.0\n",
            "perc_true_y :  100.0\n"
          ]
        },
        {
          "output_type": "execute_result",
          "data": {
            "text/plain": [
              "(100.0, 100.0)"
            ]
          },
          "metadata": {},
          "execution_count": 284
        }
      ]
    },
    {
      "cell_type": "code",
      "source": [
        "BAM(x_3,y_3,w)"
      ],
      "metadata": {
        "colab": {
          "base_uri": "https://localhost:8080/"
        },
        "id": "zPq59hH_L5Xf",
        "outputId": "bfa68392-7792-4302-af8f-9b4e3f02004f"
      },
      "execution_count": 285,
      "outputs": [
        {
          "output_type": "stream",
          "name": "stdout",
          "text": [
            "y_temp :  [ 1 -1 -1 -1  1  1  1  1  1 -1 -1  1 -1  1  1  1 -1  1  1  1 -1  1  1  1\n",
            " -1  1 -1 -1  1  1 -1  1  1 -1 -1  1  1 -1 -1  1 -1  1  1  1 -1  1  1 -1\n",
            "  1  1  1 -1 -1 -1 -1  1  1  1 -1  1  1  1 -1]\n",
            "y : [ 1 -1 -1 -1  1  1  1  1  1 -1 -1  1 -1  1  1  1 -1  1  1  1 -1  1  1  1\n",
            " -1  1 -1 -1  1  1 -1  1  1 -1 -1  1  1 -1 -1  1 -1  1  1  1 -1  1  1 -1\n",
            "  1  1  1 -1 -1 -1 -1  1  1  1 -1  1  1  1 -1]\n",
            "x_temp :  [ 1 -1 -1  1 -1  1  1  1  1 -1 -1  1 -1  1  1  1 -1  1  1  1 -1  1  1  1\n",
            " -1 -1  1  1  1  1  1 -1  1 -1 -1  1  1 -1 -1 -1 -1  1  1  1  1 -1 -1  1\n",
            " -1]\n",
            "x :  [ 1 -1 -1  1 -1  1  1  1  1 -1 -1  1 -1  1  1  1 -1  1  1  1 -1  1  1  1\n",
            " -1 -1  1  1  1  1  1 -1  1 -1 -1  1  1 -1 -1 -1 -1  1  1  1  1 -1 -1  1\n",
            " -1]\n",
            "perc_true_x :  100.0\n",
            "perc_true_y :  100.0\n"
          ]
        },
        {
          "output_type": "execute_result",
          "data": {
            "text/plain": [
              "(100.0, 100.0)"
            ]
          },
          "metadata": {},
          "execution_count": 285
        }
      ]
    },
    {
      "cell_type": "markdown",
      "source": [
        "# 2"
      ],
      "metadata": {
        "id": "zxEzKjoqoRUh"
      }
    },
    {
      "cell_type": "code",
      "source": [
        "def replaceRandom(arr, perc):\n",
        "    temp = arr   \n",
        "    shape = temp.shape[0]      \n",
        "    noise = round((perc * shape)/100 )\n",
        "    temp = temp.flatten()    # Flatten to 1D\n",
        "    inds = np.random.randint(0,shape,noise)   # Get random indices\n",
        "    # Fill with something\n",
        "    for i in inds:\n",
        "      if arr[i] == 1:\n",
        "        temp[i] = -1\n",
        "      elif arr[i] == -1:\n",
        "        temp[i] = 1\n",
        "    return temp"
      ],
      "metadata": {
        "id": "zMSuP51wOT4B"
      },
      "execution_count": 222,
      "outputs": []
    },
    {
      "cell_type": "code",
      "source": [
        "def BAM(x,y,w,noise):\n",
        "  x_temp = x\n",
        "  y_temp = y\n",
        "  x_noise = replaceRandom(x, noise)\n",
        " \n",
        "  y_in = np.dot(x_noise.reshape((1,49)),w)\n",
        "  #print('x_noise :',x_noise)\n",
        "  y_in = y_in.reshape((63))\n",
        "  for i, vv in enumerate(y_in):\n",
        "    if y_in[i] > 0 :\n",
        "      y_temp[i] = 1\n",
        "    elif y_in[i] == 0 :\n",
        "      y_temp[i] = y_in[i]\n",
        "    elif y_in[i] < 0 :\n",
        "      y_temp[i] = -1\n",
        "\n",
        "  y_noise = replaceRandom(y_temp, noise)\n",
        "  x_in = np.dot(y_noise.reshape((1,63)),w.T)\n",
        "  x_in = x_in.reshape((49))\n",
        "  for i, vv in enumerate(x_in):\n",
        "    if x_in[i] > 0 :\n",
        "      x_temp[i] = 1\n",
        "    elif x_in[i] == 0 :\n",
        "      x_temp[i] = x_in[i]\n",
        "    elif x_in[i] < 0 :\n",
        "       x_temp[i] = -1\n",
        "  #print('x : ' ,x)\n",
        "  #print('x_temp : ' ,x_temp)\n",
        "  \n",
        "  num_true_x= 0\n",
        "  num_true_y = 0\n",
        "  for i, vv in enumerate(x):\n",
        "    if x[i] == x_temp[i]:\n",
        "      num_true_x +=1\n",
        "  \n",
        "  for i, vv in enumerate(y):\n",
        "    if y[i] == y_temp[i]:\n",
        "      num_true_y +=1\n",
        "\n",
        "  perc_true_x = num_true_x*100/x.shape[0]\n",
        "  perc_true_y = num_true_y*100/y.shape[0]\n",
        "  #print('perc_true_x : ' ,num_true_x )\n",
        "  #print('perc_true_y : ' ,num_true_y)\n",
        "\n",
        "  return perc_true_x,perc_true_y"
      ],
      "metadata": {
        "id": "bIImm-uxNQ5s"
      },
      "execution_count": 289,
      "outputs": []
    },
    {
      "cell_type": "code",
      "source": [
        "sum_x = 0\n",
        "sum_y = 0\n",
        "for i in range(100):\n",
        "  perc_true_x,perc_true_y = BAM(x_1,y_1,w,10)\n",
        "  sum_x +=perc_true_x\n",
        "  sum_y +=perc_true_y\n",
        "print('perc_true_x_after_100_iteration : ',sum_x/100)\n",
        "print('perc_true_y_after_100_iteration : ',sum_y/100)"
      ],
      "metadata": {
        "colab": {
          "base_uri": "https://localhost:8080/"
        },
        "id": "mlb41P0JYKCA",
        "outputId": "617a1d07-3cd2-4e35-ce18-31a3e5f13163"
      },
      "execution_count": 291,
      "outputs": [
        {
          "output_type": "stream",
          "name": "stdout",
          "text": [
            "perc_true_x_after_100_iteration :  100.0\n",
            "perc_true_y_after_100_iteration :  100.0\n"
          ]
        }
      ]
    },
    {
      "cell_type": "code",
      "source": [
        "sum_x = 0\n",
        "sum_y = 0\n",
        "for i in range(100):\n",
        "  perc_true_x,perc_true_y = BAM(x_1,y_1,w,20)\n",
        "  sum_x +=perc_true_x\n",
        "  sum_y +=perc_true_y\n",
        "print('perc_true_x_after_100_iteration : ',sum_x/100)\n",
        "print('perc_true_y_after_100_iteration : ',sum_y/100)"
      ],
      "metadata": {
        "colab": {
          "base_uri": "https://localhost:8080/"
        },
        "id": "cQ1NQL38QyhY",
        "outputId": "d558f871-742b-4d4d-9ea6-cc349f322445"
      },
      "execution_count": 295,
      "outputs": [
        {
          "output_type": "stream",
          "name": "stdout",
          "text": [
            "perc_true_x_after_100_iteration :  100.0\n",
            "perc_true_y_after_100_iteration :  100.0\n"
          ]
        }
      ]
    },
    {
      "cell_type": "code",
      "source": [
        "sum_x = 0\n",
        "sum_y = 0\n",
        "for i in range(100):\n",
        "  perc_true_x,perc_true_y = BAM(x_2,y_2,w,10)\n",
        "  sum_x +=perc_true_x\n",
        "  #print('perc_true_x : ', perc_true_x)\n",
        "  #print('perc_true_y : ',perc_true_y)\n",
        "  sum_y +=perc_true_y\n",
        "print('perc_true_x_after_100_iteration : ',sum_x/100)\n",
        "print('perc_true_y_after_100_iteration : ',sum_y/100)"
      ],
      "metadata": {
        "id": "DkVklYiRhodL",
        "colab": {
          "base_uri": "https://localhost:8080/"
        },
        "outputId": "fa8112c7-e724-416c-f7b6-606c20fd835d"
      },
      "execution_count": 120,
      "outputs": [
        {
          "output_type": "stream",
          "name": "stdout",
          "text": [
            "perc_true_x_after_100_iteration :  100.0\n",
            "perc_true_y_after_100_iteration :  100.0\n"
          ]
        }
      ]
    },
    {
      "cell_type": "code",
      "source": [
        "sum_x = 0\n",
        "sum_y = 0\n",
        "for i in range(100):\n",
        "  perc_true_x,perc_true_y = BAM(x_2,y_2,w,20)\n",
        "  sum_x +=perc_true_x\n",
        "  sum_y +=perc_true_y\n",
        "  #print('perc_true_x : ', perc_true_x)\n",
        "  #print('perc_true_y : ',perc_true_y)\n",
        "print('perc_true_x_after_100_iteration : ',sum_x/100)\n",
        "print('perc_true_y_after_100_iteration : ',sum_y/100)"
      ],
      "metadata": {
        "id": "tHHDHGVshoa1",
        "colab": {
          "base_uri": "https://localhost:8080/"
        },
        "outputId": "cb7c947d-5b23-44ff-fdbf-577c8a2fde93"
      },
      "execution_count": 119,
      "outputs": [
        {
          "output_type": "stream",
          "name": "stdout",
          "text": [
            "perc_true_x_after_100_iteration :  100.0\n",
            "perc_true_y_after_100_iteration :  100.0\n"
          ]
        }
      ]
    },
    {
      "cell_type": "code",
      "source": [
        "sum_x = 0\n",
        "sum_y = 0\n",
        "for i in range(100):\n",
        "  perc_true_x,perc_true_y = BAM(x_3,y_3,w,10)\n",
        "  sum_x +=perc_true_x\n",
        "  sum_y +=perc_true_y\n",
        "print('perc_true_x_after_100_iteration : ',sum_x/100)\n",
        "print('perc_true_y_after_100_iteration : ',sum_y/100)"
      ],
      "metadata": {
        "colab": {
          "base_uri": "https://localhost:8080/"
        },
        "id": "-rm08VvIYvf7",
        "outputId": "eeb8d8e3-ddda-4a91-b4cb-865b0b216fab"
      },
      "execution_count": 103,
      "outputs": [
        {
          "output_type": "stream",
          "name": "stdout",
          "text": [
            "perc_true_x_after_100_iteration :  4900.0\n",
            "perc_true_y_after_100_iteration :  6300.0\n"
          ]
        }
      ]
    },
    {
      "cell_type": "code",
      "source": [
        "sum_x = 0\n",
        "sum_y = 0\n",
        "for i in range(100):\n",
        "  perc_true_x,perc_true_y = BAM(x_3,y_3,w,20)\n",
        "  sum_x +=perc_true_x\n",
        "  sum_y +=perc_true_y\n",
        "print('perc_true_x_after_100_iteration : ',sum_x/100)\n",
        "print('perc_true_y_after_100_iteration : ',sum_y/100)"
      ],
      "metadata": {
        "colab": {
          "base_uri": "https://localhost:8080/"
        },
        "id": "Syfs4TEKYzYJ",
        "outputId": "83a8a928-b5f3-49d6-8d1f-f05e146a9a7f"
      },
      "execution_count": 296,
      "outputs": [
        {
          "output_type": "stream",
          "name": "stdout",
          "text": [
            "perc_true_x_after_100_iteration :  100.0\n",
            "perc_true_y_after_100_iteration :  100.0\n"
          ]
        }
      ]
    },
    {
      "cell_type": "markdown",
      "source": [
        "# 3"
      ],
      "metadata": {
        "id": "b1ZMsXhofSjQ"
      }
    },
    {
      "cell_type": "code",
      "source": [
        "def w_BAM(x_1,x_2,x_3,x_4, y_1, y_2, y_3,y_4):\n",
        "  w = np.zeros((49, 63))\n",
        "  st_1 = np.outer(x_1, y_1)\n",
        "  st_2 = np.outer(x_2, y_2)\n",
        "  st_3 = np.outer(x_3, y_3)\n",
        "  st_4 = np.outer(x_4, y_4)\n",
        "  w = st_1 + st_2 + st_3 + st_4\n",
        "  \n",
        "  return w"
      ],
      "metadata": {
        "id": "tUH878HhfT2v"
      },
      "execution_count": 252,
      "outputs": []
    },
    {
      "cell_type": "code",
      "source": [
        "w = w_BAM(x_1,x_2,x_3,x_4, y_1, y_2, y_3,y_4)"
      ],
      "metadata": {
        "id": "8XsP7QRgfhUe"
      },
      "execution_count": 253,
      "outputs": []
    },
    {
      "cell_type": "code",
      "source": [
        "w"
      ],
      "metadata": {
        "colab": {
          "base_uri": "https://localhost:8080/"
        },
        "id": "wIWgHhYaf__C",
        "outputId": "6730f30a-1bff-48e4-f694-afe1ef971e61"
      },
      "execution_count": 254,
      "outputs": [
        {
          "output_type": "execute_result",
          "data": {
            "text/plain": [
              "array([[4, 0, 2, ..., 3, 1, 1],\n",
              "       [0, 0, 0, ..., 0, 0, 0],\n",
              "       [0, 0, 0, ..., 0, 0, 0],\n",
              "       ...,\n",
              "       [1, 0, 1, ..., 1, 0, 0],\n",
              "       [2, 0, 1, ..., 2, 1, 0],\n",
              "       [2, 0, 1, ..., 1, 0, 1]])"
            ]
          },
          "metadata": {},
          "execution_count": 254
        }
      ]
    },
    {
      "cell_type": "code",
      "source": [
        "BAM(x_1,y_1,w)"
      ],
      "metadata": {
        "colab": {
          "base_uri": "https://localhost:8080/"
        },
        "id": "zsUY3UL-gCCy",
        "outputId": "881aa61a-c467-4836-fe98-d1d6a9dfc4d2"
      },
      "execution_count": 257,
      "outputs": [
        {
          "output_type": "stream",
          "name": "stdout",
          "text": [
            "y_temp :  [1 0 1 0 0 0 0 1 1 1 0 0 1 0 1 1 0 0 1 0 1 1 1 1 0 0 1 1 1 1 0 1 0 0 1 1 1\n",
            " 0 0 1 0 0 1 1 0 0 1 0 1 1 1 0 1 1 1 0 1 1 1 0 1 0 0]\n",
            "y : [1 0 1 0 1 1 1 1 1 1 1 1 1 1 1 1 1 1 1 1 1 1 1 1 0 1 1 1 1 1 1 1 1 0 1 1 1\n",
            " 0 1 1 1 1 1 1 0 1 1 0 1 1 1 1 1 1 1 1 1 1 1 1 1 1 1]\n",
            "x_temp :  [1 0 0 0 0 1 1 1 1 0 1 1 0 0 1 1 0 1 0 0 1 1 1 0 1 1 1 0 1 1 1 0 1 0 0 1 1\n",
            " 0 1 1 1 1 1 1 0 1 1 1 0]\n",
            "x :  [1 0 0 1 1 1 1 1 1 0 1 1 0 1 1 1 1 1 1 1 1 1 1 1 1 1 1 1 1 1 1 0 1 1 1 1 1\n",
            " 1 1 1 1 1 1 1 1 1 1 1 1]\n",
            "perc_true_x :  100.0\n",
            "perc_true_y :  100.0\n"
          ]
        },
        {
          "output_type": "execute_result",
          "data": {
            "text/plain": [
              "(100.0, 100.0)"
            ]
          },
          "metadata": {},
          "execution_count": 257
        }
      ]
    },
    {
      "cell_type": "code",
      "source": [
        "BAM(x_2,y_2,w)"
      ],
      "metadata": {
        "colab": {
          "base_uri": "https://localhost:8080/"
        },
        "id": "0_GvBDRggQrk",
        "outputId": "f3441306-1c5e-403e-8d49-01885ea59853"
      },
      "execution_count": 258,
      "outputs": [
        {
          "output_type": "stream",
          "name": "stdout",
          "text": [
            "y_temp :  [1 0 0 0 1 1 0 1 1 0 1 0 0 1 1 1 1 0 0 1 0 1 1 1 0 0 1 1 1 1 1 0 1 0 0 1 0\n",
            " 0 1 1 0 0 1 1 0 0 0 0 1 1 1 0 0 1 0 0 1 1 1 1 0 0 1]\n",
            "y : [1 0 1 0 1 1 1 1 1 1 1 1 1 1 1 1 1 1 1 1 1 1 1 1 0 1 1 1 1 1 1 1 1 0 1 1 1\n",
            " 0 1 1 1 1 1 1 0 1 1 0 1 1 1 1 1 1 1 1 1 1 1 1 1 1 1]\n",
            "x_temp :  [1 0 0 1 0 0 0 1 1 0 1 0 0 1 1 1 0 1 1 0 0 1 1 0 1 1 0 0 1 1 0 0 0 0 1 1 1\n",
            " 1 0 0 1 0 1 1 1 1 0 0 1]\n",
            "x :  [1 0 0 1 1 1 1 1 1 0 1 1 0 1 1 1 1 1 1 1 1 1 1 1 1 1 1 1 1 1 1 0 1 1 1 1 1\n",
            " 1 1 1 1 1 1 1 1 1 1 1 1]\n",
            "perc_true_x :  100.0\n",
            "perc_true_y :  100.0\n"
          ]
        },
        {
          "output_type": "execute_result",
          "data": {
            "text/plain": [
              "(100.0, 100.0)"
            ]
          },
          "metadata": {},
          "execution_count": 258
        }
      ]
    },
    {
      "cell_type": "code",
      "source": [
        "BAM(x_3,y_3,w)"
      ],
      "metadata": {
        "colab": {
          "base_uri": "https://localhost:8080/"
        },
        "id": "kg_9q-YYgTLd",
        "outputId": "86f5f793-51c1-4b66-9fb7-62284176e122"
      },
      "execution_count": 259,
      "outputs": [
        {
          "output_type": "stream",
          "name": "stdout",
          "text": [
            "y_temp :  [1 0 0 0 1 1 1 1 1 0 0 1 0 1 1 1 0 1 1 1 0 1 1 1 0 1 0 0 1 1 0 1 1 0 0 1 1\n",
            " 0 0 1 0 1 1 1 0 1 1 0 1 1 1 0 0 0 0 1 1 1 0 1 1 1 0]\n",
            "y : [1 0 1 0 1 1 1 1 1 1 1 1 1 1 1 1 1 1 1 1 1 1 1 1 0 1 1 1 1 1 1 1 1 0 1 1 1\n",
            " 0 1 1 1 1 1 1 0 1 1 0 1 1 1 1 1 1 1 1 1 1 1 1 1 1 1]\n",
            "x_temp :  [1 0 0 1 0 1 1 1 1 0 0 1 0 1 1 1 0 1 1 1 0 1 1 1 0 0 1 1 1 1 1 0 1 0 0 1 1\n",
            " 0 0 0 0 1 1 1 1 0 0 1 0]\n",
            "x :  [1 0 0 1 1 1 1 1 1 0 1 1 0 1 1 1 1 1 1 1 1 1 1 1 1 1 1 1 1 1 1 0 1 1 1 1 1\n",
            " 1 1 1 1 1 1 1 1 1 1 1 1]\n",
            "perc_true_x :  100.0\n",
            "perc_true_y :  100.0\n"
          ]
        },
        {
          "output_type": "execute_result",
          "data": {
            "text/plain": [
              "(100.0, 100.0)"
            ]
          },
          "metadata": {},
          "execution_count": 259
        }
      ]
    },
    {
      "cell_type": "code",
      "source": [
        "BAM(x_4,y_4,w)"
      ],
      "metadata": {
        "colab": {
          "base_uri": "https://localhost:8080/"
        },
        "id": "YTgnEmgOgVtR",
        "outputId": "5963a3a1-e892-4625-eae9-f5c8643c3870"
      },
      "execution_count": 260,
      "outputs": [
        {
          "output_type": "stream",
          "name": "stdout",
          "text": [
            "y_temp :  [1 0 1 0 0 1 1 1 1 1 0 1 1 1 1 1 0 0 1 0 1 1 1 0 0 1 0 1 1 1 1 0 1 0 0 1 0\n",
            " 0 0 1 1 1 1 1 0 1 0 0 1 1 1 1 0 0 1 0 1 1 0 1 1 0 0]\n",
            "y : [1 0 1 0 1 1 1 1 1 1 1 1 1 1 1 1 1 1 1 1 1 1 1 1 0 1 1 1 1 1 1 1 1 0 1 1 1\n",
            " 0 1 1 1 1 1 1 0 1 1 0 1 1 1 1 1 1 1 1 1 1 1 1 1 1 1]\n",
            "x_temp :  [1 0 0 1 1 0 0 1 1 0 0 1 0 1 1 1 1 0 1 1 0 1 1 0 1 0 0 1 1 1 1 0 0 1 1 1 1\n",
            " 0 1 0 1 1 1 1 1 1 0 0 1]\n",
            "x :  [1 0 0 1 1 1 1 1 1 0 1 1 0 1 1 1 1 1 1 1 1 1 1 1 1 1 1 1 1 1 1 0 1 1 1 1 1\n",
            " 1 1 1 1 1 1 1 1 1 1 1 1]\n",
            "perc_true_x :  100.0\n",
            "perc_true_y :  100.0\n"
          ]
        },
        {
          "output_type": "execute_result",
          "data": {
            "text/plain": [
              "(100.0, 100.0)"
            ]
          },
          "metadata": {},
          "execution_count": 260
        }
      ]
    }
  ]
}